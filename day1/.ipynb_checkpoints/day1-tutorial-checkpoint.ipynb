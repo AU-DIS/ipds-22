{
 "cells": [
  {
   "cell_type": "markdown",
   "id": "angry-packaging",
   "metadata": {},
   "source": [
    "#  Introduction to Python for Data Science - Exercises 5/9  #"
   ]
  },
  {
   "cell_type": "markdown",
   "id": "compatible-stuart",
   "metadata": {},
   "source": [
    "The following are exercises for the Introduction to Python for Data Science course, module 1. Try to get through as many as you can, but do not despair if you cannot get through them all within the time frame."
   ]
  },
  {
   "cell_type": "markdown",
   "id": "coral-rubber",
   "metadata": {},
   "source": [
    "### Exercise 1: Hello World! ###\n",
    "\n",
    "In the codebox below, write a Python program that prints out \"Hello World!\""
   ]
  },
  {
   "cell_type": "code",
   "execution_count": null,
   "id": "mental-storage",
   "metadata": {
    "scrolled": true
   },
   "outputs": [],
   "source": []
  },
  {
   "cell_type": "markdown",
   "id": "qualified-comfort",
   "metadata": {},
   "source": [
    "### Exercise 2: Simple Calculator ###\n",
    "Use Python as a simple calculator. Try addition, multiplication, subtraction, division and exponation."
   ]
  },
  {
   "cell_type": "code",
   "execution_count": null,
   "id": "necessary-imperial",
   "metadata": {},
   "outputs": [],
   "source": []
  },
  {
   "cell_type": "markdown",
   "id": "trained-librarian",
   "metadata": {},
   "source": [
    "### Exercise 3: Magic spell ###\n",
    "Write a program that takes an integer n as input, and prints \"Abracadabra\" n times."
   ]
  },
  {
   "cell_type": "code",
   "execution_count": null,
   "id": "acknowledged-victoria",
   "metadata": {},
   "outputs": [],
   "source": [
    "n = int(input())\n",
    "### YOUR CODE HERE ###\n",
    "\n",
    "### YOUR CODE HERE ###"
   ]
  },
  {
   "cell_type": "markdown",
   "id": "undefined-intro",
   "metadata": {},
   "source": [
    "### Exercise 4: Dice Cup ###\n",
    "\n",
    "Write a program that rolls two dices and prints their sum.\n",
    "To get a random number, i.e. a dice roll, use random.randint(1,6)"
   ]
  },
  {
   "cell_type": "code",
   "execution_count": null,
   "id": "superior-holocaust",
   "metadata": {
    "scrolled": true
   },
   "outputs": [],
   "source": [
    "import random\n",
    "### YOUR CODE HERE ###\n",
    "\n",
    "### YOUR CODE HERE ###"
   ]
  },
  {
   "cell_type": "markdown",
   "id": "latin-brick",
   "metadata": {},
   "source": [
    "Now extend your implementation, to roll the dice cup 3 times, and print the total sum."
   ]
  },
  {
   "cell_type": "code",
   "execution_count": null,
   "id": "beneficial-worship",
   "metadata": {},
   "outputs": [],
   "source": []
  },
  {
   "cell_type": "markdown",
   "id": "covered-theme",
   "metadata": {},
   "source": [
    "### Exercise 5: Dogs Dinner ###\n",
    "\n",
    "Write a program that takes two strings as input. Swap the first two characters of the two strings, and print the result.\n",
    "\n",
    "Ex: \"dogs\", \"dinner\" $\\rightarrow$ \"digs donner\""
   ]
  },
  {
   "cell_type": "code",
   "execution_count": null,
   "id": "sweet-shoot",
   "metadata": {},
   "outputs": [],
   "source": []
  },
  {
   "cell_type": "markdown",
   "id": "complicated-conditioning",
   "metadata": {},
   "source": [
    "### Exercise 6: Fizzbuzz ###\n",
    "Write a program that plays the game FizzBuzz - print the numbers from 1 to 20, but replace numbers divisible by 3 with \"Fizz\", numbers divisible by 5 with \"Buzz\", and if the number is divisible by both 3 and 5, replace it with \"FizzBuzz\".\n",
    "\n",
    "Hint: Use the modulo operator % to test divisibility."
   ]
  },
  {
   "cell_type": "code",
   "execution_count": null,
   "id": "recovered-ethics",
   "metadata": {},
   "outputs": [],
   "source": []
  },
  {
   "cell_type": "markdown",
   "id": "arabic-lottery",
   "metadata": {},
   "source": [
    "### Exercise 7: Nested Lists ###\n",
    "\n",
    "From the following list, access and print the word \"snek\"\n",
    "\n",
    "(Remember: Indexes start at 0)"
   ]
  },
  {
   "cell_type": "code",
   "execution_count": null,
   "id": "lyric-poker",
   "metadata": {},
   "outputs": [],
   "source": [
    "nested_list = [0, 1, 2, [3, 4], [5, [6, 7, [8, 9], [10, \"snek\", 11], [12]]], 13]\n",
    "\n",
    "### YOUR CODE HERE ###"
   ]
  },
  {
   "cell_type": "markdown",
   "id": "moved-nevada",
   "metadata": {},
   "source": [
    "### Exercise 8: Albums ###\n",
    "Sort the following list of albums in alphabetical order:"
   ]
  },
  {
   "cell_type": "code",
   "execution_count": null,
   "id": "happy-sampling",
   "metadata": {},
   "outputs": [],
   "source": [
    "albums = [\"In The Court of the Crimson King\",\"Lizard\", \"Larks' Tongues in Aspic\", \"Red\", \"Discipline\"]\n",
    "\n",
    "### YOUR CODE HERE ###"
   ]
  },
  {
   "cell_type": "markdown",
   "id": "caroline-messaging",
   "metadata": {},
   "source": [
    "These albums were released in 1969, 1970, 1973, 1974 and 1981, respectively. Create a dictionary with release year as keys, and album titles as values. Print the album corresponding to 1970 to check your answer."
   ]
  },
  {
   "cell_type": "code",
   "execution_count": null,
   "id": "gothic-nigeria",
   "metadata": {},
   "outputs": [],
   "source": []
  },
  {
   "cell_type": "markdown",
   "id": "functional-trading",
   "metadata": {},
   "source": [
    "#### Bonus Exercise: #### \n",
    "do the above exercise without writing out the album titles in the dictionary (use the already existing albums list)"
   ]
  },
  {
   "cell_type": "code",
   "execution_count": null,
   "id": "adult-disability",
   "metadata": {},
   "outputs": [],
   "source": []
  },
  {
   "cell_type": "markdown",
   "id": "associate-orleans",
   "metadata": {},
   "source": [
    "### Exercise 8: List Product ###\n",
    "You can use the Python function sum() to add all elements of a list together. Write a similar function that multiplies all elements of a list together. Test your function on the below list"
   ]
  },
  {
   "cell_type": "code",
   "execution_count": null,
   "id": "reported-tucson",
   "metadata": {},
   "outputs": [],
   "source": [
    "my_list = [3, 4, 7, 10, 2, 4, 5]\n",
    "\n",
    "### YOUR CODE HERE ###"
   ]
  },
  {
   "cell_type": "markdown",
   "id": "designing-covering",
   "metadata": {},
   "source": [
    "### Exercise 9: Recursion ###\n",
    "The Fibonacci sequence works as follows: Take the two previous numbers, and add them together to create a new number. It starts with 0 and 1, and goes: $$0, 1, 1, 2, 3, 5, 8, 13... $$\n",
    "Write a function that, given an integer $n$, computes the $n$'th Fibonacci number. Use this recursive formula: \n",
    "$$F_n = F_{n-1} + F_{n-2} $$\n",
    "where $F_n$ is the $n$'th Fibonacci number"
   ]
  },
  {
   "cell_type": "code",
   "execution_count": null,
   "id": "union-kidney",
   "metadata": {},
   "outputs": [],
   "source": []
  },
  {
   "cell_type": "markdown",
   "id": "racial-simon",
   "metadata": {},
   "source": [
    "### Exercise 10: Complex Numbers ###\n",
    "Create a Complex class, for [complex numbers](https://en.wikipedia.org/wiki/Complex_number). It should have two float fields (real and imaginary part) and four functions: init, absolute value, conjugation and addition.\n",
    "\n",
    "(If you're rusty on your complex algebra, take a look at: https://en.wikipedia.org/wiki/Complex_number#Relations_and_operations)"
   ]
  },
  {
   "cell_type": "code",
   "execution_count": null,
   "id": "exceptional-blowing",
   "metadata": {},
   "outputs": [],
   "source": [
    "import math\n",
    "\n",
    "class Complex:\n",
    "    r = None\n",
    "    i = None\n",
    "    \n",
    "    def __init__(self, realpart, imagpart):\n",
    "        self.r = realpart\n",
    "        self.i = imagpart\n",
    "    \n",
    "    def conjugate(self):\n",
    "        conj = None\n",
    "        ### YOUR CODE HERE\n",
    "        return conj\n",
    "    \n",
    "    def modulus(self):\n",
    "        mod = None\n",
    "        ### YOUR CODE HERE\n",
    "        return mod\n",
    "        \n",
    "    def add(self, realpart, imagpart):\n",
    "        s = None\n",
    "        ## YOUR CODE HERE\n",
    "        return s"
   ]
  },
  {
   "cell_type": "markdown",
   "id": "white-chemistry",
   "metadata": {},
   "source": [
    "Test your implementation by running the code below:"
   ]
  },
  {
   "cell_type": "code",
   "execution_count": null,
   "id": "filled-statement",
   "metadata": {},
   "outputs": [],
   "source": [
    "z = Complex(3, 4)\n",
    "print(\"z = \" + str(z.r) + \" + \" + str(z.i) + \"i\")\n",
    "z_conj = z.conjugate()\n",
    "print(\"z conjugated = \" + str(z_conj.r) + str(z_conj.i) + \"i\")\n",
    "z_mod = z.modulus()\n",
    "print(\"|z| =\", z_mod)\n",
    "z_add = z.add(4, 3)\n",
    "print(\"z + (4 + 3i) = \" + str(z_add.r) + \" + \" + str(z_add.i)+\"i\")"
   ]
  },
  {
   "cell_type": "markdown",
   "id": "exclusive-mistake",
   "metadata": {},
   "source": [
    "### Exercise 11: Division by Zero ###\n",
    "The below codebox crashes. Use try/except to rewrite the division function to handle the exception and print \"Division by zero\" instead"
   ]
  },
  {
   "cell_type": "code",
   "execution_count": null,
   "id": "refined-occasions",
   "metadata": {},
   "outputs": [],
   "source": [
    "def division(n, d):\n",
    "    return n/d\n",
    "\n",
    "division(1, 0)"
   ]
  },
  {
   "cell_type": "markdown",
   "id": "illegal-registrar",
   "metadata": {},
   "source": [
    "### Exercise 12: Write and Run a Python File ###\n",
    "Write a python file \"my_file\", in which you import the function foo from util.py. Use this function on the string \"foo\" and print the result. Any text-editing tool works, but if you want, you can try the [PyCharm IDE](https://www.jetbrains.com/pycharm/) which most python programmers use.\n",
    "\n",
    "Run the python file in the command line by typing \"python my_file.py\" (if you get an error, try \"python3 my_file.py\""
   ]
  }
 ],
 "metadata": {
  "kernelspec": {
   "display_name": "Python 3",
   "language": "python",
   "name": "python3"
  },
  "language_info": {
   "codemirror_mode": {
    "name": "ipython",
    "version": 3
   },
   "file_extension": ".py",
   "mimetype": "text/x-python",
   "name": "python",
   "nbconvert_exporter": "python",
   "pygments_lexer": "ipython3",
   "version": "3.8.10"
  }
 },
 "nbformat": 4,
 "nbformat_minor": 5
}
