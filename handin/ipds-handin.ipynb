{
 "cells": [
  {
   "cell_type": "markdown",
   "id": "charming-retailer",
   "metadata": {},
   "source": [
    "# Introduction to Python for Data Science - Handin #\n",
    "\n",
    "## YOUR NAME HERE ##\n",
    "\n",
    "This handin is indiviual and mandatory to pass the course. All exercises must be completed.\n",
    "\n",
    "Hand in this .ipynb file, no later than 15/8 at 23:59. "
   ]
  },
  {
   "cell_type": "code",
   "execution_count": 1,
   "id": "hispanic-exhaust",
   "metadata": {},
   "outputs": [],
   "source": [
    "# Do not touch!\n",
    "import numpy as np\n",
    "import pandas as pd\n",
    "import wbgapi as wbg"
   ]
  },
  {
   "cell_type": "markdown",
   "id": "hindu-bench",
   "metadata": {},
   "source": [
    "# Exercise 1: The Iris Dataset\n",
    "The [iris dataset](https://archive.ics.uci.edu/ml/datasets/iris) is a very popular data set for teaching data science. It contains 3 classes of iris flowers, with 50 instances each. In this handin, we will use a modified version of the data set.\n",
    "\n",
    "### Part 1 ### \n",
    "Import the modified iris dataset. It is located in the \"data\" folder as $\\texttt{iris.csv}$."
   ]
  },
  {
   "cell_type": "code",
   "execution_count": null,
   "id": "seeing-nursery",
   "metadata": {},
   "outputs": [],
   "source": []
  },
  {
   "cell_type": "markdown",
   "id": "governmental-velvet",
   "metadata": {},
   "source": [
    "### Part 2 ###\n",
    "Change the names in the Class coloumn from Iris-setosa, Iris-versicolour and Iris-virginica to setosa, versicolour, virginica."
   ]
  },
  {
   "cell_type": "code",
   "execution_count": null,
   "id": "favorite-montreal",
   "metadata": {},
   "outputs": [],
   "source": []
  },
  {
   "cell_type": "markdown",
   "id": "musical-following",
   "metadata": {},
   "source": [
    "### Part 3\n",
    "Remove all rows with NaN values from the Data Frame."
   ]
  },
  {
   "cell_type": "code",
   "execution_count": null,
   "id": "trying-arkansas",
   "metadata": {},
   "outputs": [],
   "source": []
  },
  {
   "cell_type": "markdown",
   "id": "official-memorabilia",
   "metadata": {},
   "source": [
    "### Part 4\n",
    "Some of the float values in the first four coloums have a \"\\n\", so python reads the columns as strings. Remove the newlines from the Data Frame"
   ]
  },
  {
   "cell_type": "code",
   "execution_count": null,
   "id": "unable-scanner",
   "metadata": {},
   "outputs": [],
   "source": []
  },
  {
   "cell_type": "markdown",
   "id": "digital-airline",
   "metadata": {},
   "source": [
    "### Part 5\n",
    "Now with the newlines gone, convert the string values in the first four coloumns to floating points"
   ]
  },
  {
   "cell_type": "code",
   "execution_count": null,
   "id": "stable-morning",
   "metadata": {},
   "outputs": [],
   "source": []
  },
  {
   "cell_type": "markdown",
   "id": "editorial-finland",
   "metadata": {},
   "source": [
    "### Part 6 ###\n",
    "Make a scatter plot of the data, with Sepal length as the x-axis and sepal width as y-axis. The points should have one of three colours, depending on class."
   ]
  },
  {
   "cell_type": "code",
   "execution_count": 4,
   "id": "national-aging",
   "metadata": {},
   "outputs": [
    {
     "ename": "NameError",
     "evalue": "name 'iris' is not defined",
     "output_type": "error",
     "traceback": [
      "\u001b[0;31m---------------------------------------------------------------------------\u001b[0m",
      "\u001b[0;31mNameError\u001b[0m                                 Traceback (most recent call last)",
      "\u001b[0;32m<ipython-input-4-1df17fba6c6d>\u001b[0m in \u001b[0;36m<module>\u001b[0;34m\u001b[0m\n\u001b[0;32m----> 1\u001b[0;31m \u001b[0mlabels\u001b[0m \u001b[0;34m=\u001b[0m \u001b[0;34m{\u001b[0m\u001b[0my\u001b[0m\u001b[0;34m:\u001b[0m \u001b[0mx\u001b[0m \u001b[0;32mfor\u001b[0m \u001b[0mx\u001b[0m\u001b[0;34m,\u001b[0m\u001b[0my\u001b[0m \u001b[0;32min\u001b[0m \u001b[0menumerate\u001b[0m\u001b[0;34m(\u001b[0m\u001b[0mset\u001b[0m\u001b[0;34m(\u001b[0m\u001b[0miris\u001b[0m\u001b[0;34m[\u001b[0m\u001b[0;34m\"Class\"\u001b[0m\u001b[0;34m]\u001b[0m\u001b[0;34m)\u001b[0m\u001b[0;34m)\u001b[0m\u001b[0;34m}\u001b[0m \u001b[0;31m# if your data frame is named something other than iris\u001b[0m\u001b[0;34m\u001b[0m\u001b[0;34m\u001b[0m\u001b[0m\n\u001b[0m\u001b[1;32m      2\u001b[0m \u001b[0mcolors\u001b[0m \u001b[0;34m=\u001b[0m \u001b[0;34m[\u001b[0m\u001b[0mlabels\u001b[0m\u001b[0;34m[\u001b[0m\u001b[0mx\u001b[0m\u001b[0;34m]\u001b[0m \u001b[0;32mfor\u001b[0m \u001b[0mx\u001b[0m \u001b[0;32min\u001b[0m \u001b[0miris\u001b[0m\u001b[0;34m[\u001b[0m\u001b[0;34m\"Class\"\u001b[0m\u001b[0;34m]\u001b[0m\u001b[0;34m]\u001b[0m              \u001b[0;31m# change the name in these two lines\u001b[0m\u001b[0;34m\u001b[0m\u001b[0;34m\u001b[0m\u001b[0m\n\u001b[1;32m      3\u001b[0m \u001b[0;34m\u001b[0m\u001b[0m\n\u001b[1;32m      4\u001b[0m \u001b[0;31m### YOUR CODE HERE ###\u001b[0m\u001b[0;34m\u001b[0m\u001b[0;34m\u001b[0m\u001b[0;34m\u001b[0m\u001b[0m\n",
      "\u001b[0;31mNameError\u001b[0m: name 'iris' is not defined"
     ]
    }
   ],
   "source": [
    "labels = {y: x for x,y in enumerate(set(iris[\"Class\"]))} # if your data frame is named something other than iris\n",
    "colors = [labels[x] for x in iris[\"Class\"]]              # change the name in these two lines\n",
    "\n",
    "### YOUR CODE HERE ###"
   ]
  },
  {
   "cell_type": "markdown",
   "id": "tight-doctor",
   "metadata": {},
   "source": [
    "Make a scatter plot with petal length as x-axis and petal width as y-axis. Can we determine the kind of iris flower based on petal and sepal measurements? (Write 1-2 lines of reflection)"
   ]
  },
  {
   "cell_type": "code",
   "execution_count": 5,
   "id": "changed-prize",
   "metadata": {
    "scrolled": true
   },
   "outputs": [],
   "source": [
    "### YOUR CODE HERE ###"
   ]
  },
  {
   "cell_type": "markdown",
   "id": "industrial-facing",
   "metadata": {},
   "source": [
    "##### YOUR ANSWER HERE (1-2 lines) #####"
   ]
  },
  {
   "cell_type": "markdown",
   "id": "medical-nomination",
   "metadata": {},
   "source": [
    "### Part 7 ###\n",
    "Find the correlation between petal length and width, and the correlation between sepal length and width."
   ]
  },
  {
   "cell_type": "code",
   "execution_count": null,
   "id": "passing-plant",
   "metadata": {},
   "outputs": [],
   "source": []
  },
  {
   "cell_type": "markdown",
   "id": "younger-chess",
   "metadata": {},
   "source": [
    "# Exercise 2: GDP and CO2 Emissions\n",
    "In this exercise, we will look at the correlation between GDP per capita and CO2 emissions from each country. We will be using the World Bank's World Development Indicators API that we used in the exercises to access the data.\n",
    "\n",
    "### Part 1\n",
    "Import the datasets by running the code below. Remove the coloumns for years 2018, 2020, 2021."
   ]
  },
  {
   "cell_type": "code",
   "execution_count": 6,
   "id": "threaded-share",
   "metadata": {},
   "outputs": [
    {
     "data": {
      "text/html": [
       "<div>\n",
       "<style scoped>\n",
       "    .dataframe tbody tr th:only-of-type {\n",
       "        vertical-align: middle;\n",
       "    }\n",
       "\n",
       "    .dataframe tbody tr th {\n",
       "        vertical-align: top;\n",
       "    }\n",
       "\n",
       "    .dataframe thead th {\n",
       "        text-align: right;\n",
       "    }\n",
       "</style>\n",
       "<table border=\"1\" class=\"dataframe\">\n",
       "  <thead>\n",
       "    <tr style=\"text-align: right;\">\n",
       "      <th></th>\n",
       "      <th>economy</th>\n",
       "      <th>YR2019</th>\n",
       "      <th>YR2020</th>\n",
       "      <th>YR2021</th>\n",
       "    </tr>\n",
       "  </thead>\n",
       "  <tbody>\n",
       "    <tr>\n",
       "      <th>0</th>\n",
       "      <td>ABW</td>\n",
       "      <td>31135.884356</td>\n",
       "      <td>23384.298791</td>\n",
       "      <td>NaN</td>\n",
       "    </tr>\n",
       "    <tr>\n",
       "      <th>1</th>\n",
       "      <td>AFE</td>\n",
       "      <td>1511.309259</td>\n",
       "      <td>1360.878645</td>\n",
       "      <td>1557.722682</td>\n",
       "    </tr>\n",
       "    <tr>\n",
       "      <th>2</th>\n",
       "      <td>AFG</td>\n",
       "      <td>494.179350</td>\n",
       "      <td>516.747871</td>\n",
       "      <td>NaN</td>\n",
       "    </tr>\n",
       "    <tr>\n",
       "      <th>3</th>\n",
       "      <td>AFW</td>\n",
       "      <td>1777.852822</td>\n",
       "      <td>1709.764129</td>\n",
       "      <td>1774.921218</td>\n",
       "    </tr>\n",
       "    <tr>\n",
       "      <th>4</th>\n",
       "      <td>AGO</td>\n",
       "      <td>2177.799015</td>\n",
       "      <td>1631.431691</td>\n",
       "      <td>2137.909393</td>\n",
       "    </tr>\n",
       "  </tbody>\n",
       "</table>\n",
       "</div>"
      ],
      "text/plain": [
       "  economy        YR2019        YR2020       YR2021\n",
       "0     ABW  31135.884356  23384.298791          NaN\n",
       "1     AFE   1511.309259   1360.878645  1557.722682\n",
       "2     AFG    494.179350    516.747871          NaN\n",
       "3     AFW   1777.852822   1709.764129  1774.921218\n",
       "4     AGO   2177.799015   1631.431691  2137.909393"
      ]
     },
     "execution_count": 6,
     "metadata": {},
     "output_type": "execute_result"
    }
   ],
   "source": [
    "co2 = wbg.data.DataFrame(series=['EN.ATM.CO2E.PC'], mrv=2).reset_index()\n",
    "gdp_pc = wbg.data.DataFrame(series=['NY.GDP.PCAP.CD'], mrv=3).reset_index()\n",
    "gdp_pc.head()"
   ]
  },
  {
   "cell_type": "code",
   "execution_count": 7,
   "id": "dangerous-mechanics",
   "metadata": {},
   "outputs": [
    {
     "data": {
      "text/html": [
       "<div>\n",
       "<style scoped>\n",
       "    .dataframe tbody tr th:only-of-type {\n",
       "        vertical-align: middle;\n",
       "    }\n",
       "\n",
       "    .dataframe tbody tr th {\n",
       "        vertical-align: top;\n",
       "    }\n",
       "\n",
       "    .dataframe thead th {\n",
       "        text-align: right;\n",
       "    }\n",
       "</style>\n",
       "<table border=\"1\" class=\"dataframe\">\n",
       "  <thead>\n",
       "    <tr style=\"text-align: right;\">\n",
       "      <th></th>\n",
       "      <th>economy</th>\n",
       "      <th>YR2018</th>\n",
       "      <th>YR2019</th>\n",
       "    </tr>\n",
       "  </thead>\n",
       "  <tbody>\n",
       "    <tr>\n",
       "      <th>0</th>\n",
       "      <td>ABW</td>\n",
       "      <td>NaN</td>\n",
       "      <td>NaN</td>\n",
       "    </tr>\n",
       "    <tr>\n",
       "      <th>1</th>\n",
       "      <td>AFE</td>\n",
       "      <td>0.917507</td>\n",
       "      <td>0.913618</td>\n",
       "    </tr>\n",
       "    <tr>\n",
       "      <th>2</th>\n",
       "      <td>AFG</td>\n",
       "      <td>0.163295</td>\n",
       "      <td>0.159824</td>\n",
       "    </tr>\n",
       "    <tr>\n",
       "      <th>3</th>\n",
       "      <td>AFW</td>\n",
       "      <td>0.486456</td>\n",
       "      <td>0.493923</td>\n",
       "    </tr>\n",
       "    <tr>\n",
       "      <th>4</th>\n",
       "      <td>AGO</td>\n",
       "      <td>0.777675</td>\n",
       "      <td>0.792137</td>\n",
       "    </tr>\n",
       "  </tbody>\n",
       "</table>\n",
       "</div>"
      ],
      "text/plain": [
       "  economy    YR2018    YR2019\n",
       "0     ABW       NaN       NaN\n",
       "1     AFE  0.917507  0.913618\n",
       "2     AFG  0.163295  0.159824\n",
       "3     AFW  0.486456  0.493923\n",
       "4     AGO  0.777675  0.792137"
      ]
     },
     "execution_count": 7,
     "metadata": {},
     "output_type": "execute_result"
    }
   ],
   "source": [
    "co2.head()"
   ]
  },
  {
   "cell_type": "code",
   "execution_count": 8,
   "id": "authentic-bracket",
   "metadata": {},
   "outputs": [],
   "source": [
    "### YOUR CODE HERE"
   ]
  },
  {
   "cell_type": "markdown",
   "id": "variable-version",
   "metadata": {},
   "source": [
    "### Part 2\n",
    "Give the columns of the two dataframes meaningful names."
   ]
  },
  {
   "cell_type": "code",
   "execution_count": 9,
   "id": "contained-concert",
   "metadata": {},
   "outputs": [],
   "source": [
    "### YOUR CODE HERE"
   ]
  },
  {
   "cell_type": "markdown",
   "id": "split-authority",
   "metadata": {},
   "source": [
    "### Part 3\n",
    "Merge the two dataframes"
   ]
  },
  {
   "cell_type": "code",
   "execution_count": null,
   "id": "sticky-orbit",
   "metadata": {},
   "outputs": [],
   "source": []
  },
  {
   "cell_type": "markdown",
   "id": "driving-banner",
   "metadata": {},
   "source": [
    "### Part 4\n",
    "Compute the correlation between CO2 emissions and GDP per capita in 2019. Try to visualise the correlation."
   ]
  },
  {
   "cell_type": "code",
   "execution_count": null,
   "id": "fancy-ghost",
   "metadata": {},
   "outputs": [],
   "source": []
  }
 ],
 "metadata": {
  "kernelspec": {
   "display_name": "Python 3",
   "language": "python",
   "name": "python3"
  },
  "language_info": {
   "codemirror_mode": {
    "name": "ipython",
    "version": 3
   },
   "file_extension": ".py",
   "mimetype": "text/x-python",
   "name": "python",
   "nbconvert_exporter": "python",
   "pygments_lexer": "ipython3",
   "version": "3.8.10"
  }
 },
 "nbformat": 4,
 "nbformat_minor": 5
}
