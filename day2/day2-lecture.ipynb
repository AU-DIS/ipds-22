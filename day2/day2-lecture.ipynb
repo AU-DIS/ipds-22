{
 "cells": [
  {
   "cell_type": "markdown",
   "id": "c5796aa9-dd3b-4c46-a02e-c91ddbb398eb",
   "metadata": {},
   "source": [
    "# Introduction to Python for Data Science - Day 2\n",
    "\n",
    "Welcome to the second day of the course. These notebooks will guide through the two days of the course. \n",
    "They are designed for you to repreduce and play, so feel free to modify the content. \n",
    "\n",
    "In particular, the course is split into \"theory\" and \"lab\" sessions. \n",
    "- The theory sessions are in the morning and show hands-on how the main concept works\n",
    "- The lab session are afternoon exercises designed to understand and try the concepts learn in the morning. \n",
    "\n",
    "The schedule for day 2 is the following\n",
    "\n",
    " | Time | Topic |\n",
    " --- | --- |\n",
    " 9.00-10.00 | numpy |\n",
    "11.00-11.00 | pandas |\n",
    "11.00-12.00 | data loading, cleaning |\n",
    "12.00-13.00 | **Lunch break**\n",
    "13.00-14.00 | plotting |\n",
    "14.00-15.00 | data analysis with pandas, numpy, and matplotlib |\n",
    " \n",
    "\n",
    "In this second day, we will look at the main libraries for data analysis, numpy, pandas, and matplotlib. \n",
    "Please make sure that the concepts of the first day are well understood and crystalized, as they will be instrumental for the understanding of today's lecture. \n",
    "\n",
    "Please create an account in Google to access colab or, if you want, use Jupyter notebook in your laptop. \n",
    "\n",
    "**Acknowledgments**\n",
    "\n",
    "The material in this day is adapted from \n",
    "1. Chapters 4, 5, 6 in the book \n",
    "> [Python for Data Analysis, 3rd Edition](https://wesmckinney.com/book/) by Wes McKinney, published by O'Reilly Media.\n",
    "The original jupyter notebooks can be found at the [book's Github repository](https://github.com/wesm/pydata-book/tree/3rd-edition).\n",
    "  \n",
    "2. Additional material has been adapted from [Python for Data Science course](https://github.com/worldbank/Python-for-Data-Science/) developed by Nick Jones, Dharana Rijal, Charles Fox and Gaurav Bhardwaj.\n"
   ]
  },
  {
   "cell_type": "markdown",
   "id": "5afc0477-4ef8-4548-aaed-79da7663c28f",
   "metadata": {
    "jp-MarkdownHeadingCollapsed": true,
    "tags": []
   },
   "source": [
    "## NumPy\n",
    "\n",
    "NumPy, which stands for Numerical Python, is a fundamental package for high performance scientific computing and data analysis.\n",
    "\n",
    "NumPy is the basic for all algebraic manipulation of the data as well as more advanced libraries, such as scikit-learn, pytorch (at least in semantics), and (partially) pandas. \n",
    "If you are familiar with Matlab, you will find NumPy extremely simple and intuitive. \n",
    "\n",
    "The NumPy array (ndarray) is a highly efficient way of storing and manipulating numerical data.\n",
    "\n",
    "If you are familiar with linear algebra you can think of a ndarray as a vector, matrix, or tensor. "
   ]
  },
  {
   "cell_type": "code",
   "execution_count": 46,
   "id": "6cc80d0c-871c-44c9-ab5a-aa82a58e523e",
   "metadata": {},
   "outputs": [],
   "source": [
    "import numpy as np\n",
    "from IPython.display import Image"
   ]
  },
  {
   "cell_type": "code",
   "execution_count": 47,
   "id": "c83087ee-73e7-4e38-8ee5-0fa3d58a3e0d",
   "metadata": {},
   "outputs": [
    {
     "data": {
      "image/png": "[encoded data removed]",
      "text/plain": [
       "<IPython.core.display.Image object>"
      ]
     },
     "execution_count": 47,
     "metadata": {},
     "output_type": "execute_result"
    }
   ],
   "source": [
    "Image(r'https://raw.githubusercontent.com/worldbank/Python-for-Data-Science/master/July_2019_Poverty_GP/day_1/images/numpy_array_indexing.png')"
   ]
  },
  {
   "cell_type": "markdown",
   "id": "04526f87-cad4-4fcb-8414-908646a65f03",
   "metadata": {},
   "source": [
    "### Create NumPy Arrays"
   ]
  },
  {
   "cell_type": "markdown",
   "id": "2015431e-2b99-452f-afe8-505bf1b3068f",
   "metadata": {},
   "source": [
    "Create an array from a range of numbers. "
   ]
  },
  {
   "cell_type": "code",
   "execution_count": 48,
   "id": "215340da-bbbc-4771-8d69-4a76cc6cd30f",
   "metadata": {},
   "outputs": [
    {
     "data": {
      "text/plain": [
       "array([     0,      1,      2, ..., 999997, 999998, 999999])"
      ]
     },
     "execution_count": 48,
     "metadata": {},
     "output_type": "execute_result"
    }
   ],
   "source": [
    "my_arr = np.arange(1_000_000)\n",
    "my_arr"
   ]
  },
  {
   "cell_type": "code",
   "execution_count": 49,
   "id": "c37eb4fb-9466-4c41-8d9c-057c72316cda",
   "metadata": {},
   "outputs": [
    {
     "data": {
      "text/plain": [
       "array([1, 2, 3, 4])"
      ]
     },
     "execution_count": 49,
     "metadata": {},
     "output_type": "execute_result"
    }
   ],
   "source": [
    "# create a 1 dimensional array array1\n",
    "my_list=[1,2,3,4]\n",
    "\n",
    "array1=np.array(my_list)\n",
    "array1"
   ]
  },
  {
   "cell_type": "code",
   "execution_count": 50,
   "id": "8c2bd455-f17c-44e0-b3c2-613ed6b9775b",
   "metadata": {},
   "outputs": [
    {
     "data": {
      "text/plain": [
       "array([[1, 2, 3, 4],\n",
       "       [5, 6, 7, 8]])"
      ]
     },
     "execution_count": 50,
     "metadata": {},
     "output_type": "execute_result"
    }
   ],
   "source": [
    "# create a 2 dimensional array \n",
    "array2 = np.array([[1,2,3,4], [5,6,7,8]], dtype=np.int64)\n",
    "array2"
   ]
  },
  {
   "cell_type": "markdown",
   "id": "92845203-25a0-4af9-9648-77ac73888504",
   "metadata": {},
   "source": [
    "**Note**: NumPy can recognize the type of the array automatically, but sometimes it is useful to specify what types. The list of types is the following: \n",
    "\n",
    "| Type                                    | Type code      | Description                                                                                                                  |\n",
    "| --------------------------------------- | -------------- | ---------------------------------------------------------------------------------------------------------------------------- |\n",
    "| `int8, uint8`                           | `i1, u1`       | Signed and unsigned 8-bit (1 byte) integer types                                                                             |\n",
    "| `int16, uint16`                         | `i2, u2`       | Signed and unsigned 16-bit integer types                                                                                     |\n",
    "| `int32, uint32`                         | `i4, u4`       | Signed and unsigned 32-bit integer types                                                                                     |\n",
    "| `int64, uint64`                         | `i8, u8`       | Signed and unsigned 64-bit integer types                                                                                     |\n",
    "| `float16`                               | `f2`           | Half-precision floating point                                                                                                |\n",
    "| `float32`                               | `f4 or f`      | Standard single-precision floating point; compatible with C float                                                            |\n",
    "| `float64`                               | `f8 or d`      | Standard double-precision floating point; compatible with C double and Python `float` object                                 |\n",
    "| `float128`                              | `f16 or g`     | Extended-precision floating point                                                                                            |\n",
    "| `complex64`, `complex128`, `complex256` | `c8, c16, c32` | Complex numbers represented by two 32, 64, or 128 floats, respectively                                                       |\n",
    "| `bool`                                  | ?              | Boolean type storing `True` and `False` values                                                                               |\n",
    "| `object`                                | O              | Python object type; a value can be any Python object                                                                         |\n",
    "| `string_`                               | S              | Fixed-length ASCII string type (1 byte per character); for example, to create a string data type with length 10, use `'S10'` |\n",
    "| `unicode_`                              | U              | Fixed-length Unicode type (number of bytes platform specific); same specification semantics as `string_` (e.g., `'U10'`)     |"
   ]
  },
  {
   "cell_type": "code",
   "execution_count": 51,
   "id": "c51f4a03-ce6f-441c-878e-13085d051e62",
   "metadata": {},
   "outputs": [
    {
     "data": {
      "text/plain": [
       "array([[[1, 2, 3],\n",
       "        [4, 5, 6]],\n",
       "\n",
       "       [[1, 2, 3],\n",
       "        [4, 5, 6]]])"
      ]
     },
     "execution_count": 51,
     "metadata": {},
     "output_type": "execute_result"
    }
   ],
   "source": [
    "# create a 3 dimensional array\n",
    "array3=np.array([[[1,2,3],[4,5,6]],\n",
    "                [[1,2,3],[4,5,6]]])\n",
    "array3"
   ]
  },
  {
   "cell_type": "markdown",
   "id": "99e1d9d2-5bd0-4581-8d89-815ad8599586",
   "metadata": {},
   "source": [
    "#### Look up info on the array\n",
    "\n",
    "NumPy has a number of (meta)-information associated to each array. "
   ]
  },
  {
   "cell_type": "code",
   "execution_count": 52,
   "id": "ab63811a-be13-40c8-b668-10ee3651c1ad",
   "metadata": {},
   "outputs": [],
   "source": [
    "my_array=array2"
   ]
  },
  {
   "cell_type": "code",
   "execution_count": 53,
   "id": "e1c1bb3b-1529-4441-a113-a3fb88b44a88",
   "metadata": {},
   "outputs": [
    {
     "data": {
      "text/plain": [
       "2"
      ]
     },
     "execution_count": 53,
     "metadata": {},
     "output_type": "execute_result"
    }
   ],
   "source": [
    "# number of dimensions\n",
    "my_array.ndim"
   ]
  },
  {
   "cell_type": "code",
   "execution_count": 54,
   "id": "5622e3d3-46ef-49dc-a28e-34e03fd7c56d",
   "metadata": {},
   "outputs": [
    {
     "data": {
      "text/plain": [
       "(2, 4)"
      ]
     },
     "execution_count": 54,
     "metadata": {},
     "output_type": "execute_result"
    }
   ],
   "source": [
    "# shape of the array\n",
    "my_array.shape"
   ]
  },
  {
   "cell_type": "code",
   "execution_count": 55,
   "id": "4ea8e1f6-4b66-49b2-95aa-84e55c911f12",
   "metadata": {},
   "outputs": [
    {
     "data": {
      "text/plain": [
       "8"
      ]
     },
     "execution_count": 55,
     "metadata": {},
     "output_type": "execute_result"
    }
   ],
   "source": [
    "# number of elements\n",
    "my_array.size"
   ]
  },
  {
   "cell_type": "code",
   "execution_count": 56,
   "id": "be3b8d01-2645-4843-b5fd-ae202200508c",
   "metadata": {},
   "outputs": [
    {
     "data": {
      "text/plain": [
       "dtype('int64')"
      ]
     },
     "execution_count": 56,
     "metadata": {},
     "output_type": "execute_result"
    }
   ],
   "source": [
    "#data type\n",
    "my_array.dtype"
   ]
  },
  {
   "cell_type": "markdown",
   "id": "c95e1d42-5d6b-4900-95ef-c75b58806abc",
   "metadata": {},
   "source": [
    "**Advanced**: You can also check where in your computer's memory the data is stored."
   ]
  },
  {
   "cell_type": "code",
   "execution_count": 57,
   "id": "7952a869-69a5-46d5-b587-7f994fec078f",
   "metadata": {},
   "outputs": [
    {
     "data": {
      "text/plain": [
       "<memory at 0x7f952366bc60>"
      ]
     },
     "execution_count": 57,
     "metadata": {},
     "output_type": "execute_result"
    }
   ],
   "source": [
    "#  memory address \n",
    "my_array.data"
   ]
  },
  {
   "cell_type": "markdown",
   "id": "803ab125-7515-4a61-b4e5-59f4b95dc694",
   "metadata": {},
   "source": [
    "#### Changing the data type of a nparray \n",
    "\n",
    "Sometimes it is useful to change the type of the array. By doing this **you create a copy** of the original array. "
   ]
  },
  {
   "cell_type": "code",
   "execution_count": 58,
   "id": "1103ccf0-dd8a-4a01-a3a2-1686c6ee159c",
   "metadata": {},
   "outputs": [
    {
     "data": {
      "text/plain": [
       "dtype('float64')"
      ]
     },
     "execution_count": 58,
     "metadata": {},
     "output_type": "execute_result"
    }
   ],
   "source": [
    "# Change the data type to float\n",
    "my_array.astype(float).dtype"
   ]
  },
  {
   "cell_type": "markdown",
   "id": "fc8ab97c-084f-4bf0-9d62-5c50e46477d1",
   "metadata": {},
   "source": [
    "#### Other functions for creating ndarrays\n",
    "\n",
    "Some useful functions allows for creating arrays of zeros, ones, random. As they are optimized functions, they are preferred to for-loops and list comprehensions. \n",
    "\n",
    "| Function            | Description                                                                                                                                                                                      |\n",
    "| ------------------- | ------------------------------------------------------------------------------------------------------------------------------------------------------------------------------------------------ |\n",
    "| `array`             | Convert input data (list, tuple, array, or other sequence type) to an ndarray either by inferring a data type or explicitly specifying a data type; copies the input data by default             |\n",
    "| `asarray`           | Convert input to ndarray, but do not copy if the input is already an ndarray                                                                                                                     |\n",
    "| `arange`            | Like the built-in `range` but returns an ndarray instead of a list                                                                                                                               |\n",
    "| `ones, ones_like`   | Produce an array of all 1s with the given shape and data type; `ones_like` takes another array and produces a `ones` array of the same shape and data type                                       |\n",
    "| `zeros, zeros_like` | Like `ones` and `ones_like` but producing arrays of 0s instead                                                                                                                                   |\n",
    "| `empty, empty_like` | Create new arrays by allocating new memory, but do not populate with any values like `ones` and `zeros`                                                                                          |\n",
    "| `full, full_like`   | Produce an array of the given shape and data type with all values set to the indicated \"fill value\"; `full_like` takes another array and produces a filled array of the same shape and data type |\n",
    "| `eye, identity`     | Create a square N × N identity matrix (1s on the diagonal and 0s elsewhere)                                                                                                                      |"
   ]
  },
  {
   "cell_type": "code",
   "execution_count": 59,
   "id": "6260321b-f23c-491f-946f-7c3bc79db065",
   "metadata": {},
   "outputs": [
    {
     "data": {
      "text/plain": [
       "array([[1., 0., 0.],\n",
       "       [0., 1., 0.],\n",
       "       [0., 0., 1.]])"
      ]
     },
     "execution_count": 59,
     "metadata": {},
     "output_type": "execute_result"
    }
   ],
   "source": [
    "# You can also play with the code below to create arrays with specific values (remove #s to switch from comments)\n",
    "\n",
    "# Create an array of ones\n",
    "np.ones((3,4), dtype=np.int64)\n",
    "\n",
    "# Create an array of zeros\n",
    "np.zeros((2,3,4),dtype=np.int16)\n",
    "\n",
    "# Create an array with random values\n",
    "np.random.random((2,2))\n",
    "\n",
    "# Create an empty array\n",
    "np.empty((3,2))\n",
    "\n",
    "# Create a full array with a particular value\n",
    "np.full((2,2),9)\n",
    "\n",
    "# Create an array of evenly-spaced values\n",
    "np.arange(10,25,5)\n",
    "\n",
    "# Create an array of evenly-spaced values\n",
    "np.linspace(0,2,9)\n",
    "\n",
    "# An array with values corresponding to an identity matrix of size 3\n",
    "np.eye(3)\n",
    "np.identity(3)"
   ]
  },
  {
   "cell_type": "markdown",
   "id": "505f0753-4a7d-4f5a-bab1-2b2d279c352d",
   "metadata": {},
   "source": [
    "### Slicing and indexing"
   ]
  },
  {
   "cell_type": "markdown",
   "id": "01cc43d2-56bf-445d-9033-fd6098698686",
   "metadata": {},
   "source": [
    "Similar to other python data structures numpy arrays can be sliced. Since arrays may be multidimensional, you must specify a slice for each dimension of the array"
   ]
  },
  {
   "cell_type": "code",
   "execution_count": 60,
   "id": "c48f0bd2-2783-46fe-b71b-ba558ec46775",
   "metadata": {},
   "outputs": [
    {
     "data": {
      "text/plain": [
       "array([0, 1, 2, 3, 4, 5, 6, 7, 8, 9])"
      ]
     },
     "execution_count": 60,
     "metadata": {},
     "output_type": "execute_result"
    }
   ],
   "source": [
    "#Let's create a numpy array comprising of the integers 0 through 9\n",
    "arr = np.arange(10)\n",
    "arr"
   ]
  },
  {
   "cell_type": "code",
   "execution_count": 61,
   "id": "86815e06-110a-461d-9f99-6087cab6012c",
   "metadata": {},
   "outputs": [
    {
     "data": {
      "text/plain": [
       "5"
      ]
     },
     "execution_count": 61,
     "metadata": {},
     "output_type": "execute_result"
    }
   ],
   "source": [
    "# You can get the item at index 5 \n",
    "arr[5]"
   ]
  },
  {
   "cell_type": "code",
   "execution_count": 62,
   "id": "755573d2-3bb3-4a79-ae0e-984435b8f03f",
   "metadata": {},
   "outputs": [
    {
     "data": {
      "text/plain": [
       "array([5, 6, 7])"
      ]
     },
     "execution_count": 62,
     "metadata": {},
     "output_type": "execute_result"
    }
   ],
   "source": [
    "# You can slice the array to get an array consisting of only those items lie between index locations\n",
    "arr[5:8]"
   ]
  },
  {
   "cell_type": "code",
   "execution_count": 63,
   "id": "b42cec56-8ce4-4059-91a6-f3543b831227",
   "metadata": {},
   "outputs": [
    {
     "data": {
      "text/plain": [
       "array([[1, 2, 3],\n",
       "       [4, 5, 6],\n",
       "       [7, 8, 9]])"
      ]
     },
     "execution_count": 63,
     "metadata": {},
     "output_type": "execute_result"
    }
   ],
   "source": [
    "# Let's look at another example:\n",
    "arr2d=np.array([[1, 2, 3], [4, 5, 6], [7, 8, 9]])\n",
    "arr2d"
   ]
  },
  {
   "cell_type": "code",
   "execution_count": 64,
   "id": "805bc679-5a03-4cd7-8a52-a7f819115f59",
   "metadata": {},
   "outputs": [
    {
     "data": {
      "text/plain": [
       "array([[7, 8, 9]])"
      ]
     },
     "execution_count": 64,
     "metadata": {},
     "output_type": "execute_result"
    }
   ],
   "source": [
    "# This returns a two dimensional array with shape (1,3)\n",
    "arr2d[2:, :]"
   ]
  },
  {
   "cell_type": "code",
   "execution_count": 65,
   "id": "558fa23f-9c6b-45d9-b6d7-4da6dfd51624",
   "metadata": {},
   "outputs": [
    {
     "data": {
      "text/plain": [
       "array([7, 8, 9])"
      ]
     },
     "execution_count": 65,
     "metadata": {},
     "output_type": "execute_result"
    }
   ],
   "source": [
    "#By mixing integer indexes and slices, you get lower dimensional slices\n",
    "# i.e. you get a one dimensional array with shape (3,)\n",
    "arr2d[2, :]"
   ]
  },
  {
   "cell_type": "code",
   "execution_count": 66,
   "id": "052bc778-9cca-4382-9b1c-e9bed4572b9b",
   "metadata": {},
   "outputs": [
    {
     "data": {
      "image/png": "[encoded data removed]",
      "text/plain": [
       "<IPython.core.display.Image object>"
      ]
     },
     "execution_count": 66,
     "metadata": {},
     "output_type": "execute_result"
    }
   ],
   "source": [
    "Image(r'https://raw.githubusercontent.com/worldbank/Python-for-Data-Science/master/July_2019_Poverty_GP/day_1/images/2dslice.png')"
   ]
  },
  {
   "cell_type": "markdown",
   "id": "3bf4f72a-035f-48b5-8365-1758517475ee",
   "metadata": {},
   "source": [
    "### Element-wise operations\n",
    "\n",
    "NumPy provides a number of useful element-wise operations either on one array or two arrays. \n",
    "\n",
    "To take the sqrt and the exponential of each element we can use the corresponding `np.sqrt` and `np.exp` functions"
   ]
  },
  {
   "cell_type": "code",
   "execution_count": 67,
   "id": "0a008708-3a52-45f8-80d0-4815e6850163",
   "metadata": {},
   "outputs": [
    {
     "name": "stdout",
     "output_type": "stream",
     "text": [
      "sqrt: [0.         1.         1.41421356 1.73205081 2.         2.23606798\n",
      " 2.44948974 2.64575131 2.82842712 3.        ]\n",
      "exp: [1.00000000e+00 2.71828183e+00 7.38905610e+00 2.00855369e+01\n",
      " 5.45981500e+01 1.48413159e+02 4.03428793e+02 1.09663316e+03\n",
      " 2.98095799e+03 8.10308393e+03]\n"
     ]
    }
   ],
   "source": [
    "arr = np.arange(10)\n",
    "arr\n",
    "print(f\"sqrt: {np.sqrt(arr)}\")\n",
    "print(f\"exp: {np.exp(arr)}\")"
   ]
  },
  {
   "cell_type": "code",
   "execution_count": 68,
   "id": "e47bec59-630b-45dc-a0a3-ad6da4087049",
   "metadata": {},
   "outputs": [
    {
     "name": "stdout",
     "output_type": "stream",
     "text": [
      "[-1.42382504  1.26372846 -0.87066174 -0.25917323 -0.07534331 -0.74088465\n",
      " -1.3677927   0.6488928 ]\n",
      "[ 0.36105811 -1.95286306  2.34740965  0.96849691 -0.75938718  0.90219827\n",
      " -0.46695317 -0.06068952]\n"
     ]
    },
    {
     "data": {
      "text/plain": [
       "array([ 0.36105811,  1.26372846,  2.34740965,  0.96849691, -0.07534331,\n",
       "        0.90219827, -0.46695317,  0.6488928 ])"
      ]
     },
     "execution_count": 68,
     "metadata": {},
     "output_type": "execute_result"
    }
   ],
   "source": [
    "# Random generators are also efficient and useful in NumPy\n",
    "rng = np.random.default_rng(seed=12345)\n",
    "\n",
    "x = rng.standard_normal(8)\n",
    "y = rng.standard_normal(8)\n",
    "print(x)\n",
    "print(y)\n",
    "\n",
    "# Take the maximum in each element of the two arrays\n",
    "np.maximum(x, y)"
   ]
  },
  {
   "cell_type": "markdown",
   "id": "8841c030-f474-40b2-ba9b-befe1e5bdbe9",
   "metadata": {},
   "source": [
    "Return the fractional and integer part of a float array. "
   ]
  },
  {
   "cell_type": "code",
   "execution_count": 32,
   "id": "936bac27-f228-4649-aa38-65354e63e098",
   "metadata": {},
   "outputs": [
    {
     "name": "stdout",
     "output_type": "stream",
     "text": [
      "[ 3.94422172 -6.28334067  2.87928757  6.99489497  6.6114903  -1.49849258\n",
      "  4.51459671]\n",
      "[ 0.94422172 -0.28334067  0.87928757  0.99489497  0.6114903  -0.49849258\n",
      "  0.51459671]\n"
     ]
    },
    {
     "data": {
      "text/plain": [
       "array([ 3., -6.,  2.,  6.,  6., -1.,  4.])"
      ]
     },
     "execution_count": 32,
     "metadata": {},
     "output_type": "execute_result"
    }
   ],
   "source": [
    "arr = rng.standard_normal(7) * 5\n",
    "print(arr)\n",
    "remainder, whole_part = np.modf(arr)\n",
    "print(remainder)\n",
    "whole_part"
   ]
  },
  {
   "cell_type": "markdown",
   "id": "678a6fa8-dcb7-4ba9-acda-4ccf9c96ed0e",
   "metadata": {},
   "source": [
    "Add 1 two each element of an array and save to output"
   ]
  },
  {
   "cell_type": "code",
   "execution_count": 34,
   "id": "e8211b8b-cea5-42b1-87be-44c14b00fddc",
   "metadata": {},
   "outputs": [
    {
     "name": "stdout",
     "output_type": "stream",
     "text": [
      "[ 3.94422172 -6.28334067  2.87928757  6.99489497  6.6114903  -1.49849258\n",
      "  4.51459671]\n"
     ]
    },
    {
     "data": {
      "text/plain": [
       "array([ 4.94422172, -5.28334067,  3.87928757,  7.99489497,  7.6114903 ,\n",
       "       -0.49849258,  5.51459671])"
      ]
     },
     "execution_count": 34,
     "metadata": {},
     "output_type": "execute_result"
    }
   ],
   "source": [
    "print(arr)\n",
    "out = np.zeros_like(arr)\n",
    "np.add(arr, 1)\n",
    "np.add(arr, 1, out=out)\n",
    "out"
   ]
  },
  {
   "cell_type": "code",
   "execution_count": 36,
   "id": "40c912c4-93f4-4a97-b516-4e4d4a81435d",
   "metadata": {},
   "outputs": [
    {
     "data": {
      "text/plain": [
       "array([ 4.94422172, -5.28334067,  3.87928757,  7.99489497,  7.6114903 ,\n",
       "       -0.49849258,  5.51459671])"
      ]
     },
     "execution_count": 36,
     "metadata": {},
     "output_type": "execute_result"
    }
   ],
   "source": [
    "# The above is equivalent to \n",
    "\n",
    "out = arr + 1\n",
    "out"
   ]
  },
  {
   "cell_type": "code",
   "execution_count": 39,
   "id": "179e1f47-6d61-476f-9fe3-ccb362af54d6",
   "metadata": {},
   "outputs": [
    {
     "name": "stdout",
     "output_type": "stream",
     "text": [
      "[[-5.   -4.99 -4.98 ...  4.97  4.98  4.99]\n",
      " [-5.   -4.99 -4.98 ...  4.97  4.98  4.99]\n",
      " [-5.   -4.99 -4.98 ...  4.97  4.98  4.99]\n",
      " ...\n",
      " [-5.   -4.99 -4.98 ...  4.97  4.98  4.99]\n",
      " [-5.   -4.99 -4.98 ...  4.97  4.98  4.99]\n",
      " [-5.   -4.99 -4.98 ...  4.97  4.98  4.99]] [[-5.   -5.   -5.   ... -5.   -5.   -5.  ]\n",
      " [-4.99 -4.99 -4.99 ... -4.99 -4.99 -4.99]\n",
      " [-4.98 -4.98 -4.98 ... -4.98 -4.98 -4.98]\n",
      " ...\n",
      " [ 4.97  4.97  4.97 ...  4.97  4.97  4.97]\n",
      " [ 4.98  4.98  4.98 ...  4.98  4.98  4.98]\n",
      " [ 4.99  4.99  4.99 ...  4.99  4.99  4.99]]\n"
     ]
    }
   ],
   "source": [
    "# Create grid of elements among two arrays\n",
    "\n",
    "points = np.arange(-5, 5, 0.01) # 100 equally spaced points\n",
    "xs, ys = np.meshgrid(points, points)\n",
    "print(xs, ys)\n"
   ]
  },
  {
   "cell_type": "markdown",
   "id": "72c7cf57-c196-487c-8f07-064adf5bc835",
   "metadata": {},
   "source": [
    "Unary element-wise functions\n",
    "\n",
    "| Function                                            | Description                                                                                                     |\n",
    "| --------------------------------------------------- | --------------------------------------------------------------------------------------------------------------- |\n",
    "| `abs, fabs`                                         | Compute the absolute value element-wise for integer, floating-point, or complex values                          |\n",
    "| `sqrt`                                              | Compute the square root of each element (equivalent to `arr ** 0.5`)                                            |\n",
    "| `square`                                            | Compute the square of each element (equivalent to `arr ** 2`)                                                   |\n",
    "| `exp`                                               | Compute the exponent ex of each element                                                                         |\n",
    "| `log, log10, log2, log1p`                           | Natural logarithm (base _e_), log base 10, log base 2, and log(1 + x), respectively                             |\n",
    "| `sign`                                              | Compute the sign of each element: 1 (positive), 0 (zero), or –1 (negative)                                      |\n",
    "| `ceil`                                              | Compute the ceiling of each element (i.e., the smallest integer greater than or equal to that number)           |\n",
    "| `floor`                                             | Compute the floor of each element (i.e., the largest integer less than or equal to each element)                |\n",
    "| `rint`                                              | Round elements to the nearest integer, preserving the `dtype`                                                   |\n",
    "| `modf`                                              | Return fractional and integral parts of array as separate arrays                                                |\n",
    "| `isnan`                                             | Return boolean array indicating whether each value is `NaN` (Not a Number)                                      |\n",
    "| `isfinite, isinf`                                   | Return boolean array indicating whether each element is finite (non-`inf`, non-`NaN`) or infinite, respectively |\n",
    "| `cos, cosh, sin, sinh, tan, tanh`                   | Regular and hyperbolic trigonometric functions                                                                  |\n",
    "| `arccos, arccosh, arcsin, arcsinh, arctan, arctanh` | Inverse trigonometric functions                                                                                 |\n",
    "| `logical_not`                                       | Compute truth value of `not` `x` element-wise (equivalent to `~arr`)                                            |\n",
    "\n",
    "Binary element-wise functions\n",
    "\n",
    "| Function                                                     | Description                                                                                                    |\n",
    "| ------------------------------------------------------------ | -------------------------------------------------------------------------------------------------------------- |\n",
    "| `add`                                                        | Add corresponding elements in arrays                                                                           |\n",
    "| `subtract`                                                   | Subtract elements in second array from first array                                                             |\n",
    "| `multiply`                                                   | Multiply array elements                                                                                        |\n",
    "| `divide, floor_divide`                                       | Divide or floor divide (truncating the remainder)                                                              |\n",
    "| `power`                                                      | Raise elements in first array to powers indicated in second array                                              |\n",
    "| `maximum, fmax`                                              | Element-wise maximum; `fmax` ignores `NaN`                                                                     |\n",
    "| `minimum, fmin`                                              | Element-wise minimum; `fmin` ignores `NaN`                                                                     |\n",
    "| `mod`                                                        | Element-wise modulus (remainder of division)                                                                   |\n",
    "| `copysign`                                                   | Copy sign of values in second argument to values in first argument                                             |\n",
    "| `greater, greater_equal, less, less_equal, equal, not_equal` | Perform element-wise comparison, yielding boolean array (equivalent to infix operators `>, >=, <, <=, ==, !=`) |\n",
    "| `logical_and`                                                | Compute element-wise truth value of AND (`&`) logical operation                                                |\n",
    "| `logical_or`                                                 | Compute element-wise truth value of OR (`|`) logical operation                                                 |\n",
    "| `logical_xor`                                                | Compute element-wise truth value of XOR (`^`) logical operation                                                |"
   ]
  },
  {
   "cell_type": "markdown",
   "id": "10745a0b-e5e5-4aa3-a1e8-ff89c323fc87",
   "metadata": {},
   "source": [
    "### Matrix operations\n",
    "\n",
    "NumPy is an excellent library for matrix operations. \n",
    "If you are familiar with linear algebra in Mathematica, Matlab, R, or any equivalent language, you will see how easy it is to perform algebric operations. "
   ]
  },
  {
   "cell_type": "markdown",
   "id": "6051a62c-0e3d-436c-9901-f77cc9520150",
   "metadata": {},
   "source": [
    "Matrix transposition"
   ]
  },
  {
   "cell_type": "code",
   "execution_count": 40,
   "id": "0741a38b-5c89-4e08-a23b-82fdc9d23e83",
   "metadata": {},
   "outputs": [
    {
     "data": {
      "text/plain": [
       "array([[1., 4.],\n",
       "       [2., 5.],\n",
       "       [3., 6.]])"
      ]
     },
     "execution_count": 40,
     "metadata": {},
     "output_type": "execute_result"
    }
   ],
   "source": [
    "X = np.array([[1., 2., 3.], [4., 5., 6.]])\n",
    "X.T"
   ]
  },
  {
   "cell_type": "markdown",
   "id": "75029d15-c194-4f59-b703-32a867e7adee",
   "metadata": {},
   "source": [
    "Dot-product among arrays or matrices"
   ]
  },
  {
   "cell_type": "code",
   "execution_count": 41,
   "id": "2fec9f6d-b52e-4e2b-8d9e-a2e7e045b2d9",
   "metadata": {},
   "outputs": [
    {
     "data": {
      "text/plain": [
       "array([[ 28.,  64.],\n",
       "       [ 67., 181.]])"
      ]
     },
     "execution_count": 41,
     "metadata": {},
     "output_type": "execute_result"
    }
   ],
   "source": [
    "x = np.array([[1., 2., 3.], [4., 5., 6.]])\n",
    "y = np.array([[6., 23.], [-1, 7], [8, 9]])\n",
    "x\n",
    "y\n",
    "x.dot(y)"
   ]
  },
  {
   "cell_type": "code",
   "execution_count": 42,
   "id": "1953f9ba-216f-4b65-b316-c300fb417c19",
   "metadata": {},
   "outputs": [
    {
     "data": {
      "text/plain": [
       "array([[ 28.,  64.],\n",
       "       [ 67., 181.]])"
      ]
     },
     "execution_count": 42,
     "metadata": {},
     "output_type": "execute_result"
    }
   ],
   "source": [
    "np.dot(x, y)"
   ]
  },
  {
   "cell_type": "markdown",
   "id": "ea824796-9705-4239-a3e8-90961b52a8c5",
   "metadata": {},
   "source": [
    "One extremely useful operation is matrix multiplication."
   ]
  },
  {
   "cell_type": "code",
   "execution_count": 43,
   "id": "25b64f45-63da-458d-ac92-faea68e498db",
   "metadata": {},
   "outputs": [
    {
     "data": {
      "text/plain": [
       "array([ 6., 15.])"
      ]
     },
     "execution_count": 43,
     "metadata": {},
     "output_type": "execute_result"
    }
   ],
   "source": [
    "x @ np.ones(3)"
   ]
  },
  {
   "cell_type": "markdown",
   "id": "c34c6388-35b8-40ce-a832-e94f526fb535",
   "metadata": {},
   "source": [
    "**Note**: `@` is different from `*` that performs a element-wise multiplication of arrays or matrices."
   ]
  },
  {
   "cell_type": "code",
   "execution_count": 44,
   "id": "7952a399-d4d5-4e00-8f16-af545ef86dc2",
   "metadata": {},
   "outputs": [
    {
     "data": {
      "text/plain": [
       "array([[1., 2., 3.],\n",
       "       [4., 5., 6.]])"
      ]
     },
     "execution_count": 44,
     "metadata": {},
     "output_type": "execute_result"
    }
   ],
   "source": [
    "### What happens if we use * with arrays of different dimensions? \n",
    "\n",
    "x * np.ones(3)"
   ]
  },
  {
   "cell_type": "markdown",
   "id": "de992ffc-40eb-4b51-a3fb-41327de4dc2f",
   "metadata": {},
   "source": [
    "The `numpy.linalg` module defines a number of useful matrix functions."
   ]
  },
  {
   "cell_type": "code",
   "execution_count": 45,
   "id": "2539858a-9183-4d74-bdd5-d668eb323fd8",
   "metadata": {},
   "outputs": [
    {
     "data": {
      "text/plain": [
       "array([[ 1.00000000e+00, -6.91097670e-16, -1.03514023e-15,\n",
       "         4.57615429e-16,  1.21335532e-16],\n",
       "       [ 2.17026901e-16,  1.00000000e+00, -9.39002415e-16,\n",
       "         1.64542572e-16, -1.23202705e-15],\n",
       "       [ 4.96426442e-16, -3.14610519e-16,  1.00000000e+00,\n",
       "        -3.05695178e-16,  5.25386833e-16],\n",
       "       [ 3.16114519e-16, -4.13038506e-16, -5.60254570e-16,\n",
       "         1.00000000e+00, -2.51687128e-17],\n",
       "       [ 5.91226736e-16,  9.90526427e-16,  6.56260203e-16,\n",
       "        -2.22937992e-16,  1.00000000e+00]])"
      ]
     },
     "execution_count": 45,
     "metadata": {},
     "output_type": "execute_result"
    }
   ],
   "source": [
    "from numpy.linalg import inv, qr\n",
    "X = rng.standard_normal((5, 5))\n",
    "mat = X.T @ X\n",
    "inv(mat)\n",
    "mat @ inv(mat)"
   ]
  },
  {
   "cell_type": "markdown",
   "id": "26271a25-2bc9-4010-ad13-16529ec26f7a",
   "metadata": {},
   "source": [
    "The table below presents a full list of linear algebra operations\n",
    "\n",
    "| Function | Description                                                                                                                                                |\n",
    "| -------- | ---------------------------------------------------------------------------------------------------------------------------------------------------------- |\n",
    "| `diag`   | Return the diagonal (or off-diagonal) elements of a square matrix as a 1D array, or convert a 1D array into a square matrix with zeros on the off-diagonal |\n",
    "| `dot`    | Matrix multiplication                                                                                                                                      |\n",
    "| `trace`  | Compute the sum of the diagonal elements                                                                                                                   |\n",
    "| `det`    | Compute the matrix determinant                                                                                                                             |\n",
    "| `eig`    | Compute the eigenvalues and eigenvectors of a square matrix                                                                                                |\n",
    "| `inv`    | Compute the inverse of a square matrix                                                                                                                     |\n",
    "| `pinv`   | Compute the Moore-Penrose pseudoinverse of a matrix                                                                                                        |\n",
    "| `qr`     | Compute the QR decomposition                                                                                                                               |\n",
    "| `svd`    | Compute the singular value decomposition (SVD)                                                                                                             |\n",
    "| `solve`  | Solve the linear system Ax = b for x, where A is a square matrix                                                                                           |\n",
    "| `lstsq`  | Compute the least-squares solution to `Ax = b`                                                                                                             |"
   ]
  },
  {
   "cell_type": "markdown",
   "id": "a5ec7ebc-e2ff-46d0-b586-807e17658cdd",
   "metadata": {},
   "source": [
    "### Searching and indexing\n",
    "\n",
    "NumPy is a powerful library also for searching into arrays. These operations become handy when it comes to returning a subset of a matrix or a vector. "
   ]
  },
  {
   "cell_type": "code",
   "execution_count": 71,
   "id": "e9d10b2a-c882-4ae1-a2b6-94c9b351d5d7",
   "metadata": {},
   "outputs": [
    {
     "data": {
      "text/plain": [
       "array(['Bob', 'Joe', 'Will'], dtype='<U4')"
      ]
     },
     "execution_count": 71,
     "metadata": {},
     "output_type": "execute_result"
    }
   ],
   "source": [
    "names = np.array([\"Bob\", \"Will\", \"Joe\", \"Bob\", \"Will\", \"Joe\", \"Joe\"])\n",
    "np.unique(names)"
   ]
  },
  {
   "cell_type": "code",
   "execution_count": 72,
   "id": "e6dd7f8a-4708-44ac-8246-31b5bac18940",
   "metadata": {},
   "outputs": [
    {
     "data": {
      "text/plain": [
       "array([1, 2, 3, 4])"
      ]
     },
     "execution_count": 72,
     "metadata": {},
     "output_type": "execute_result"
    }
   ],
   "source": [
    "ints = np.array([3, 3, 3, 2, 2, 1, 1, 4, 4])\n",
    "np.unique(ints)"
   ]
  },
  {
   "cell_type": "code",
   "execution_count": 73,
   "id": "a1ad6774-a951-4495-ab61-6029e57ded4f",
   "metadata": {},
   "outputs": [
    {
     "data": {
      "text/plain": [
       "array([ True, False, False,  True, False, False, False])"
      ]
     },
     "execution_count": 73,
     "metadata": {},
     "output_type": "execute_result"
    }
   ],
   "source": [
    "names == \"Bob\""
   ]
  },
  {
   "cell_type": "code",
   "execution_count": 75,
   "id": "662e08a0-82c6-4335-8d86-ec3d12d3d45a",
   "metadata": {},
   "outputs": [
    {
     "data": {
      "text/plain": [
       "array([[4, 7],\n",
       "       [0, 0]])"
      ]
     },
     "execution_count": 75,
     "metadata": {},
     "output_type": "execute_result"
    }
   ],
   "source": [
    "data = np.array([[4, 7], [0, 2], [-5, 6], [0, 0], [1, 2],[-12, -4], [3, 4]])\n",
    "data[names == \"Bob\"]"
   ]
  },
  {
   "cell_type": "code",
   "execution_count": 103,
   "id": "59039240-6203-432c-baab-a44e30ed2842",
   "metadata": {},
   "outputs": [
    {
     "data": {
      "text/plain": [
       "array([[7],\n",
       "       [0]])"
      ]
     },
     "execution_count": 103,
     "metadata": {},
     "output_type": "execute_result"
    }
   ],
   "source": [
    "data[names == \"Bob\", 1:]"
   ]
  },
  {
   "cell_type": "code",
   "execution_count": 105,
   "id": "f92c85fb-28d2-4a28-b692-ace5cc819ad9",
   "metadata": {},
   "outputs": [
    {
     "data": {
      "text/plain": [
       "array([[  0,   2],\n",
       "       [ -5,   6],\n",
       "       [  1,   2],\n",
       "       [-12,  -4],\n",
       "       [  3,   4]])"
      ]
     },
     "execution_count": 105,
     "metadata": {},
     "output_type": "execute_result"
    }
   ],
   "source": [
    "names != \"Bob\"\n",
    "# An alternative way to negation\n",
    "~(names == \"Bob\")\n",
    "data[~(names == \"Bob\")]"
   ]
  },
  {
   "cell_type": "code",
   "execution_count": 106,
   "id": "cf0a9e18-f745-43ec-ac8c-85930006fdae",
   "metadata": {},
   "outputs": [
    {
     "data": {
      "text/plain": [
       "array([[  0,   2],\n",
       "       [ -5,   6],\n",
       "       [  1,   2],\n",
       "       [-12,  -4],\n",
       "       [  3,   4]])"
      ]
     },
     "execution_count": 106,
     "metadata": {},
     "output_type": "execute_result"
    }
   ],
   "source": [
    "cond = names == \"Bob\"\n",
    "data[~cond]"
   ]
  },
  {
   "cell_type": "code",
   "execution_count": null,
   "id": "a4ee3cef-5167-47f0-9c50-b79765de5798",
   "metadata": {},
   "outputs": [],
   "source": [
    "mask = (names == \"Bob\") | (names == \"Will\")\n",
    "mask\n",
    "data[mask]"
   ]
  },
  {
   "cell_type": "code",
   "execution_count": null,
   "id": "86ccbc51-ba29-40e0-9724-4bda9446c85f",
   "metadata": {},
   "outputs": [],
   "source": [
    "data[data < 0] = 0\n",
    "data"
   ]
  },
  {
   "cell_type": "code",
   "execution_count": null,
   "id": "1b8872c6-687e-4cfd-a6e3-0109867ddcdb",
   "metadata": {},
   "outputs": [],
   "source": [
    "data[names != \"Joe\"] = 7\n",
    "data"
   ]
  },
  {
   "cell_type": "markdown",
   "id": "ebdced96-6b49-479f-8ee2-f3fc393a2e43",
   "metadata": {
    "jp-MarkdownHeadingCollapsed": true,
    "tags": []
   },
   "source": [
    "## Pandas \n",
    "Pandas, a library written by Wes McKinney, is a great tool for data manipulation and analysis. It provides two classes:\n",
    "* a Series object, which handles a single column of data;\n",
    "* a DataFrame object, which handles multiple columns (like an Excel spreadsheet).\n",
    "\n",
    "You can build your own DataFrames or read in from other sources like CSVs or JSON. Pandas handles missing data beautifully; lets you sort, operate on and and merge datasets; provides plotting capabilities; and handles time series data (among other advantages)."
   ]
  },
  {
   "cell_type": "code",
   "execution_count": 272,
   "id": "bf782876-e9a0-4c6c-ab40-a04f167e22ec",
   "metadata": {},
   "outputs": [],
   "source": [
    "# Let's start by importing the libraries\n",
    "\n",
    "import numpy as np\n",
    "import pandas as pd"
   ]
  },
  {
   "cell_type": "markdown",
   "id": "ea13c4ef-5549-4aeb-b9ba-cbb4e39547c5",
   "metadata": {},
   "source": [
    "### Creating Series and DataFrames"
   ]
  },
  {
   "cell_type": "markdown",
   "id": "4ca6fa0b-c6fa-4c5f-bc97-526e29f45e23",
   "metadata": {},
   "source": [
    "Series and DataFrames are the basic objects. Sometimes it is useful to import them directly using\n",
    "\n",
    "```python\n",
    "from pandas import Series, DataFrame\n",
    "```"
   ]
  },
  {
   "cell_type": "code",
   "execution_count": 273,
   "id": "e8e0c26d-75e0-428e-af25-b2e2e0d8525c",
   "metadata": {},
   "outputs": [
    {
     "data": {
      "text/plain": [
       "0        Cardiff\n",
       "1        Swansea\n",
       "2    Abergavenny\n",
       "3    Machynlleth\n",
       "dtype: object"
      ]
     },
     "execution_count": 273,
     "metadata": {},
     "output_type": "execute_result"
    }
   ],
   "source": [
    "# Create a series by passing a list\n",
    "towns = pd.Series(['Cardiff', 'Swansea', 'Abergavenny','Machynlleth'])\n",
    "towns"
   ]
  },
  {
   "cell_type": "markdown",
   "id": "a2057c7f-b5cb-4b8a-a022-1e4435fd1eca",
   "metadata": {},
   "source": [
    "Series are indexed objects, that means that each position in a series is accessible through an identifier. If, like in this case we specify no identifiers, the Series will associate a progressive number to each item. "
   ]
  },
  {
   "cell_type": "code",
   "execution_count": 274,
   "id": "7dcb8452-78ab-4354-9268-821bbeb4419e",
   "metadata": {},
   "outputs": [
    {
     "data": {
      "text/plain": [
       "<PandasArray>\n",
       "['Cardiff', 'Swansea', 'Abergavenny', 'Machynlleth']\n",
       "Length: 4, dtype: object"
      ]
     },
     "execution_count": 274,
     "metadata": {},
     "output_type": "execute_result"
    }
   ],
   "source": [
    "towns.array"
   ]
  },
  {
   "cell_type": "code",
   "execution_count": 275,
   "id": "bc232c05-11ac-4810-b9fa-315dc1bc0890",
   "metadata": {},
   "outputs": [
    {
     "data": {
      "text/plain": [
       "RangeIndex(start=0, stop=4, step=1)"
      ]
     },
     "execution_count": 275,
     "metadata": {},
     "output_type": "execute_result"
    }
   ],
   "source": [
    "towns.index"
   ]
  },
  {
   "cell_type": "code",
   "execution_count": 276,
   "id": "d616235d-48f6-43dd-9038-3efd51765ba5",
   "metadata": {},
   "outputs": [
    {
     "data": {
      "text/plain": [
       "Index(['C', 'S', 'A', 'M'], dtype='object', name='Initials')"
      ]
     },
     "execution_count": 276,
     "metadata": {},
     "output_type": "execute_result"
    }
   ],
   "source": [
    "# you can specify an index\n",
    "towns = pd.Series(['Cardiff', 'Swansea', 'Abergavenny','Machynlleth'], index=['C', 'S', 'A' ,'M'])\n",
    "\n",
    "# or alternatively \n",
    "# towns = pd.Series({'C':'Cardiff', 'S':'Swansea', 'A': 'Abergavenny','M': 'Machynlleth'})\n",
    "\n",
    "# Setting the index name\n",
    "towns.index.name = \"Initials\"\n",
    "\n",
    "# Print the index\n",
    "towns.index"
   ]
  },
  {
   "cell_type": "code",
   "execution_count": 277,
   "id": "3ad358c6-2db4-42a8-a5dd-f68161472983",
   "metadata": {},
   "outputs": [
    {
     "data": {
      "text/plain": [
       "{'C': 'Cardiff', 'S': 'Swansea', 'A': 'Abergavenny', 'M': 'Machynlleth'}"
      ]
     },
     "execution_count": 277,
     "metadata": {},
     "output_type": "execute_result"
    }
   ],
   "source": [
    "# Back to dictionary\n",
    "towns.to_dict()"
   ]
  },
  {
   "cell_type": "markdown",
   "id": "c0ef82ec-ea1f-44f6-ab28-149a271d5222",
   "metadata": {},
   "source": [
    "Access each element using the index"
   ]
  },
  {
   "cell_type": "code",
   "execution_count": 278,
   "id": "7321c124-0e15-475d-b6ce-153b6d1c8c7c",
   "metadata": {},
   "outputs": [
    {
     "data": {
      "text/plain": [
       "'Abergavenny'"
      ]
     },
     "execution_count": 278,
     "metadata": {},
     "output_type": "execute_result"
    }
   ],
   "source": [
    "towns['A']"
   ]
  },
  {
   "cell_type": "markdown",
   "id": "02bdd603-a7cd-4f4b-b4de-80d1fad80421",
   "metadata": {},
   "source": [
    "#### Simple operations\n",
    "\n",
    "Pandas supports a number of simple operations, such as summation, division, not-a-number (NA) check"
   ]
  },
  {
   "cell_type": "code",
   "execution_count": 282,
   "id": "b1892e7e-5b70-46eb-af96-1a5dea84eec1",
   "metadata": {},
   "outputs": [
    {
     "data": {
      "text/plain": [
       "Initials\n",
       "C    True\n",
       "S    True\n",
       "A    True\n",
       "M    True\n",
       "dtype: bool"
      ]
     },
     "execution_count": 282,
     "metadata": {},
     "output_type": "execute_result"
    }
   ],
   "source": [
    "pd.isna(towns)\n",
    "pd.notna(towns)"
   ]
  },
  {
   "cell_type": "markdown",
   "id": "d0b27d29-2208-4fd1-85fc-5a65587ea0d6",
   "metadata": {
    "tags": []
   },
   "source": [
    "### Data Frames\n",
    "\n",
    "While series are the basic Pandas bricks, data Frames are the containers for datasets that will allow for more complex data analyses. A DataFrame is a table with rows, representing single data points, and columns representing attributes or features. A DataFrame has both column and row indexes, making easier to search for specific values. "
   ]
  },
  {
   "cell_type": "code",
   "execution_count": 81,
   "id": "16e1d06e-3b0a-4dfd-aeb0-1968995cbd10",
   "metadata": {
    "tags": []
   },
   "outputs": [],
   "source": [
    "towns = ['Cardiff', 'Swansea', 'Abergavenny','Machynlleth']\n",
    "populations = [335145, 230300, 12515, 2235]\n",
    "number_of_pubs = [2100, 1680, 198, 48]"
   ]
  },
  {
   "cell_type": "code",
   "execution_count": 82,
   "id": "954b84ed-1a6f-41f3-89f2-a4a66c4663fb",
   "metadata": {
    "tags": []
   },
   "outputs": [],
   "source": [
    "# Create an empty DataFrame, and add new columns to it\n",
    "\n",
    "towns_df = pd.DataFrame()\n",
    "towns_df['name'] = towns\n",
    "towns_df['population'] = populations"
   ]
  },
  {
   "cell_type": "code",
   "execution_count": 83,
   "id": "d3b83cd2-fc28-46bd-8076-b810501bf50d",
   "metadata": {},
   "outputs": [
    {
     "data": {
      "text/plain": [
       "name          object\n",
       "population     int64\n",
       "dtype: object"
      ]
     },
     "execution_count": 83,
     "metadata": {},
     "output_type": "execute_result"
    }
   ],
   "source": [
    "# The columns have different dtypes\n",
    "\n",
    "towns_df.dtypes"
   ]
  },
  {
   "cell_type": "code",
   "execution_count": 86,
   "id": "c500f2df-a6d1-4de3-a433-b35cea20bc4c",
   "metadata": {},
   "outputs": [
    {
     "ename": "AttributeError",
     "evalue": "'DataFrame' object has no attribute 'array'",
     "output_type": "error",
     "traceback": [
      "\u001b[0;31m---------------------------------------------------------------------------\u001b[0m",
      "\u001b[0;31mAttributeError\u001b[0m                            Traceback (most recent call last)",
      "Input \u001b[0;32mIn [86]\u001b[0m, in \u001b[0;36m<cell line: 1>\u001b[0;34m()\u001b[0m\n\u001b[0;32m----> 1\u001b[0m \u001b[43mtowns_df\u001b[49m\u001b[38;5;241;43m.\u001b[39;49m\u001b[43marray\u001b[49m\n",
      "File \u001b[0;32m~/opt/miniconda3/envs/py22/lib/python3.10/site-packages/pandas/core/generic.py:5575\u001b[0m, in \u001b[0;36mNDFrame.__getattr__\u001b[0;34m(self, name)\u001b[0m\n\u001b[1;32m   5568\u001b[0m \u001b[38;5;28;01mif\u001b[39;00m (\n\u001b[1;32m   5569\u001b[0m     name \u001b[38;5;129;01mnot\u001b[39;00m \u001b[38;5;129;01min\u001b[39;00m \u001b[38;5;28mself\u001b[39m\u001b[38;5;241m.\u001b[39m_internal_names_set\n\u001b[1;32m   5570\u001b[0m     \u001b[38;5;129;01mand\u001b[39;00m name \u001b[38;5;129;01mnot\u001b[39;00m \u001b[38;5;129;01min\u001b[39;00m \u001b[38;5;28mself\u001b[39m\u001b[38;5;241m.\u001b[39m_metadata\n\u001b[1;32m   5571\u001b[0m     \u001b[38;5;129;01mand\u001b[39;00m name \u001b[38;5;129;01mnot\u001b[39;00m \u001b[38;5;129;01min\u001b[39;00m \u001b[38;5;28mself\u001b[39m\u001b[38;5;241m.\u001b[39m_accessors\n\u001b[1;32m   5572\u001b[0m     \u001b[38;5;129;01mand\u001b[39;00m \u001b[38;5;28mself\u001b[39m\u001b[38;5;241m.\u001b[39m_info_axis\u001b[38;5;241m.\u001b[39m_can_hold_identifiers_and_holds_name(name)\n\u001b[1;32m   5573\u001b[0m ):\n\u001b[1;32m   5574\u001b[0m     \u001b[38;5;28;01mreturn\u001b[39;00m \u001b[38;5;28mself\u001b[39m[name]\n\u001b[0;32m-> 5575\u001b[0m \u001b[38;5;28;01mreturn\u001b[39;00m \u001b[38;5;28;43mobject\u001b[39;49m\u001b[38;5;241;43m.\u001b[39;49m\u001b[38;5;21;43m__getattribute__\u001b[39;49m\u001b[43m(\u001b[49m\u001b[38;5;28;43mself\u001b[39;49m\u001b[43m,\u001b[49m\u001b[43m \u001b[49m\u001b[43mname\u001b[49m\u001b[43m)\u001b[49m\n",
      "\u001b[0;31mAttributeError\u001b[0m: 'DataFrame' object has no attribute 'array'"
     ]
    }
   ],
   "source": [
    "towns_df.array"
   ]
  },
  {
   "cell_type": "markdown",
   "id": "73a1f592-8f51-4467-a4ae-bf1575a84dca",
   "metadata": {},
   "source": [
    "We can create dataframes from dictionaries directly."
   ]
  },
  {
   "cell_type": "code",
   "execution_count": 254,
   "id": "dbe546f4-1b19-4ae8-b94e-08e858393cda",
   "metadata": {},
   "outputs": [
    {
     "data": {
      "text/html": [
       "<div>\n",
       "<style scoped>\n",
       "    .dataframe tbody tr th:only-of-type {\n",
       "        vertical-align: middle;\n",
       "    }\n",
       "\n",
       "    .dataframe tbody tr th {\n",
       "        vertical-align: top;\n",
       "    }\n",
       "\n",
       "    .dataframe thead th {\n",
       "        text-align: right;\n",
       "    }\n",
       "</style>\n",
       "<table border=\"1\" class=\"dataframe\">\n",
       "  <thead>\n",
       "    <tr style=\"text-align: right;\">\n",
       "      <th></th>\n",
       "      <th>name</th>\n",
       "      <th>population</th>\n",
       "      <th>n_pubs</th>\n",
       "    </tr>\n",
       "    <tr>\n",
       "      <th>Initials</th>\n",
       "      <th></th>\n",
       "      <th></th>\n",
       "      <th></th>\n",
       "    </tr>\n",
       "  </thead>\n",
       "  <tbody>\n",
       "    <tr>\n",
       "      <th>C</th>\n",
       "      <td>Cardiff</td>\n",
       "      <td>335145</td>\n",
       "      <td>2100</td>\n",
       "    </tr>\n",
       "    <tr>\n",
       "      <th>S</th>\n",
       "      <td>Swansea</td>\n",
       "      <td>230300</td>\n",
       "      <td>1680</td>\n",
       "    </tr>\n",
       "    <tr>\n",
       "      <th>A</th>\n",
       "      <td>Abergavenny</td>\n",
       "      <td>12515</td>\n",
       "      <td>198</td>\n",
       "    </tr>\n",
       "    <tr>\n",
       "      <th>M</th>\n",
       "      <td>Machynlleth</td>\n",
       "      <td>2235</td>\n",
       "      <td>48</td>\n",
       "    </tr>\n",
       "  </tbody>\n",
       "</table>\n",
       "</div>"
      ],
      "text/plain": [
       "                 name  population  n_pubs\n",
       "Initials                                 \n",
       "C             Cardiff      335145    2100\n",
       "S             Swansea      230300    1680\n",
       "A         Abergavenny       12515     198\n",
       "M         Machynlleth        2235      48"
      ]
     },
     "execution_count": 254,
     "metadata": {},
     "output_type": "execute_result"
    }
   ],
   "source": [
    "# Create a DataFrame using dictionaries to specify column name and data\n",
    "\n",
    "towns_df = pd.DataFrame({'name': towns,\n",
    "                         'population': populations,\n",
    "                         'n_pubs': number_of_pubs})\n",
    "\n",
    "towns_df"
   ]
  },
  {
   "cell_type": "markdown",
   "id": "de9d0039-159d-4810-998a-55e2c601f5d7",
   "metadata": {
    "tags": []
   },
   "source": [
    "#### View and select data\n",
    "\n",
    "Pandas offers a number of functions to view the data."
   ]
  },
  {
   "cell_type": "code",
   "execution_count": 284,
   "id": "26b1d918-0cee-4435-b0c3-966c09563f3c",
   "metadata": {},
   "outputs": [
    {
     "data": {
      "text/html": [
       "<div>\n",
       "<style scoped>\n",
       "    .dataframe tbody tr th:only-of-type {\n",
       "        vertical-align: middle;\n",
       "    }\n",
       "\n",
       "    .dataframe tbody tr th {\n",
       "        vertical-align: top;\n",
       "    }\n",
       "\n",
       "    .dataframe thead th {\n",
       "        text-align: right;\n",
       "    }\n",
       "</style>\n",
       "<table border=\"1\" class=\"dataframe\">\n",
       "  <thead>\n",
       "    <tr style=\"text-align: right;\">\n",
       "      <th></th>\n",
       "      <th>name</th>\n",
       "      <th>population</th>\n",
       "      <th>n_pubs</th>\n",
       "      <th>pubs_per_capita</th>\n",
       "      <th>people_per_pub</th>\n",
       "    </tr>\n",
       "    <tr>\n",
       "      <th>Initials</th>\n",
       "      <th></th>\n",
       "      <th></th>\n",
       "      <th></th>\n",
       "      <th></th>\n",
       "      <th></th>\n",
       "    </tr>\n",
       "  </thead>\n",
       "  <tbody>\n",
       "    <tr>\n",
       "      <th>C</th>\n",
       "      <td>Cardiff</td>\n",
       "      <td>335145.0</td>\n",
       "      <td>2100</td>\n",
       "      <td>0.006266</td>\n",
       "      <td>159.592857</td>\n",
       "    </tr>\n",
       "    <tr>\n",
       "      <th>S</th>\n",
       "      <td>Swansea</td>\n",
       "      <td>230300.0</td>\n",
       "      <td>1680</td>\n",
       "      <td>0.007295</td>\n",
       "      <td>137.083333</td>\n",
       "    </tr>\n",
       "  </tbody>\n",
       "</table>\n",
       "</div>"
      ],
      "text/plain": [
       "             name  population  n_pubs  pubs_per_capita  people_per_pub\n",
       "Initials                                                              \n",
       "C         Cardiff    335145.0    2100         0.006266      159.592857\n",
       "S         Swansea    230300.0    1680         0.007295      137.083333"
      ]
     },
     "execution_count": 284,
     "metadata": {},
     "output_type": "execute_result"
    }
   ],
   "source": [
    "# the .head() method shows the top rows \n",
    "\n",
    "towns_df.head(2)"
   ]
  },
  {
   "cell_type": "markdown",
   "id": "b555ab21-2942-4c87-acbd-7963041d50c4",
   "metadata": {},
   "source": [
    "**Note**: The number in the parenthesis is optional and indicates how many rows to show. "
   ]
  },
  {
   "cell_type": "code",
   "execution_count": 285,
   "id": "58d115eb-2bb8-4338-aabc-93966022fc80",
   "metadata": {},
   "outputs": [
    {
     "data": {
      "text/html": [
       "<div>\n",
       "<style scoped>\n",
       "    .dataframe tbody tr th:only-of-type {\n",
       "        vertical-align: middle;\n",
       "    }\n",
       "\n",
       "    .dataframe tbody tr th {\n",
       "        vertical-align: top;\n",
       "    }\n",
       "\n",
       "    .dataframe thead th {\n",
       "        text-align: right;\n",
       "    }\n",
       "</style>\n",
       "<table border=\"1\" class=\"dataframe\">\n",
       "  <thead>\n",
       "    <tr style=\"text-align: right;\">\n",
       "      <th></th>\n",
       "      <th>name</th>\n",
       "      <th>population</th>\n",
       "      <th>n_pubs</th>\n",
       "      <th>pubs_per_capita</th>\n",
       "      <th>people_per_pub</th>\n",
       "    </tr>\n",
       "    <tr>\n",
       "      <th>Initials</th>\n",
       "      <th></th>\n",
       "      <th></th>\n",
       "      <th></th>\n",
       "      <th></th>\n",
       "      <th></th>\n",
       "    </tr>\n",
       "  </thead>\n",
       "  <tbody>\n",
       "    <tr>\n",
       "      <th>A</th>\n",
       "      <td>Abergavenny</td>\n",
       "      <td>12515.0</td>\n",
       "      <td>198</td>\n",
       "      <td>0.015821</td>\n",
       "      <td>63.207071</td>\n",
       "    </tr>\n",
       "    <tr>\n",
       "      <th>M</th>\n",
       "      <td>Machynlleth</td>\n",
       "      <td>NaN</td>\n",
       "      <td>48</td>\n",
       "      <td>0.021477</td>\n",
       "      <td>46.562500</td>\n",
       "    </tr>\n",
       "  </tbody>\n",
       "</table>\n",
       "</div>"
      ],
      "text/plain": [
       "                 name  population  n_pubs  pubs_per_capita  people_per_pub\n",
       "Initials                                                                  \n",
       "A         Abergavenny     12515.0     198         0.015821       63.207071\n",
       "M         Machynlleth         NaN      48         0.021477       46.562500"
      ]
     },
     "execution_count": 285,
     "metadata": {},
     "output_type": "execute_result"
    }
   ],
   "source": [
    "# similarly .tail() shows the bottom rows\n",
    "\n",
    "towns_df.tail(2)"
   ]
  },
  {
   "cell_type": "code",
   "execution_count": 286,
   "id": "772361ea-6119-4eed-a893-40e6abcfb9e3",
   "metadata": {},
   "outputs": [
    {
     "data": {
      "text/plain": [
       "(4, 5)"
      ]
     },
     "execution_count": 286,
     "metadata": {},
     "output_type": "execute_result"
    }
   ],
   "source": [
    "# check how many rows and columns\n",
    "towns_df.shape"
   ]
  },
  {
   "cell_type": "code",
   "execution_count": 287,
   "id": "a78f801f-239b-480f-b998-46f5dd4f3045",
   "metadata": {},
   "outputs": [
    {
     "data": {
      "text/plain": [
       "Initials\n",
       "C    335145.0\n",
       "S    230300.0\n",
       "A     12515.0\n",
       "M         NaN\n",
       "Name: population, dtype: float64"
      ]
     },
     "execution_count": 287,
     "metadata": {},
     "output_type": "execute_result"
    }
   ],
   "source": [
    "# Inspect only one series using square bracket notation\n",
    "\n",
    "towns_df['population']"
   ]
  },
  {
   "cell_type": "code",
   "execution_count": 288,
   "id": "0e302011-fd29-4ab3-bc1f-57c5f968999f",
   "metadata": {},
   "outputs": [
    {
     "data": {
      "text/plain": [
       "Initials\n",
       "C    335145.0\n",
       "S    230300.0\n",
       "A     12515.0\n",
       "M         NaN\n",
       "Name: population, dtype: float64"
      ]
     },
     "execution_count": 288,
     "metadata": {},
     "output_type": "execute_result"
    }
   ],
   "source": [
    "# Or dot notation\n",
    "\n",
    "towns_df.population"
   ]
  },
  {
   "cell_type": "code",
   "execution_count": 289,
   "id": "0e2ee914-ac9c-4114-a6d1-91939079481a",
   "metadata": {},
   "outputs": [
    {
     "data": {
      "text/plain": [
       "Initials\n",
       "C    2100\n",
       "S    1680\n",
       "A     198\n",
       "Name: n_pubs, dtype: int64"
      ]
     },
     "execution_count": 289,
     "metadata": {},
     "output_type": "execute_result"
    }
   ],
   "source": [
    "# Standard Python indexing works\n",
    "\n",
    "towns_df.n_pubs[:3]"
   ]
  },
  {
   "cell_type": "markdown",
   "id": "45d661cf-19b5-462c-b601-4f140d728917",
   "metadata": {
    "tags": []
   },
   "source": [
    "#### Operate on columns"
   ]
  },
  {
   "cell_type": "code",
   "execution_count": 290,
   "id": "d198e47e-ac33-42e9-b460-5cc373384e7d",
   "metadata": {},
   "outputs": [
    {
     "data": {
      "text/html": [
       "<div>\n",
       "<style scoped>\n",
       "    .dataframe tbody tr th:only-of-type {\n",
       "        vertical-align: middle;\n",
       "    }\n",
       "\n",
       "    .dataframe tbody tr th {\n",
       "        vertical-align: top;\n",
       "    }\n",
       "\n",
       "    .dataframe thead th {\n",
       "        text-align: right;\n",
       "    }\n",
       "</style>\n",
       "<table border=\"1\" class=\"dataframe\">\n",
       "  <thead>\n",
       "    <tr style=\"text-align: right;\">\n",
       "      <th></th>\n",
       "      <th>name</th>\n",
       "      <th>population</th>\n",
       "      <th>n_pubs</th>\n",
       "      <th>pubs_per_capita</th>\n",
       "      <th>people_per_pub</th>\n",
       "    </tr>\n",
       "    <tr>\n",
       "      <th>Initials</th>\n",
       "      <th></th>\n",
       "      <th></th>\n",
       "      <th></th>\n",
       "      <th></th>\n",
       "      <th></th>\n",
       "    </tr>\n",
       "  </thead>\n",
       "  <tbody>\n",
       "    <tr>\n",
       "      <th>A</th>\n",
       "      <td>Abergavenny</td>\n",
       "      <td>12515.0</td>\n",
       "      <td>198</td>\n",
       "      <td>0.015821</td>\n",
       "      <td>63.207071</td>\n",
       "    </tr>\n",
       "  </tbody>\n",
       "</table>\n",
       "</div>"
      ],
      "text/plain": [
       "                 name  population  n_pubs  pubs_per_capita  people_per_pub\n",
       "Initials                                                                  \n",
       "A         Abergavenny     12515.0     198         0.015821       63.207071"
      ]
     },
     "execution_count": 290,
     "metadata": {},
     "output_type": "execute_result"
    }
   ],
   "source": [
    "# Use Boolean indexing to inspect values based on a condition\n",
    "\n",
    "towns_df[towns_df.name == 'Abergavenny']"
   ]
  },
  {
   "cell_type": "code",
   "execution_count": 291,
   "id": "36ecf5f1-5068-4b55-b16e-0eb3c0660786",
   "metadata": {},
   "outputs": [
    {
     "data": {
      "text/html": [
       "<div>\n",
       "<style scoped>\n",
       "    .dataframe tbody tr th:only-of-type {\n",
       "        vertical-align: middle;\n",
       "    }\n",
       "\n",
       "    .dataframe tbody tr th {\n",
       "        vertical-align: top;\n",
       "    }\n",
       "\n",
       "    .dataframe thead th {\n",
       "        text-align: right;\n",
       "    }\n",
       "</style>\n",
       "<table border=\"1\" class=\"dataframe\">\n",
       "  <thead>\n",
       "    <tr style=\"text-align: right;\">\n",
       "      <th></th>\n",
       "      <th>name</th>\n",
       "      <th>population</th>\n",
       "      <th>n_pubs</th>\n",
       "      <th>pubs_per_capita</th>\n",
       "      <th>people_per_pub</th>\n",
       "    </tr>\n",
       "    <tr>\n",
       "      <th>Initials</th>\n",
       "      <th></th>\n",
       "      <th></th>\n",
       "      <th></th>\n",
       "      <th></th>\n",
       "      <th></th>\n",
       "    </tr>\n",
       "  </thead>\n",
       "  <tbody>\n",
       "    <tr>\n",
       "      <th>C</th>\n",
       "      <td>Cardiff</td>\n",
       "      <td>335145.0</td>\n",
       "      <td>2100</td>\n",
       "      <td>0.006266</td>\n",
       "      <td>159.592857</td>\n",
       "    </tr>\n",
       "    <tr>\n",
       "      <th>S</th>\n",
       "      <td>Swansea</td>\n",
       "      <td>230300.0</td>\n",
       "      <td>1680</td>\n",
       "      <td>0.007295</td>\n",
       "      <td>137.083333</td>\n",
       "    </tr>\n",
       "    <tr>\n",
       "      <th>A</th>\n",
       "      <td>Abergavenny</td>\n",
       "      <td>12515.0</td>\n",
       "      <td>198</td>\n",
       "      <td>0.015821</td>\n",
       "      <td>63.207071</td>\n",
       "    </tr>\n",
       "    <tr>\n",
       "      <th>M</th>\n",
       "      <td>Machynlleth</td>\n",
       "      <td>NaN</td>\n",
       "      <td>48</td>\n",
       "      <td>NaN</td>\n",
       "      <td>NaN</td>\n",
       "    </tr>\n",
       "  </tbody>\n",
       "</table>\n",
       "</div>"
      ],
      "text/plain": [
       "                 name  population  n_pubs  pubs_per_capita  people_per_pub\n",
       "Initials                                                                  \n",
       "C             Cardiff    335145.0    2100         0.006266      159.592857\n",
       "S             Swansea    230300.0    1680         0.007295      137.083333\n",
       "A         Abergavenny     12515.0     198         0.015821       63.207071\n",
       "M         Machynlleth         NaN      48              NaN             NaN"
      ]
     },
     "execution_count": 291,
     "metadata": {},
     "output_type": "execute_result"
    }
   ],
   "source": [
    "# Create a new column with math outputs\n",
    "\n",
    "towns_df['pubs_per_capita'] = towns_df.n_pubs / towns_df.population\n",
    "towns_df['people_per_pub'] = towns_df.population / towns_df.n_pubs\n",
    "\n",
    "towns_df"
   ]
  },
  {
   "cell_type": "code",
   "execution_count": 292,
   "id": "2ee65621-c7aa-400f-993c-83c9f770164b",
   "metadata": {},
   "outputs": [
    {
     "data": {
      "text/html": [
       "<div>\n",
       "<style scoped>\n",
       "    .dataframe tbody tr th:only-of-type {\n",
       "        vertical-align: middle;\n",
       "    }\n",
       "\n",
       "    .dataframe tbody tr th {\n",
       "        vertical-align: top;\n",
       "    }\n",
       "\n",
       "    .dataframe thead th {\n",
       "        text-align: right;\n",
       "    }\n",
       "</style>\n",
       "<table border=\"1\" class=\"dataframe\">\n",
       "  <thead>\n",
       "    <tr style=\"text-align: right;\">\n",
       "      <th></th>\n",
       "      <th>name</th>\n",
       "      <th>population</th>\n",
       "      <th>n_pubs</th>\n",
       "      <th>pubs_per_capita</th>\n",
       "      <th>people_per_pub</th>\n",
       "      <th>has_mountains</th>\n",
       "    </tr>\n",
       "    <tr>\n",
       "      <th>Initials</th>\n",
       "      <th></th>\n",
       "      <th></th>\n",
       "      <th></th>\n",
       "      <th></th>\n",
       "      <th></th>\n",
       "      <th></th>\n",
       "    </tr>\n",
       "  </thead>\n",
       "  <tbody>\n",
       "    <tr>\n",
       "      <th>C</th>\n",
       "      <td>Cardiff</td>\n",
       "      <td>335145.0</td>\n",
       "      <td>2100</td>\n",
       "      <td>0.006266</td>\n",
       "      <td>159.592857</td>\n",
       "      <td>False</td>\n",
       "    </tr>\n",
       "    <tr>\n",
       "      <th>S</th>\n",
       "      <td>Swansea</td>\n",
       "      <td>230300.0</td>\n",
       "      <td>1680</td>\n",
       "      <td>0.007295</td>\n",
       "      <td>137.083333</td>\n",
       "      <td>False</td>\n",
       "    </tr>\n",
       "    <tr>\n",
       "      <th>A</th>\n",
       "      <td>Abergavenny</td>\n",
       "      <td>12515.0</td>\n",
       "      <td>198</td>\n",
       "      <td>0.015821</td>\n",
       "      <td>63.207071</td>\n",
       "      <td>False</td>\n",
       "    </tr>\n",
       "    <tr>\n",
       "      <th>M</th>\n",
       "      <td>Machynlleth</td>\n",
       "      <td>NaN</td>\n",
       "      <td>48</td>\n",
       "      <td>NaN</td>\n",
       "      <td>NaN</td>\n",
       "      <td>False</td>\n",
       "    </tr>\n",
       "  </tbody>\n",
       "</table>\n",
       "</div>"
      ],
      "text/plain": [
       "                 name  population  n_pubs  pubs_per_capita  people_per_pub  \\\n",
       "Initials                                                                     \n",
       "C             Cardiff    335145.0    2100         0.006266      159.592857   \n",
       "S             Swansea    230300.0    1680         0.007295      137.083333   \n",
       "A         Abergavenny     12515.0     198         0.015821       63.207071   \n",
       "M         Machynlleth         NaN      48              NaN             NaN   \n",
       "\n",
       "          has_mountains  \n",
       "Initials                 \n",
       "C                 False  \n",
       "S                 False  \n",
       "A                 False  \n",
       "M                 False  "
      ]
     },
     "execution_count": 292,
     "metadata": {},
     "output_type": "execute_result"
    }
   ],
   "source": [
    "# Create a new column and assign a default value\n",
    "\n",
    "towns_df['has_mountains'] = False\n",
    "\n",
    "towns_df"
   ]
  },
  {
   "cell_type": "markdown",
   "id": "a435704b-ea5e-4cab-a260-d7e075b5d382",
   "metadata": {},
   "source": [
    "One of the powerful features of Pandas is its ability to select columns or rows matching a specific condition. "
   ]
  },
  {
   "cell_type": "code",
   "execution_count": 293,
   "id": "78af4872-2593-4247-8ea4-b1ce0a98ac44",
   "metadata": {},
   "outputs": [
    {
     "data": {
      "text/html": [
       "<div>\n",
       "<style scoped>\n",
       "    .dataframe tbody tr th:only-of-type {\n",
       "        vertical-align: middle;\n",
       "    }\n",
       "\n",
       "    .dataframe tbody tr th {\n",
       "        vertical-align: top;\n",
       "    }\n",
       "\n",
       "    .dataframe thead th {\n",
       "        text-align: right;\n",
       "    }\n",
       "</style>\n",
       "<table border=\"1\" class=\"dataframe\">\n",
       "  <thead>\n",
       "    <tr style=\"text-align: right;\">\n",
       "      <th></th>\n",
       "      <th>name</th>\n",
       "      <th>population</th>\n",
       "      <th>n_pubs</th>\n",
       "      <th>pubs_per_capita</th>\n",
       "      <th>people_per_pub</th>\n",
       "      <th>has_mountains</th>\n",
       "    </tr>\n",
       "    <tr>\n",
       "      <th>Initials</th>\n",
       "      <th></th>\n",
       "      <th></th>\n",
       "      <th></th>\n",
       "      <th></th>\n",
       "      <th></th>\n",
       "      <th></th>\n",
       "    </tr>\n",
       "  </thead>\n",
       "  <tbody>\n",
       "    <tr>\n",
       "      <th>S</th>\n",
       "      <td>Swansea</td>\n",
       "      <td>230300.0</td>\n",
       "      <td>1680</td>\n",
       "      <td>0.007295</td>\n",
       "      <td>137.083333</td>\n",
       "      <td>False</td>\n",
       "    </tr>\n",
       "    <tr>\n",
       "      <th>A</th>\n",
       "      <td>Abergavenny</td>\n",
       "      <td>12515.0</td>\n",
       "      <td>198</td>\n",
       "      <td>0.015821</td>\n",
       "      <td>63.207071</td>\n",
       "      <td>False</td>\n",
       "    </tr>\n",
       "  </tbody>\n",
       "</table>\n",
       "</div>"
      ],
      "text/plain": [
       "                 name  population  n_pubs  pubs_per_capita  people_per_pub  \\\n",
       "Initials                                                                     \n",
       "S             Swansea    230300.0    1680         0.007295      137.083333   \n",
       "A         Abergavenny     12515.0     198         0.015821       63.207071   \n",
       "\n",
       "          has_mountains  \n",
       "Initials                 \n",
       "S                 False  \n",
       "A                 False  "
      ]
     },
     "execution_count": 293,
     "metadata": {},
     "output_type": "execute_result"
    }
   ],
   "source": [
    "# Use a single column's value to select data\n",
    "\n",
    "towns_df.loc[towns_df.people_per_pub < 150]"
   ]
  },
  {
   "cell_type": "code",
   "execution_count": 294,
   "id": "1efd7f72-6d5a-4ace-b7a8-a5ba560b64da",
   "metadata": {},
   "outputs": [
    {
     "ename": "TypeError",
     "evalue": "'>' not supported between instances of 'str' and 'int'",
     "output_type": "error",
     "traceback": [
      "\u001b[0;31m---------------------------------------------------------------------------\u001b[0m",
      "\u001b[0;31mTypeError\u001b[0m                                 Traceback (most recent call last)",
      "Input \u001b[0;32mIn [294]\u001b[0m, in \u001b[0;36m<cell line: 3>\u001b[0;34m()\u001b[0m\n\u001b[1;32m      1\u001b[0m \u001b[38;5;66;03m# Is this a correct statement? \u001b[39;00m\n\u001b[0;32m----> 3\u001b[0m \u001b[43mtowns_df\u001b[49m\u001b[43m \u001b[49m\u001b[38;5;241;43m>\u001b[39;49m\u001b[43m \u001b[49m\u001b[38;5;241;43m50\u001b[39;49m\n",
      "File \u001b[0;32m~/opt/miniconda3/envs/py22/lib/python3.10/site-packages/pandas/core/ops/common.py:70\u001b[0m, in \u001b[0;36m_unpack_zerodim_and_defer.<locals>.new_method\u001b[0;34m(self, other)\u001b[0m\n\u001b[1;32m     66\u001b[0m             \u001b[38;5;28;01mreturn\u001b[39;00m \u001b[38;5;28mNotImplemented\u001b[39m\n\u001b[1;32m     68\u001b[0m other \u001b[38;5;241m=\u001b[39m item_from_zerodim(other)\n\u001b[0;32m---> 70\u001b[0m \u001b[38;5;28;01mreturn\u001b[39;00m \u001b[43mmethod\u001b[49m\u001b[43m(\u001b[49m\u001b[38;5;28;43mself\u001b[39;49m\u001b[43m,\u001b[49m\u001b[43m \u001b[49m\u001b[43mother\u001b[49m\u001b[43m)\u001b[49m\n",
      "File \u001b[0;32m~/opt/miniconda3/envs/py22/lib/python3.10/site-packages/pandas/core/arraylike.py:56\u001b[0m, in \u001b[0;36mOpsMixin.__gt__\u001b[0;34m(self, other)\u001b[0m\n\u001b[1;32m     54\u001b[0m \u001b[38;5;129m@unpack_zerodim_and_defer\u001b[39m(\u001b[38;5;124m\"\u001b[39m\u001b[38;5;124m__gt__\u001b[39m\u001b[38;5;124m\"\u001b[39m)\n\u001b[1;32m     55\u001b[0m \u001b[38;5;28;01mdef\u001b[39;00m \u001b[38;5;21m__gt__\u001b[39m(\u001b[38;5;28mself\u001b[39m, other):\n\u001b[0;32m---> 56\u001b[0m     \u001b[38;5;28;01mreturn\u001b[39;00m \u001b[38;5;28;43mself\u001b[39;49m\u001b[38;5;241;43m.\u001b[39;49m\u001b[43m_cmp_method\u001b[49m\u001b[43m(\u001b[49m\u001b[43mother\u001b[49m\u001b[43m,\u001b[49m\u001b[43m \u001b[49m\u001b[43moperator\u001b[49m\u001b[38;5;241;43m.\u001b[39;49m\u001b[43mgt\u001b[49m\u001b[43m)\u001b[49m\n",
      "File \u001b[0;32m~/opt/miniconda3/envs/py22/lib/python3.10/site-packages/pandas/core/frame.py:6940\u001b[0m, in \u001b[0;36mDataFrame._cmp_method\u001b[0;34m(self, other, op)\u001b[0m\n\u001b[1;32m   6937\u001b[0m \u001b[38;5;28mself\u001b[39m, other \u001b[38;5;241m=\u001b[39m ops\u001b[38;5;241m.\u001b[39malign_method_FRAME(\u001b[38;5;28mself\u001b[39m, other, axis, flex\u001b[38;5;241m=\u001b[39m\u001b[38;5;28;01mFalse\u001b[39;00m, level\u001b[38;5;241m=\u001b[39m\u001b[38;5;28;01mNone\u001b[39;00m)\n\u001b[1;32m   6939\u001b[0m \u001b[38;5;66;03m# See GH#4537 for discussion of scalar op behavior\u001b[39;00m\n\u001b[0;32m-> 6940\u001b[0m new_data \u001b[38;5;241m=\u001b[39m \u001b[38;5;28;43mself\u001b[39;49m\u001b[38;5;241;43m.\u001b[39;49m\u001b[43m_dispatch_frame_op\u001b[49m\u001b[43m(\u001b[49m\u001b[43mother\u001b[49m\u001b[43m,\u001b[49m\u001b[43m \u001b[49m\u001b[43mop\u001b[49m\u001b[43m,\u001b[49m\u001b[43m \u001b[49m\u001b[43maxis\u001b[49m\u001b[38;5;241;43m=\u001b[39;49m\u001b[43maxis\u001b[49m\u001b[43m)\u001b[49m\n\u001b[1;32m   6941\u001b[0m \u001b[38;5;28;01mreturn\u001b[39;00m \u001b[38;5;28mself\u001b[39m\u001b[38;5;241m.\u001b[39m_construct_result(new_data)\n",
      "File \u001b[0;32m~/opt/miniconda3/envs/py22/lib/python3.10/site-packages/pandas/core/frame.py:6979\u001b[0m, in \u001b[0;36mDataFrame._dispatch_frame_op\u001b[0;34m(self, right, func, axis)\u001b[0m\n\u001b[1;32m   6976\u001b[0m \u001b[38;5;28;01mif\u001b[39;00m \u001b[38;5;129;01mnot\u001b[39;00m is_list_like(right):\n\u001b[1;32m   6977\u001b[0m     \u001b[38;5;66;03m# i.e. scalar, faster than checking np.ndim(right) == 0\u001b[39;00m\n\u001b[1;32m   6978\u001b[0m     \u001b[38;5;28;01mwith\u001b[39;00m np\u001b[38;5;241m.\u001b[39merrstate(\u001b[38;5;28mall\u001b[39m\u001b[38;5;241m=\u001b[39m\u001b[38;5;124m\"\u001b[39m\u001b[38;5;124mignore\u001b[39m\u001b[38;5;124m\"\u001b[39m):\n\u001b[0;32m-> 6979\u001b[0m         bm \u001b[38;5;241m=\u001b[39m \u001b[38;5;28;43mself\u001b[39;49m\u001b[38;5;241;43m.\u001b[39;49m\u001b[43m_mgr\u001b[49m\u001b[38;5;241;43m.\u001b[39;49m\u001b[43mapply\u001b[49m\u001b[43m(\u001b[49m\u001b[43marray_op\u001b[49m\u001b[43m,\u001b[49m\u001b[43m \u001b[49m\u001b[43mright\u001b[49m\u001b[38;5;241;43m=\u001b[39;49m\u001b[43mright\u001b[49m\u001b[43m)\u001b[49m\n\u001b[1;32m   6980\u001b[0m     \u001b[38;5;28;01mreturn\u001b[39;00m \u001b[38;5;28mself\u001b[39m\u001b[38;5;241m.\u001b[39m_constructor(bm)\n\u001b[1;32m   6982\u001b[0m \u001b[38;5;28;01melif\u001b[39;00m \u001b[38;5;28misinstance\u001b[39m(right, DataFrame):\n",
      "File \u001b[0;32m~/opt/miniconda3/envs/py22/lib/python3.10/site-packages/pandas/core/internals/managers.py:302\u001b[0m, in \u001b[0;36mBaseBlockManager.apply\u001b[0;34m(self, f, align_keys, ignore_failures, **kwargs)\u001b[0m\n\u001b[1;32m    300\u001b[0m \u001b[38;5;28;01mtry\u001b[39;00m:\n\u001b[1;32m    301\u001b[0m     \u001b[38;5;28;01mif\u001b[39;00m callable(f):\n\u001b[0;32m--> 302\u001b[0m         applied \u001b[38;5;241m=\u001b[39m \u001b[43mb\u001b[49m\u001b[38;5;241;43m.\u001b[39;49m\u001b[43mapply\u001b[49m\u001b[43m(\u001b[49m\u001b[43mf\u001b[49m\u001b[43m,\u001b[49m\u001b[43m \u001b[49m\u001b[38;5;241;43m*\u001b[39;49m\u001b[38;5;241;43m*\u001b[39;49m\u001b[43mkwargs\u001b[49m\u001b[43m)\u001b[49m\n\u001b[1;32m    303\u001b[0m     \u001b[38;5;28;01melse\u001b[39;00m:\n\u001b[1;32m    304\u001b[0m         applied \u001b[38;5;241m=\u001b[39m \u001b[38;5;28mgetattr\u001b[39m(b, f)(\u001b[38;5;241m*\u001b[39m\u001b[38;5;241m*\u001b[39mkwargs)\n",
      "File \u001b[0;32m~/opt/miniconda3/envs/py22/lib/python3.10/site-packages/pandas/core/internals/blocks.py:402\u001b[0m, in \u001b[0;36mBlock.apply\u001b[0;34m(self, func, **kwargs)\u001b[0m\n\u001b[1;32m    396\u001b[0m \u001b[38;5;129m@final\u001b[39m\n\u001b[1;32m    397\u001b[0m \u001b[38;5;28;01mdef\u001b[39;00m \u001b[38;5;21mapply\u001b[39m(\u001b[38;5;28mself\u001b[39m, func, \u001b[38;5;241m*\u001b[39m\u001b[38;5;241m*\u001b[39mkwargs) \u001b[38;5;241m-\u001b[39m\u001b[38;5;241m>\u001b[39m \u001b[38;5;28mlist\u001b[39m[Block]:\n\u001b[1;32m    398\u001b[0m     \u001b[38;5;124;03m\"\"\"\u001b[39;00m\n\u001b[1;32m    399\u001b[0m \u001b[38;5;124;03m    apply the function to my values; return a block if we are not\u001b[39;00m\n\u001b[1;32m    400\u001b[0m \u001b[38;5;124;03m    one\u001b[39;00m\n\u001b[1;32m    401\u001b[0m \u001b[38;5;124;03m    \"\"\"\u001b[39;00m\n\u001b[0;32m--> 402\u001b[0m     result \u001b[38;5;241m=\u001b[39m \u001b[43mfunc\u001b[49m\u001b[43m(\u001b[49m\u001b[38;5;28;43mself\u001b[39;49m\u001b[38;5;241;43m.\u001b[39;49m\u001b[43mvalues\u001b[49m\u001b[43m,\u001b[49m\u001b[43m \u001b[49m\u001b[38;5;241;43m*\u001b[39;49m\u001b[38;5;241;43m*\u001b[39;49m\u001b[43mkwargs\u001b[49m\u001b[43m)\u001b[49m\n\u001b[1;32m    404\u001b[0m     \u001b[38;5;28;01mreturn\u001b[39;00m \u001b[38;5;28mself\u001b[39m\u001b[38;5;241m.\u001b[39m_split_op_result(result)\n",
      "File \u001b[0;32m~/opt/miniconda3/envs/py22/lib/python3.10/site-packages/pandas/core/ops/array_ops.py:283\u001b[0m, in \u001b[0;36mcomparison_op\u001b[0;34m(left, right, op)\u001b[0m\n\u001b[1;32m    280\u001b[0m     \u001b[38;5;28;01mreturn\u001b[39;00m invalid_comparison(lvalues, rvalues, op)\n\u001b[1;32m    282\u001b[0m \u001b[38;5;28;01melif\u001b[39;00m is_object_dtype(lvalues\u001b[38;5;241m.\u001b[39mdtype) \u001b[38;5;129;01mor\u001b[39;00m \u001b[38;5;28misinstance\u001b[39m(rvalues, \u001b[38;5;28mstr\u001b[39m):\n\u001b[0;32m--> 283\u001b[0m     res_values \u001b[38;5;241m=\u001b[39m \u001b[43mcomp_method_OBJECT_ARRAY\u001b[49m\u001b[43m(\u001b[49m\u001b[43mop\u001b[49m\u001b[43m,\u001b[49m\u001b[43m \u001b[49m\u001b[43mlvalues\u001b[49m\u001b[43m,\u001b[49m\u001b[43m \u001b[49m\u001b[43mrvalues\u001b[49m\u001b[43m)\u001b[49m\n\u001b[1;32m    285\u001b[0m \u001b[38;5;28;01melse\u001b[39;00m:\n\u001b[1;32m    286\u001b[0m     res_values \u001b[38;5;241m=\u001b[39m _na_arithmetic_op(lvalues, rvalues, op, is_cmp\u001b[38;5;241m=\u001b[39m\u001b[38;5;28;01mTrue\u001b[39;00m)\n",
      "File \u001b[0;32m~/opt/miniconda3/envs/py22/lib/python3.10/site-packages/pandas/core/ops/array_ops.py:73\u001b[0m, in \u001b[0;36mcomp_method_OBJECT_ARRAY\u001b[0;34m(op, x, y)\u001b[0m\n\u001b[1;32m     71\u001b[0m     result \u001b[38;5;241m=\u001b[39m libops\u001b[38;5;241m.\u001b[39mvec_compare(x\u001b[38;5;241m.\u001b[39mravel(), y\u001b[38;5;241m.\u001b[39mravel(), op)\n\u001b[1;32m     72\u001b[0m \u001b[38;5;28;01melse\u001b[39;00m:\n\u001b[0;32m---> 73\u001b[0m     result \u001b[38;5;241m=\u001b[39m \u001b[43mlibops\u001b[49m\u001b[38;5;241;43m.\u001b[39;49m\u001b[43mscalar_compare\u001b[49m\u001b[43m(\u001b[49m\u001b[43mx\u001b[49m\u001b[38;5;241;43m.\u001b[39;49m\u001b[43mravel\u001b[49m\u001b[43m(\u001b[49m\u001b[43m)\u001b[49m\u001b[43m,\u001b[49m\u001b[43m \u001b[49m\u001b[43my\u001b[49m\u001b[43m,\u001b[49m\u001b[43m \u001b[49m\u001b[43mop\u001b[49m\u001b[43m)\u001b[49m\n\u001b[1;32m     74\u001b[0m \u001b[38;5;28;01mreturn\u001b[39;00m result\u001b[38;5;241m.\u001b[39mreshape(x\u001b[38;5;241m.\u001b[39mshape)\n",
      "File \u001b[0;32m~/opt/miniconda3/envs/py22/lib/python3.10/site-packages/pandas/_libs/ops.pyx:107\u001b[0m, in \u001b[0;36mpandas._libs.ops.scalar_compare\u001b[0;34m()\u001b[0m\n",
      "\u001b[0;31mTypeError\u001b[0m: '>' not supported between instances of 'str' and 'int'"
     ]
    }
   ],
   "source": [
    "# Is this a correct statement? \n",
    "\n",
    "towns_df > 50"
   ]
  },
  {
   "cell_type": "markdown",
   "id": "0fbd661c-7714-4de4-a169-cd282f916123",
   "metadata": {},
   "source": [
    "As well as assigning values based on a condition"
   ]
  },
  {
   "cell_type": "code",
   "execution_count": 295,
   "id": "6ed09541-37d9-4356-b349-229b469fd009",
   "metadata": {},
   "outputs": [
    {
     "data": {
      "text/html": [
       "<div>\n",
       "<style scoped>\n",
       "    .dataframe tbody tr th:only-of-type {\n",
       "        vertical-align: middle;\n",
       "    }\n",
       "\n",
       "    .dataframe tbody tr th {\n",
       "        vertical-align: top;\n",
       "    }\n",
       "\n",
       "    .dataframe thead th {\n",
       "        text-align: right;\n",
       "    }\n",
       "</style>\n",
       "<table border=\"1\" class=\"dataframe\">\n",
       "  <thead>\n",
       "    <tr style=\"text-align: right;\">\n",
       "      <th></th>\n",
       "      <th>name</th>\n",
       "      <th>population</th>\n",
       "      <th>n_pubs</th>\n",
       "      <th>pubs_per_capita</th>\n",
       "      <th>people_per_pub</th>\n",
       "      <th>has_mountains</th>\n",
       "      <th>crowded_pubs</th>\n",
       "    </tr>\n",
       "    <tr>\n",
       "      <th>Initials</th>\n",
       "      <th></th>\n",
       "      <th></th>\n",
       "      <th></th>\n",
       "      <th></th>\n",
       "      <th></th>\n",
       "      <th></th>\n",
       "      <th></th>\n",
       "    </tr>\n",
       "  </thead>\n",
       "  <tbody>\n",
       "    <tr>\n",
       "      <th>C</th>\n",
       "      <td>Cardiff</td>\n",
       "      <td>335145.0</td>\n",
       "      <td>2100</td>\n",
       "      <td>0.006266</td>\n",
       "      <td>159.592857</td>\n",
       "      <td>False</td>\n",
       "      <td>True</td>\n",
       "    </tr>\n",
       "    <tr>\n",
       "      <th>S</th>\n",
       "      <td>Swansea</td>\n",
       "      <td>230300.0</td>\n",
       "      <td>1680</td>\n",
       "      <td>0.007295</td>\n",
       "      <td>137.083333</td>\n",
       "      <td>False</td>\n",
       "      <td>False</td>\n",
       "    </tr>\n",
       "    <tr>\n",
       "      <th>A</th>\n",
       "      <td>Abergavenny</td>\n",
       "      <td>12515.0</td>\n",
       "      <td>198</td>\n",
       "      <td>0.015821</td>\n",
       "      <td>63.207071</td>\n",
       "      <td>False</td>\n",
       "      <td>False</td>\n",
       "    </tr>\n",
       "    <tr>\n",
       "      <th>M</th>\n",
       "      <td>Machynlleth</td>\n",
       "      <td>NaN</td>\n",
       "      <td>48</td>\n",
       "      <td>NaN</td>\n",
       "      <td>NaN</td>\n",
       "      <td>False</td>\n",
       "      <td>False</td>\n",
       "    </tr>\n",
       "  </tbody>\n",
       "</table>\n",
       "</div>"
      ],
      "text/plain": [
       "                 name  population  n_pubs  pubs_per_capita  people_per_pub  \\\n",
       "Initials                                                                     \n",
       "C             Cardiff    335145.0    2100         0.006266      159.592857   \n",
       "S             Swansea    230300.0    1680         0.007295      137.083333   \n",
       "A         Abergavenny     12515.0     198         0.015821       63.207071   \n",
       "M         Machynlleth         NaN      48              NaN             NaN   \n",
       "\n",
       "          has_mountains  crowded_pubs  \n",
       "Initials                               \n",
       "C                 False          True  \n",
       "S                 False         False  \n",
       "A                 False         False  \n",
       "M                 False         False  "
      ]
     },
     "execution_count": 295,
     "metadata": {},
     "output_type": "execute_result"
    }
   ],
   "source": [
    "towns_df['crowded_pubs'] = towns_df.people_per_pub > 150\n",
    "\n",
    "towns_df"
   ]
  },
  {
   "cell_type": "code",
   "execution_count": 296,
   "id": "c44bfa39-8b33-4871-ae49-58347aaef7ef",
   "metadata": {},
   "outputs": [
    {
     "data": {
      "text/plain": [
       "Index(['name', 'population', 'n_pubs', 'pubs_per_capita', 'people_per_pub',\n",
       "       'crowded_pubs'],\n",
       "      dtype='object')"
      ]
     },
     "execution_count": 296,
     "metadata": {},
     "output_type": "execute_result"
    }
   ],
   "source": [
    "# drop a colum with del\n",
    "\n",
    "del towns_df['has_mountains']\n",
    "\n",
    "towns_df.columns"
   ]
  },
  {
   "cell_type": "code",
   "execution_count": 297,
   "id": "cf39c263-479b-4fed-b937-16a856bf9db2",
   "metadata": {
    "tags": []
   },
   "outputs": [
    {
     "data": {
      "text/html": [
       "<div>\n",
       "<style scoped>\n",
       "    .dataframe tbody tr th:only-of-type {\n",
       "        vertical-align: middle;\n",
       "    }\n",
       "\n",
       "    .dataframe tbody tr th {\n",
       "        vertical-align: top;\n",
       "    }\n",
       "\n",
       "    .dataframe thead th {\n",
       "        text-align: right;\n",
       "    }\n",
       "</style>\n",
       "<table border=\"1\" class=\"dataframe\">\n",
       "  <thead>\n",
       "    <tr style=\"text-align: right;\">\n",
       "      <th></th>\n",
       "      <th>name</th>\n",
       "      <th>population</th>\n",
       "      <th>n_pubs</th>\n",
       "      <th>pubs_per_capita</th>\n",
       "      <th>people_per_pub</th>\n",
       "      <th>crowded_pubs</th>\n",
       "    </tr>\n",
       "    <tr>\n",
       "      <th>Initials</th>\n",
       "      <th></th>\n",
       "      <th></th>\n",
       "      <th></th>\n",
       "      <th></th>\n",
       "      <th></th>\n",
       "      <th></th>\n",
       "    </tr>\n",
       "  </thead>\n",
       "  <tbody>\n",
       "    <tr>\n",
       "      <th>A</th>\n",
       "      <td>Abergavenny</td>\n",
       "      <td>12515.0</td>\n",
       "      <td>198</td>\n",
       "      <td>0.015821</td>\n",
       "      <td>63.207071</td>\n",
       "      <td>False</td>\n",
       "    </tr>\n",
       "    <tr>\n",
       "      <th>S</th>\n",
       "      <td>Swansea</td>\n",
       "      <td>230300.0</td>\n",
       "      <td>1680</td>\n",
       "      <td>0.007295</td>\n",
       "      <td>137.083333</td>\n",
       "      <td>False</td>\n",
       "    </tr>\n",
       "    <tr>\n",
       "      <th>C</th>\n",
       "      <td>Cardiff</td>\n",
       "      <td>335145.0</td>\n",
       "      <td>2100</td>\n",
       "      <td>0.006266</td>\n",
       "      <td>159.592857</td>\n",
       "      <td>True</td>\n",
       "    </tr>\n",
       "    <tr>\n",
       "      <th>M</th>\n",
       "      <td>Machynlleth</td>\n",
       "      <td>NaN</td>\n",
       "      <td>48</td>\n",
       "      <td>NaN</td>\n",
       "      <td>NaN</td>\n",
       "      <td>False</td>\n",
       "    </tr>\n",
       "  </tbody>\n",
       "</table>\n",
       "</div>"
      ],
      "text/plain": [
       "                 name  population  n_pubs  pubs_per_capita  people_per_pub  \\\n",
       "Initials                                                                     \n",
       "A         Abergavenny     12515.0     198         0.015821       63.207071   \n",
       "S             Swansea    230300.0    1680         0.007295      137.083333   \n",
       "C             Cardiff    335145.0    2100         0.006266      159.592857   \n",
       "M         Machynlleth         NaN      48              NaN             NaN   \n",
       "\n",
       "          crowded_pubs  \n",
       "Initials                \n",
       "A                False  \n",
       "S                False  \n",
       "C                 True  \n",
       "M                False  "
      ]
     },
     "execution_count": 297,
     "metadata": {},
     "output_type": "execute_result"
    }
   ],
   "source": [
    "# Use the .sort_values() method\n",
    "\n",
    "towns_df.sort_values(by = 'people_per_pub')"
   ]
  },
  {
   "cell_type": "code",
   "execution_count": 298,
   "id": "25f1dc9b-4ed9-432f-9be9-25c669f727f4",
   "metadata": {},
   "outputs": [
    {
     "data": {
      "text/html": [
       "<div>\n",
       "<style scoped>\n",
       "    .dataframe tbody tr th:only-of-type {\n",
       "        vertical-align: middle;\n",
       "    }\n",
       "\n",
       "    .dataframe tbody tr th {\n",
       "        vertical-align: top;\n",
       "    }\n",
       "\n",
       "    .dataframe thead th {\n",
       "        text-align: right;\n",
       "    }\n",
       "</style>\n",
       "<table border=\"1\" class=\"dataframe\">\n",
       "  <thead>\n",
       "    <tr style=\"text-align: right;\">\n",
       "      <th>Initials</th>\n",
       "      <th>C</th>\n",
       "      <th>S</th>\n",
       "      <th>A</th>\n",
       "      <th>M</th>\n",
       "    </tr>\n",
       "  </thead>\n",
       "  <tbody>\n",
       "    <tr>\n",
       "      <th>name</th>\n",
       "      <td>Cardiff</td>\n",
       "      <td>Swansea</td>\n",
       "      <td>Abergavenny</td>\n",
       "      <td>Machynlleth</td>\n",
       "    </tr>\n",
       "    <tr>\n",
       "      <th>population</th>\n",
       "      <td>335145.0</td>\n",
       "      <td>230300.0</td>\n",
       "      <td>12515.0</td>\n",
       "      <td>NaN</td>\n",
       "    </tr>\n",
       "    <tr>\n",
       "      <th>n_pubs</th>\n",
       "      <td>2100</td>\n",
       "      <td>1680</td>\n",
       "      <td>198</td>\n",
       "      <td>48</td>\n",
       "    </tr>\n",
       "    <tr>\n",
       "      <th>pubs_per_capita</th>\n",
       "      <td>0.006266</td>\n",
       "      <td>0.007295</td>\n",
       "      <td>0.015821</td>\n",
       "      <td>NaN</td>\n",
       "    </tr>\n",
       "    <tr>\n",
       "      <th>people_per_pub</th>\n",
       "      <td>159.592857</td>\n",
       "      <td>137.083333</td>\n",
       "      <td>63.207071</td>\n",
       "      <td>NaN</td>\n",
       "    </tr>\n",
       "    <tr>\n",
       "      <th>crowded_pubs</th>\n",
       "      <td>True</td>\n",
       "      <td>False</td>\n",
       "      <td>False</td>\n",
       "      <td>False</td>\n",
       "    </tr>\n",
       "  </tbody>\n",
       "</table>\n",
       "</div>"
      ],
      "text/plain": [
       "Initials                  C           S            A            M\n",
       "name                Cardiff     Swansea  Abergavenny  Machynlleth\n",
       "population         335145.0    230300.0      12515.0          NaN\n",
       "n_pubs                 2100        1680          198           48\n",
       "pubs_per_capita    0.006266    0.007295     0.015821          NaN\n",
       "people_per_pub   159.592857  137.083333    63.207071          NaN\n",
       "crowded_pubs           True       False        False        False"
      ]
     },
     "execution_count": 298,
     "metadata": {},
     "output_type": "execute_result"
    }
   ],
   "source": [
    "# Transposing a dataframe\n",
    "\n",
    "towns_df.T"
   ]
  },
  {
   "cell_type": "code",
   "execution_count": 299,
   "id": "def18dfc-80da-4269-a231-8c5e1c73a1a2",
   "metadata": {},
   "outputs": [
    {
     "data": {
      "text/plain": [
       "array([['Cardiff', 335145.0, 2100, 0.0062659445911471155,\n",
       "        159.59285714285716, True],\n",
       "       ['Swansea', 230300.0, 1680, 0.00729483282674772,\n",
       "        137.08333333333334, False],\n",
       "       ['Abergavenny', 12515.0, 198, 0.015821014782261285,\n",
       "        63.207070707070706, False],\n",
       "       ['Machynlleth', nan, 48, nan, nan, False]], dtype=object)"
      ]
     },
     "execution_count": 299,
     "metadata": {},
     "output_type": "execute_result"
    }
   ],
   "source": [
    "# Convert a DF to a ndarray\n",
    "\n",
    "towns_df.to_numpy()"
   ]
  },
  {
   "cell_type": "markdown",
   "id": "800e2bb3-4831-49d2-9948-37a0ceea7ebe",
   "metadata": {
    "tags": []
   },
   "source": [
    "#### Operate on rows"
   ]
  },
  {
   "cell_type": "markdown",
   "id": "e5d706d2-24c6-4c70-9761-e333f63c7109",
   "metadata": {},
   "source": [
    "``loc`` method allows for selecting a row using the row index. "
   ]
  },
  {
   "cell_type": "code",
   "execution_count": 300,
   "id": "2f39c301-a9ff-4d10-a559-1dd552ba2255",
   "metadata": {
    "tags": []
   },
   "outputs": [
    {
     "data": {
      "text/plain": [
       "name                  Swansea\n",
       "population           230300.0\n",
       "n_pubs                   1680\n",
       "pubs_per_capita      0.007295\n",
       "people_per_pub     137.083333\n",
       "crowded_pubs            False\n",
       "Name: S, dtype: object"
      ]
     },
     "execution_count": 300,
     "metadata": {},
     "output_type": "execute_result"
    }
   ],
   "source": [
    "towns_df.loc['S']"
   ]
  },
  {
   "cell_type": "markdown",
   "id": "72b018b6-0be1-44ac-a7b1-0241c6959ecb",
   "metadata": {},
   "source": [
    "Use iloc to select a certain row number"
   ]
  },
  {
   "cell_type": "code",
   "execution_count": 301,
   "id": "2319fe4a-cca8-49ad-986d-9d17d7dc63a6",
   "metadata": {},
   "outputs": [
    {
     "data": {
      "text/html": [
       "<div>\n",
       "<style scoped>\n",
       "    .dataframe tbody tr th:only-of-type {\n",
       "        vertical-align: middle;\n",
       "    }\n",
       "\n",
       "    .dataframe tbody tr th {\n",
       "        vertical-align: top;\n",
       "    }\n",
       "\n",
       "    .dataframe thead th {\n",
       "        text-align: right;\n",
       "    }\n",
       "</style>\n",
       "<table border=\"1\" class=\"dataframe\">\n",
       "  <thead>\n",
       "    <tr style=\"text-align: right;\">\n",
       "      <th></th>\n",
       "      <th>name</th>\n",
       "      <th>population</th>\n",
       "      <th>n_pubs</th>\n",
       "      <th>pubs_per_capita</th>\n",
       "      <th>people_per_pub</th>\n",
       "      <th>crowded_pubs</th>\n",
       "    </tr>\n",
       "    <tr>\n",
       "      <th>Initials</th>\n",
       "      <th></th>\n",
       "      <th></th>\n",
       "      <th></th>\n",
       "      <th></th>\n",
       "      <th></th>\n",
       "      <th></th>\n",
       "    </tr>\n",
       "  </thead>\n",
       "  <tbody>\n",
       "    <tr>\n",
       "      <th>S</th>\n",
       "      <td>Swansea</td>\n",
       "      <td>230300.0</td>\n",
       "      <td>1680</td>\n",
       "      <td>0.007295</td>\n",
       "      <td>137.083333</td>\n",
       "      <td>False</td>\n",
       "    </tr>\n",
       "    <tr>\n",
       "      <th>A</th>\n",
       "      <td>Abergavenny</td>\n",
       "      <td>12515.0</td>\n",
       "      <td>198</td>\n",
       "      <td>0.015821</td>\n",
       "      <td>63.207071</td>\n",
       "      <td>False</td>\n",
       "    </tr>\n",
       "  </tbody>\n",
       "</table>\n",
       "</div>"
      ],
      "text/plain": [
       "                 name  population  n_pubs  pubs_per_capita  people_per_pub  \\\n",
       "Initials                                                                     \n",
       "S             Swansea    230300.0    1680         0.007295      137.083333   \n",
       "A         Abergavenny     12515.0     198         0.015821       63.207071   \n",
       "\n",
       "          crowded_pubs  \n",
       "Initials                \n",
       "S                False  \n",
       "A                False  "
      ]
     },
     "execution_count": 301,
     "metadata": {},
     "output_type": "execute_result"
    }
   ],
   "source": [
    "# Selects the second and the third row\n",
    "\n",
    "towns_df.iloc[[1,2]]"
   ]
  },
  {
   "cell_type": "code",
   "execution_count": 302,
   "id": "21ed8723-8ee8-41c4-a33d-4cfe1b002c8e",
   "metadata": {},
   "outputs": [
    {
     "data": {
      "text/plain": [
       "230300.0"
      ]
     },
     "execution_count": 302,
     "metadata": {},
     "output_type": "execute_result"
    }
   ],
   "source": [
    "# Select second row and second column\n",
    "\n",
    "towns_df.iloc[1, 1]"
   ]
  },
  {
   "cell_type": "markdown",
   "id": "bf34678c-eef8-4f48-a4c7-ed383df8f8a2",
   "metadata": {},
   "source": [
    "These operations allow for manipulating rows and columns at the same time"
   ]
  },
  {
   "cell_type": "code",
   "execution_count": 303,
   "id": "0a05f01b-21bd-4ba0-a50f-d05eab01d676",
   "metadata": {},
   "outputs": [
    {
     "data": {
      "text/html": [
       "<div>\n",
       "<style scoped>\n",
       "    .dataframe tbody tr th:only-of-type {\n",
       "        vertical-align: middle;\n",
       "    }\n",
       "\n",
       "    .dataframe tbody tr th {\n",
       "        vertical-align: top;\n",
       "    }\n",
       "\n",
       "    .dataframe thead th {\n",
       "        text-align: right;\n",
       "    }\n",
       "</style>\n",
       "<table border=\"1\" class=\"dataframe\">\n",
       "  <thead>\n",
       "    <tr style=\"text-align: right;\">\n",
       "      <th></th>\n",
       "      <th>name</th>\n",
       "      <th>n_pubs</th>\n",
       "    </tr>\n",
       "    <tr>\n",
       "      <th>Initials</th>\n",
       "      <th></th>\n",
       "      <th></th>\n",
       "    </tr>\n",
       "  </thead>\n",
       "  <tbody>\n",
       "    <tr>\n",
       "      <th>C</th>\n",
       "      <td>Cardiff</td>\n",
       "      <td>0</td>\n",
       "    </tr>\n",
       "    <tr>\n",
       "      <th>S</th>\n",
       "      <td>Swansea</td>\n",
       "      <td>0</td>\n",
       "    </tr>\n",
       "    <tr>\n",
       "      <th>A</th>\n",
       "      <td>Abergavenny</td>\n",
       "      <td>0</td>\n",
       "    </tr>\n",
       "    <tr>\n",
       "      <th>M</th>\n",
       "      <td>Machynlleth</td>\n",
       "      <td>0</td>\n",
       "    </tr>\n",
       "  </tbody>\n",
       "</table>\n",
       "</div>"
      ],
      "text/plain": [
       "                 name  n_pubs\n",
       "Initials                     \n",
       "C             Cardiff       0\n",
       "S             Swansea       0\n",
       "A         Abergavenny       0\n",
       "M         Machynlleth       0"
      ]
     },
     "execution_count": 303,
     "metadata": {},
     "output_type": "execute_result"
    }
   ],
   "source": [
    "# Slicing\n",
    "\n",
    "n_pubs = towns_df.loc[:, ['name', 'n_pubs']]\n",
    "n_pubs.loc[:,'n_pubs'] = 0\n",
    "n_pubs"
   ]
  },
  {
   "cell_type": "markdown",
   "id": "db1116f7-02ef-4e1f-b2ea-d27dc8442bdc",
   "metadata": {},
   "source": [
    "**Important**: Always use loc if you want to ensure the proper access to the right elements and that a _copy_ of a slice is returend"
   ]
  },
  {
   "cell_type": "code",
   "execution_count": 304,
   "id": "6cc73479-974e-4d33-8e2b-bf37f15133bf",
   "metadata": {},
   "outputs": [
    {
     "data": {
      "text/html": [
       "<div>\n",
       "<style scoped>\n",
       "    .dataframe tbody tr th:only-of-type {\n",
       "        vertical-align: middle;\n",
       "    }\n",
       "\n",
       "    .dataframe tbody tr th {\n",
       "        vertical-align: top;\n",
       "    }\n",
       "\n",
       "    .dataframe thead th {\n",
       "        text-align: right;\n",
       "    }\n",
       "</style>\n",
       "<table border=\"1\" class=\"dataframe\">\n",
       "  <thead>\n",
       "    <tr style=\"text-align: right;\">\n",
       "      <th></th>\n",
       "      <th>name</th>\n",
       "      <th>population</th>\n",
       "      <th>n_pubs</th>\n",
       "      <th>pubs_per_capita</th>\n",
       "      <th>people_per_pub</th>\n",
       "      <th>crowded_pubs</th>\n",
       "    </tr>\n",
       "    <tr>\n",
       "      <th>Initials</th>\n",
       "      <th></th>\n",
       "      <th></th>\n",
       "      <th></th>\n",
       "      <th></th>\n",
       "      <th></th>\n",
       "      <th></th>\n",
       "    </tr>\n",
       "  </thead>\n",
       "  <tbody>\n",
       "    <tr>\n",
       "      <th>C</th>\n",
       "      <td>Cardiff</td>\n",
       "      <td>335145.0</td>\n",
       "      <td>2100</td>\n",
       "      <td>0.006266</td>\n",
       "      <td>159.592857</td>\n",
       "      <td>True</td>\n",
       "    </tr>\n",
       "    <tr>\n",
       "      <th>S</th>\n",
       "      <td>Swansea</td>\n",
       "      <td>230300.0</td>\n",
       "      <td>1680</td>\n",
       "      <td>0.007295</td>\n",
       "      <td>137.083333</td>\n",
       "      <td>False</td>\n",
       "    </tr>\n",
       "    <tr>\n",
       "      <th>A</th>\n",
       "      <td>Abergavenny</td>\n",
       "      <td>12515.0</td>\n",
       "      <td>198</td>\n",
       "      <td>0.015821</td>\n",
       "      <td>63.207071</td>\n",
       "      <td>False</td>\n",
       "    </tr>\n",
       "    <tr>\n",
       "      <th>M</th>\n",
       "      <td>Machynlleth</td>\n",
       "      <td>NaN</td>\n",
       "      <td>48</td>\n",
       "      <td>NaN</td>\n",
       "      <td>NaN</td>\n",
       "      <td>False</td>\n",
       "    </tr>\n",
       "  </tbody>\n",
       "</table>\n",
       "</div>"
      ],
      "text/plain": [
       "                 name  population  n_pubs  pubs_per_capita  people_per_pub  \\\n",
       "Initials                                                                     \n",
       "C             Cardiff    335145.0    2100         0.006266      159.592857   \n",
       "S             Swansea    230300.0    1680         0.007295      137.083333   \n",
       "A         Abergavenny     12515.0     198         0.015821       63.207071   \n",
       "M         Machynlleth         NaN      48              NaN             NaN   \n",
       "\n",
       "          crowded_pubs  \n",
       "Initials                \n",
       "C                 True  \n",
       "S                False  \n",
       "A                False  \n",
       "M                False  "
      ]
     },
     "execution_count": 304,
     "metadata": {},
     "output_type": "execute_result"
    }
   ],
   "source": [
    "# The original DF is unaffected!\n",
    "\n",
    "towns_df"
   ]
  },
  {
   "cell_type": "markdown",
   "id": "a476cd99-e6c6-45d4-8561-e91328e6bcc4",
   "metadata": {},
   "source": [
    "List of all the main indexing function"
   ]
  },
  {
   "cell_type": "markdown",
   "id": "8cb4f413-baec-4bf0-9cb8-3bb931715af9",
   "metadata": {},
   "source": [
    "| Type                  | Notes                                                                                                                                                                                                 |\n",
    "| --------------------- | ----------------------------------------------------------------------------------------------------------------------------------------------------------------------------------------------------- |\n",
    "| `df[column]`          | Select single column or sequence of columns from the DataFrame; special case conveniences: boolean array (filter rows), slice (slice rows), or boolean DataFrame (set values based on some criterion) |\n",
    "| `df.loc[rows]`        | Select single row or subset of rows from the DataFrame by label                                                                                                                                       |\n",
    "| `df.loc[:, cols]`     | Select single column or subset of columns by label                                                                                                                                                    |\n",
    "| `df.loc[rows, cols]`  | Select both row(s) and column(s) by label                                                                                                                                                             |\n",
    "| `df.iloc[rows]`       | Select single row or subset of rows from the DataFrame by integer position                                                                                                                            |\n",
    "| `df.iloc[:, cols]`    | Select single column or subset of columns by integer position                                                                                                                                         |\n",
    "| `df.iloc[rows, cols]` | Select both row(s) and column(s) by integer position                                                                                                                                                  |\n",
    "| `df.at[row, col]`     | Select a single scalar value by row and column label                                                                                                                                                  |\n",
    "| `df.iat[row, col]`    | Select a single scalar value by row and column position (integers)                                                                                                                                    |\n",
    "| `reindex` method      | Select either rows or columns by labels                                                                                                                                                               |"
   ]
  },
  {
   "cell_type": "markdown",
   "id": "e8f5ee70-8a91-4df8-b33d-044cebcaa8e3",
   "metadata": {
    "jp-MarkdownHeadingCollapsed": true,
    "tags": []
   },
   "source": [
    "### Manipulating indexes"
   ]
  },
  {
   "cell_type": "markdown",
   "id": "e5c34541-59e7-4b80-bbcb-ebee1beeb2db",
   "metadata": {},
   "source": [
    "An index of a DataFrame associates each row to a value"
   ]
  },
  {
   "cell_type": "code",
   "execution_count": 157,
   "id": "1691a8e7-1d6d-4716-a756-b72f6801500a",
   "metadata": {},
   "outputs": [
    {
     "data": {
      "text/html": [
       "<div>\n",
       "<style scoped>\n",
       "    .dataframe tbody tr th:only-of-type {\n",
       "        vertical-align: middle;\n",
       "    }\n",
       "\n",
       "    .dataframe tbody tr th {\n",
       "        vertical-align: top;\n",
       "    }\n",
       "\n",
       "    .dataframe thead th {\n",
       "        text-align: right;\n",
       "    }\n",
       "</style>\n",
       "<table border=\"1\" class=\"dataframe\">\n",
       "  <thead>\n",
       "    <tr style=\"text-align: right;\">\n",
       "      <th></th>\n",
       "      <th>name</th>\n",
       "      <th>population</th>\n",
       "      <th>n_pubs</th>\n",
       "      <th>pubs_per_capita</th>\n",
       "      <th>people_per_pub</th>\n",
       "      <th>crowded_pubs</th>\n",
       "    </tr>\n",
       "  </thead>\n",
       "  <tbody>\n",
       "    <tr>\n",
       "      <th>C</th>\n",
       "      <td>Cardiff</td>\n",
       "      <td>335145</td>\n",
       "      <td>2100</td>\n",
       "      <td>0.006266</td>\n",
       "      <td>159.592857</td>\n",
       "      <td>True</td>\n",
       "    </tr>\n",
       "    <tr>\n",
       "      <th>S</th>\n",
       "      <td>Swansea</td>\n",
       "      <td>230300</td>\n",
       "      <td>1680</td>\n",
       "      <td>0.007295</td>\n",
       "      <td>137.083333</td>\n",
       "      <td>False</td>\n",
       "    </tr>\n",
       "    <tr>\n",
       "      <th>A</th>\n",
       "      <td>Abergavenny</td>\n",
       "      <td>12515</td>\n",
       "      <td>198</td>\n",
       "      <td>0.015821</td>\n",
       "      <td>63.207071</td>\n",
       "      <td>False</td>\n",
       "    </tr>\n",
       "    <tr>\n",
       "      <th>M</th>\n",
       "      <td>Machynlleth</td>\n",
       "      <td>2235</td>\n",
       "      <td>48</td>\n",
       "      <td>0.021477</td>\n",
       "      <td>46.562500</td>\n",
       "      <td>False</td>\n",
       "    </tr>\n",
       "  </tbody>\n",
       "</table>\n",
       "</div>"
      ],
      "text/plain": [
       "          name  population  n_pubs  pubs_per_capita  people_per_pub  \\\n",
       "C      Cardiff      335145    2100         0.006266      159.592857   \n",
       "S      Swansea      230300    1680         0.007295      137.083333   \n",
       "A  Abergavenny       12515     198         0.015821       63.207071   \n",
       "M  Machynlleth        2235      48         0.021477       46.562500   \n",
       "\n",
       "   crowded_pubs  \n",
       "C          True  \n",
       "S         False  \n",
       "A         False  \n",
       "M         False  "
      ]
     },
     "execution_count": 157,
     "metadata": {},
     "output_type": "execute_result"
    }
   ],
   "source": [
    "# changing the index of a DataFrams\n",
    "\n",
    "towns_df.index = ['C', 'S','A', 'M']\n",
    "towns_df"
   ]
  },
  {
   "cell_type": "code",
   "execution_count": 155,
   "id": "804c6460-53c7-4656-b552-2b3e7418add7",
   "metadata": {},
   "outputs": [
    {
     "data": {
      "text/plain": [
       "Index(['C', 'S', 'A', 'M'], dtype='object')"
      ]
     },
     "execution_count": 155,
     "metadata": {},
     "output_type": "execute_result"
    }
   ],
   "source": [
    "# Each column has the sam index\n",
    "\n",
    "towns_df['population'].index"
   ]
  },
  {
   "cell_type": "markdown",
   "id": "d37a606f-a2b2-4cc2-94c7-800bb9a4592a",
   "metadata": {},
   "source": [
    "Reindex means to change the current index on data to reflect the new index. If a row does not exists, a new one is created with empty values"
   ]
  },
  {
   "cell_type": "code",
   "execution_count": 156,
   "id": "380f3a1e-7e0e-43f0-9ce2-981d7e014556",
   "metadata": {},
   "outputs": [
    {
     "data": {
      "text/html": [
       "<div>\n",
       "<style scoped>\n",
       "    .dataframe tbody tr th:only-of-type {\n",
       "        vertical-align: middle;\n",
       "    }\n",
       "\n",
       "    .dataframe tbody tr th {\n",
       "        vertical-align: top;\n",
       "    }\n",
       "\n",
       "    .dataframe thead th {\n",
       "        text-align: right;\n",
       "    }\n",
       "</style>\n",
       "<table border=\"1\" class=\"dataframe\">\n",
       "  <thead>\n",
       "    <tr style=\"text-align: right;\">\n",
       "      <th></th>\n",
       "      <th>name</th>\n",
       "      <th>population</th>\n",
       "      <th>n_pubs</th>\n",
       "      <th>pubs_per_capita</th>\n",
       "      <th>people_per_pub</th>\n",
       "      <th>crowded_pubs</th>\n",
       "    </tr>\n",
       "  </thead>\n",
       "  <tbody>\n",
       "    <tr>\n",
       "      <th>C</th>\n",
       "      <td>Cardiff</td>\n",
       "      <td>335145.0</td>\n",
       "      <td>2100.0</td>\n",
       "      <td>0.006266</td>\n",
       "      <td>159.592857</td>\n",
       "      <td>True</td>\n",
       "    </tr>\n",
       "    <tr>\n",
       "      <th>S</th>\n",
       "      <td>Swansea</td>\n",
       "      <td>230300.0</td>\n",
       "      <td>1680.0</td>\n",
       "      <td>0.007295</td>\n",
       "      <td>137.083333</td>\n",
       "      <td>False</td>\n",
       "    </tr>\n",
       "    <tr>\n",
       "      <th>A</th>\n",
       "      <td>Abergavenny</td>\n",
       "      <td>12515.0</td>\n",
       "      <td>198.0</td>\n",
       "      <td>0.015821</td>\n",
       "      <td>63.207071</td>\n",
       "      <td>False</td>\n",
       "    </tr>\n",
       "    <tr>\n",
       "      <th>M</th>\n",
       "      <td>Machynlleth</td>\n",
       "      <td>2235.0</td>\n",
       "      <td>48.0</td>\n",
       "      <td>0.021477</td>\n",
       "      <td>46.562500</td>\n",
       "      <td>False</td>\n",
       "    </tr>\n",
       "    <tr>\n",
       "      <th>B</th>\n",
       "      <td>NaN</td>\n",
       "      <td>NaN</td>\n",
       "      <td>NaN</td>\n",
       "      <td>NaN</td>\n",
       "      <td>NaN</td>\n",
       "      <td>NaN</td>\n",
       "    </tr>\n",
       "  </tbody>\n",
       "</table>\n",
       "</div>"
      ],
      "text/plain": [
       "          name  population  n_pubs  pubs_per_capita  people_per_pub  \\\n",
       "C      Cardiff    335145.0  2100.0         0.006266      159.592857   \n",
       "S      Swansea    230300.0  1680.0         0.007295      137.083333   \n",
       "A  Abergavenny     12515.0   198.0         0.015821       63.207071   \n",
       "M  Machynlleth      2235.0    48.0         0.021477       46.562500   \n",
       "B          NaN         NaN     NaN              NaN             NaN   \n",
       "\n",
       "  crowded_pubs  \n",
       "C         True  \n",
       "S        False  \n",
       "A        False  \n",
       "M        False  \n",
       "B          NaN  "
      ]
     },
     "execution_count": 156,
     "metadata": {},
     "output_type": "execute_result"
    }
   ],
   "source": [
    "towns_df.reindex(['C', 'S', 'A', 'M', 'B'])"
   ]
  },
  {
   "cell_type": "markdown",
   "id": "29f225f4-1999-4d7a-97bd-372c6e3f39bc",
   "metadata": {
    "tags": []
   },
   "source": [
    "### Basic operations with multiple Data Frames\n",
    "\n",
    "Pandas suppports a wealth of algebraic operations among series and data frames."
   ]
  },
  {
   "cell_type": "code",
   "execution_count": 312,
   "id": "4aa8576b-848d-4e11-a22d-bba6eac6957a",
   "metadata": {},
   "outputs": [
    {
     "data": {
      "text/html": [
       "<div>\n",
       "<style scoped>\n",
       "    .dataframe tbody tr th:only-of-type {\n",
       "        vertical-align: middle;\n",
       "    }\n",
       "\n",
       "    .dataframe tbody tr th {\n",
       "        vertical-align: top;\n",
       "    }\n",
       "\n",
       "    .dataframe thead th {\n",
       "        text-align: right;\n",
       "    }\n",
       "</style>\n",
       "<table border=\"1\" class=\"dataframe\">\n",
       "  <thead>\n",
       "    <tr style=\"text-align: right;\">\n",
       "      <th></th>\n",
       "      <th>population</th>\n",
       "      <th>n_pubs</th>\n",
       "    </tr>\n",
       "  </thead>\n",
       "  <tbody>\n",
       "    <tr>\n",
       "      <th>C</th>\n",
       "      <td>0.0</td>\n",
       "      <td>1.0</td>\n",
       "    </tr>\n",
       "    <tr>\n",
       "      <th>S</th>\n",
       "      <td>2.0</td>\n",
       "      <td>3.0</td>\n",
       "    </tr>\n",
       "    <tr>\n",
       "      <th>D</th>\n",
       "      <td>4.0</td>\n",
       "      <td>5.0</td>\n",
       "    </tr>\n",
       "    <tr>\n",
       "      <th>L</th>\n",
       "      <td>6.0</td>\n",
       "      <td>7.0</td>\n",
       "    </tr>\n",
       "  </tbody>\n",
       "</table>\n",
       "</div>"
      ],
      "text/plain": [
       "   population  n_pubs\n",
       "C         0.0     1.0\n",
       "S         2.0     3.0\n",
       "D         4.0     5.0\n",
       "L         6.0     7.0"
      ]
     },
     "execution_count": 312,
     "metadata": {},
     "output_type": "execute_result"
    }
   ],
   "source": [
    "t2 = pd.DataFrame(np.arange(8.).reshape((4, 2)), columns=['population', 'n_pubs'],\n",
    "                   index=[\"C\", \"S\", \"D\", \"L\"])\n",
    "t2"
   ]
  },
  {
   "cell_type": "code",
   "execution_count": 313,
   "id": "9b5425d0-8986-4a11-bc42-493e25ee552e",
   "metadata": {},
   "outputs": [
    {
     "data": {
      "text/html": [
       "<div>\n",
       "<style scoped>\n",
       "    .dataframe tbody tr th:only-of-type {\n",
       "        vertical-align: middle;\n",
       "    }\n",
       "\n",
       "    .dataframe tbody tr th {\n",
       "        vertical-align: top;\n",
       "    }\n",
       "\n",
       "    .dataframe thead th {\n",
       "        text-align: right;\n",
       "    }\n",
       "</style>\n",
       "<table border=\"1\" class=\"dataframe\">\n",
       "  <thead>\n",
       "    <tr style=\"text-align: right;\">\n",
       "      <th></th>\n",
       "      <th>crowded_pubs</th>\n",
       "      <th>n_pubs</th>\n",
       "      <th>name</th>\n",
       "      <th>people_per_pub</th>\n",
       "      <th>population</th>\n",
       "      <th>pubs_per_capita</th>\n",
       "    </tr>\n",
       "  </thead>\n",
       "  <tbody>\n",
       "    <tr>\n",
       "      <th>A</th>\n",
       "      <td>NaN</td>\n",
       "      <td>NaN</td>\n",
       "      <td>NaN</td>\n",
       "      <td>NaN</td>\n",
       "      <td>NaN</td>\n",
       "      <td>NaN</td>\n",
       "    </tr>\n",
       "    <tr>\n",
       "      <th>C</th>\n",
       "      <td>NaN</td>\n",
       "      <td>2101.0</td>\n",
       "      <td>NaN</td>\n",
       "      <td>NaN</td>\n",
       "      <td>335145.0</td>\n",
       "      <td>NaN</td>\n",
       "    </tr>\n",
       "    <tr>\n",
       "      <th>D</th>\n",
       "      <td>NaN</td>\n",
       "      <td>NaN</td>\n",
       "      <td>NaN</td>\n",
       "      <td>NaN</td>\n",
       "      <td>NaN</td>\n",
       "      <td>NaN</td>\n",
       "    </tr>\n",
       "    <tr>\n",
       "      <th>L</th>\n",
       "      <td>NaN</td>\n",
       "      <td>NaN</td>\n",
       "      <td>NaN</td>\n",
       "      <td>NaN</td>\n",
       "      <td>NaN</td>\n",
       "      <td>NaN</td>\n",
       "    </tr>\n",
       "    <tr>\n",
       "      <th>M</th>\n",
       "      <td>NaN</td>\n",
       "      <td>NaN</td>\n",
       "      <td>NaN</td>\n",
       "      <td>NaN</td>\n",
       "      <td>NaN</td>\n",
       "      <td>NaN</td>\n",
       "    </tr>\n",
       "    <tr>\n",
       "      <th>S</th>\n",
       "      <td>NaN</td>\n",
       "      <td>1683.0</td>\n",
       "      <td>NaN</td>\n",
       "      <td>NaN</td>\n",
       "      <td>230302.0</td>\n",
       "      <td>NaN</td>\n",
       "    </tr>\n",
       "  </tbody>\n",
       "</table>\n",
       "</div>"
      ],
      "text/plain": [
       "   crowded_pubs  n_pubs  name  people_per_pub  population  pubs_per_capita\n",
       "A           NaN     NaN   NaN             NaN         NaN              NaN\n",
       "C           NaN  2101.0   NaN             NaN    335145.0              NaN\n",
       "D           NaN     NaN   NaN             NaN         NaN              NaN\n",
       "L           NaN     NaN   NaN             NaN         NaN              NaN\n",
       "M           NaN     NaN   NaN             NaN         NaN              NaN\n",
       "S           NaN  1683.0   NaN             NaN    230302.0              NaN"
      ]
     },
     "execution_count": 313,
     "metadata": {},
     "output_type": "execute_result"
    }
   ],
   "source": [
    "# Summing two data frames sums rows and columns common to both dataframes, and reindex the original DF creating rows with NaN\n",
    "\n",
    "towns_df + t2"
   ]
  },
  {
   "cell_type": "code",
   "execution_count": 314,
   "id": "c4153fe9-dba3-4183-8084-f94b10d23467",
   "metadata": {},
   "outputs": [
    {
     "data": {
      "text/html": [
       "<div>\n",
       "<style scoped>\n",
       "    .dataframe tbody tr th:only-of-type {\n",
       "        vertical-align: middle;\n",
       "    }\n",
       "\n",
       "    .dataframe tbody tr th {\n",
       "        vertical-align: top;\n",
       "    }\n",
       "\n",
       "    .dataframe thead th {\n",
       "        text-align: right;\n",
       "    }\n",
       "</style>\n",
       "<table border=\"1\" class=\"dataframe\">\n",
       "  <thead>\n",
       "    <tr style=\"text-align: right;\">\n",
       "      <th></th>\n",
       "      <th>n_pubs</th>\n",
       "      <th>population</th>\n",
       "    </tr>\n",
       "  </thead>\n",
       "  <tbody>\n",
       "    <tr>\n",
       "      <th>A</th>\n",
       "      <td>198.0</td>\n",
       "      <td>12515.0</td>\n",
       "    </tr>\n",
       "    <tr>\n",
       "      <th>C</th>\n",
       "      <td>2101.0</td>\n",
       "      <td>335145.0</td>\n",
       "    </tr>\n",
       "    <tr>\n",
       "      <th>D</th>\n",
       "      <td>5.0</td>\n",
       "      <td>4.0</td>\n",
       "    </tr>\n",
       "    <tr>\n",
       "      <th>L</th>\n",
       "      <td>7.0</td>\n",
       "      <td>6.0</td>\n",
       "    </tr>\n",
       "    <tr>\n",
       "      <th>M</th>\n",
       "      <td>48.0</td>\n",
       "      <td>NaN</td>\n",
       "    </tr>\n",
       "    <tr>\n",
       "      <th>S</th>\n",
       "      <td>1683.0</td>\n",
       "      <td>230302.0</td>\n",
       "    </tr>\n",
       "  </tbody>\n",
       "</table>\n",
       "</div>"
      ],
      "text/plain": [
       "   n_pubs  population\n",
       "A   198.0     12515.0\n",
       "C  2101.0    335145.0\n",
       "D     5.0         4.0\n",
       "L     7.0         6.0\n",
       "M    48.0         NaN\n",
       "S  1683.0    230302.0"
      ]
     },
     "execution_count": 314,
     "metadata": {},
     "output_type": "execute_result"
    }
   ],
   "source": [
    "# Create a slice to avoid filling with NaN\n",
    "\n",
    "t1 = towns_df.loc[:,['n_pubs', 'population']]\n",
    "\n",
    "t1.add(t2, fill_value=0)"
   ]
  },
  {
   "cell_type": "code",
   "execution_count": 315,
   "id": "01d4c0b1-f7f4-4f97-9950-a8823fc79510",
   "metadata": {},
   "outputs": [
    {
     "name": "stdout",
     "output_type": "stream",
     "text": [
      "Initials\n",
      "C    594\n",
      "S    957\n",
      "A    430\n",
      "M    287\n",
      "dtype: int64\n"
     ]
    },
    {
     "data": {
      "text/plain": [
       "Initials\n",
       "C    335739.0\n",
       "S    231257.0\n",
       "A     12945.0\n",
       "M         NaN\n",
       "dtype: float64"
      ]
     },
     "execution_count": 315,
     "metadata": {},
     "output_type": "execute_result"
    }
   ],
   "source": [
    "# Similarly it is possible to perform row by row summations\n",
    "\n",
    "towns_df = towns_df.loc[:,['n_pubs', 'population', 'people_per_pub']]\n",
    "\n",
    "new_borns = pd.Series(np.random.randint(100, 1000, size=4), index=towns_df.index)\n",
    "print(new_borns)\n",
    "\n",
    "towns_df.loc[:,'population'] + new_borns\n"
   ]
  },
  {
   "cell_type": "markdown",
   "id": "2f7190ef-4d5a-49aa-a30c-8ea33521a5db",
   "metadata": {},
   "source": [
    "#### Function application"
   ]
  },
  {
   "cell_type": "code",
   "execution_count": 316,
   "id": "b9aa58f3-e788-4078-9de0-cf8477ff9e03",
   "metadata": {},
   "outputs": [
    {
     "data": {
      "text/plain": [
       "n_pubs              2052.000000\n",
       "population        322630.000000\n",
       "people_per_pub        96.385786\n",
       "dtype: float64"
      ]
     },
     "execution_count": 316,
     "metadata": {},
     "output_type": "execute_result"
    }
   ],
   "source": [
    "# Apply functions to each column \n",
    "\n",
    "def f1(x):\n",
    "    return x.max() - x.min()\n",
    "\n",
    "towns_df.apply(f1)"
   ]
  },
  {
   "cell_type": "code",
   "execution_count": 317,
   "id": "69074c4f-e731-46db-aaac-3a921e373434",
   "metadata": {},
   "outputs": [
    {
     "data": {
      "text/plain": [
       "Initials\n",
       "C    334985.407143\n",
       "S    230162.916667\n",
       "A     12451.792929\n",
       "M         0.000000\n",
       "dtype: float64"
      ]
     },
     "execution_count": 317,
     "metadata": {},
     "output_type": "execute_result"
    }
   ],
   "source": [
    "# Apply functions per row\n",
    "\n",
    "towns_df.apply(f1, axis=\"columns\")"
   ]
  },
  {
   "cell_type": "code",
   "execution_count": 318,
   "id": "8b07060d-71e9-47cc-aede-e08c496f7fd2",
   "metadata": {},
   "outputs": [
    {
     "data": {
      "text/html": [
       "<div>\n",
       "<style scoped>\n",
       "    .dataframe tbody tr th:only-of-type {\n",
       "        vertical-align: middle;\n",
       "    }\n",
       "\n",
       "    .dataframe tbody tr th {\n",
       "        vertical-align: top;\n",
       "    }\n",
       "\n",
       "    .dataframe thead th {\n",
       "        text-align: right;\n",
       "    }\n",
       "</style>\n",
       "<table border=\"1\" class=\"dataframe\">\n",
       "  <thead>\n",
       "    <tr style=\"text-align: right;\">\n",
       "      <th></th>\n",
       "      <th>n_pubs</th>\n",
       "      <th>population</th>\n",
       "      <th>people_per_pub</th>\n",
       "    </tr>\n",
       "    <tr>\n",
       "      <th>Initials</th>\n",
       "      <th></th>\n",
       "      <th></th>\n",
       "      <th></th>\n",
       "    </tr>\n",
       "  </thead>\n",
       "  <tbody>\n",
       "    <tr>\n",
       "      <th>C</th>\n",
       "      <td>1</td>\n",
       "      <td>1</td>\n",
       "      <td>0</td>\n",
       "    </tr>\n",
       "    <tr>\n",
       "      <th>S</th>\n",
       "      <td>1</td>\n",
       "      <td>1</td>\n",
       "      <td>0</td>\n",
       "    </tr>\n",
       "    <tr>\n",
       "      <th>A</th>\n",
       "      <td>0</td>\n",
       "      <td>1</td>\n",
       "      <td>0</td>\n",
       "    </tr>\n",
       "    <tr>\n",
       "      <th>M</th>\n",
       "      <td>0</td>\n",
       "      <td>0</td>\n",
       "      <td>0</td>\n",
       "    </tr>\n",
       "  </tbody>\n",
       "</table>\n",
       "</div>"
      ],
      "text/plain": [
       "          n_pubs  population  people_per_pub\n",
       "Initials                                    \n",
       "C              1           1               0\n",
       "S              1           1               0\n",
       "A              0           1               0\n",
       "M              0           0               0"
      ]
     },
     "execution_count": 318,
     "metadata": {},
     "output_type": "execute_result"
    }
   ],
   "source": [
    "# Apply functions to each element\n",
    "\n",
    "def binarize(x):\n",
    "    return 1 if x > 1000 else 0\n",
    "\n",
    "towns_df.applymap(binarize)"
   ]
  },
  {
   "cell_type": "code",
   "execution_count": 319,
   "id": "6080d7fd-3bf0-4152-bd5c-1f1356b04628",
   "metadata": {},
   "outputs": [
    {
     "data": {
      "text/html": [
       "<div>\n",
       "<style scoped>\n",
       "    .dataframe tbody tr th:only-of-type {\n",
       "        vertical-align: middle;\n",
       "    }\n",
       "\n",
       "    .dataframe tbody tr th {\n",
       "        vertical-align: top;\n",
       "    }\n",
       "\n",
       "    .dataframe thead th {\n",
       "        text-align: right;\n",
       "    }\n",
       "</style>\n",
       "<table border=\"1\" class=\"dataframe\">\n",
       "  <thead>\n",
       "    <tr style=\"text-align: right;\">\n",
       "      <th></th>\n",
       "      <th>n_pubs</th>\n",
       "      <th>population</th>\n",
       "      <th>people_per_pub</th>\n",
       "    </tr>\n",
       "    <tr>\n",
       "      <th>Initials</th>\n",
       "      <th></th>\n",
       "      <th></th>\n",
       "      <th></th>\n",
       "    </tr>\n",
       "  </thead>\n",
       "  <tbody>\n",
       "    <tr>\n",
       "      <th>A</th>\n",
       "      <td>198</td>\n",
       "      <td>12515.0</td>\n",
       "      <td>63.207071</td>\n",
       "    </tr>\n",
       "    <tr>\n",
       "      <th>S</th>\n",
       "      <td>1680</td>\n",
       "      <td>230300.0</td>\n",
       "      <td>137.083333</td>\n",
       "    </tr>\n",
       "    <tr>\n",
       "      <th>C</th>\n",
       "      <td>2100</td>\n",
       "      <td>335145.0</td>\n",
       "      <td>159.592857</td>\n",
       "    </tr>\n",
       "    <tr>\n",
       "      <th>M</th>\n",
       "      <td>48</td>\n",
       "      <td>NaN</td>\n",
       "      <td>NaN</td>\n",
       "    </tr>\n",
       "  </tbody>\n",
       "</table>\n",
       "</div>"
      ],
      "text/plain": [
       "          n_pubs  population  people_per_pub\n",
       "Initials                                    \n",
       "A            198     12515.0       63.207071\n",
       "S           1680    230300.0      137.083333\n",
       "C           2100    335145.0      159.592857\n",
       "M             48         NaN             NaN"
      ]
     },
     "execution_count": 319,
     "metadata": {},
     "output_type": "execute_result"
    }
   ],
   "source": [
    "# Sorting values\n",
    "\n",
    "towns_df.sort_values('population')"
   ]
  },
  {
   "cell_type": "markdown",
   "id": "cc3532f7-1c8e-46a4-94bb-03636b317300",
   "metadata": {},
   "source": [
    "### Descriptive Statistics "
   ]
  },
  {
   "cell_type": "code",
   "execution_count": 320,
   "id": "79c2bd07-edf4-4e78-b55c-4785074e6c37",
   "metadata": {},
   "outputs": [
    {
     "data": {
      "text/plain": [
       "n_pubs              4026.000000\n",
       "population        577960.000000\n",
       "people_per_pub       359.883261\n",
       "dtype: float64"
      ]
     },
     "execution_count": 320,
     "metadata": {},
     "output_type": "execute_result"
    }
   ],
   "source": [
    "# Sum of all the columns\n",
    "\n",
    "towns_df.sum()"
   ]
  },
  {
   "cell_type": "code",
   "execution_count": 321,
   "id": "845f270c-f6f8-4ff2-8898-bb4d62bea16a",
   "metadata": {},
   "outputs": [
    {
     "data": {
      "text/plain": [
       "Initials\n",
       "C    337404.592857\n",
       "S    232117.083333\n",
       "A     12776.207071\n",
       "M        48.000000\n",
       "dtype: float64"
      ]
     },
     "execution_count": 321,
     "metadata": {},
     "output_type": "execute_result"
    }
   ],
   "source": [
    "# Sum of all the rows\n",
    "\n",
    "towns_df.sum(axis=\"columns\")"
   ]
  },
  {
   "cell_type": "code",
   "execution_count": 322,
   "id": "7291b3ca-985e-413a-9623-3f12d09c03b7",
   "metadata": {},
   "outputs": [
    {
     "data": {
      "text/plain": [
       "n_pubs            4026.0\n",
       "population           NaN\n",
       "people_per_pub       NaN\n",
       "dtype: float64"
      ]
     },
     "execution_count": 322,
     "metadata": {},
     "output_type": "execute_result"
    }
   ],
   "source": [
    "towns_df.sum(axis=\"index\", skipna=False)"
   ]
  },
  {
   "cell_type": "code",
   "execution_count": 323,
   "id": "86182168-ff8d-4b6f-8f7b-f03093c87877",
   "metadata": {},
   "outputs": [
    {
     "data": {
      "text/plain": [
       "Initials\n",
       "C    112468.197619\n",
       "S     77372.361111\n",
       "A      4258.735690\n",
       "M        48.000000\n",
       "dtype: float64"
      ]
     },
     "execution_count": 323,
     "metadata": {},
     "output_type": "execute_result"
    }
   ],
   "source": [
    "# Compute the mean across all columns\n",
    "towns_df.mean(axis=\"columns\")"
   ]
  },
  {
   "cell_type": "code",
   "execution_count": 326,
   "id": "a244421a-a1ae-4902-9628-126b94652c62",
   "metadata": {},
   "outputs": [
    {
     "data": {
      "text/plain": [
       "n_pubs            C\n",
       "population        C\n",
       "people_per_pub    C\n",
       "dtype: object"
      ]
     },
     "execution_count": 326,
     "metadata": {},
     "output_type": "execute_result"
    }
   ],
   "source": [
    "# Return the row containing the maximum for each column\n",
    "towns_df.idxmax()"
   ]
  },
  {
   "cell_type": "code",
   "execution_count": 327,
   "id": "33d94931-a555-41d7-802e-7bde1ea6649b",
   "metadata": {},
   "outputs": [
    {
     "data": {
      "text/html": [
       "<div>\n",
       "<style scoped>\n",
       "    .dataframe tbody tr th:only-of-type {\n",
       "        vertical-align: middle;\n",
       "    }\n",
       "\n",
       "    .dataframe tbody tr th {\n",
       "        vertical-align: top;\n",
       "    }\n",
       "\n",
       "    .dataframe thead th {\n",
       "        text-align: right;\n",
       "    }\n",
       "</style>\n",
       "<table border=\"1\" class=\"dataframe\">\n",
       "  <thead>\n",
       "    <tr style=\"text-align: right;\">\n",
       "      <th></th>\n",
       "      <th>n_pubs</th>\n",
       "      <th>population</th>\n",
       "      <th>people_per_pub</th>\n",
       "    </tr>\n",
       "  </thead>\n",
       "  <tbody>\n",
       "    <tr>\n",
       "      <th>count</th>\n",
       "      <td>4.000000</td>\n",
       "      <td>3.000000</td>\n",
       "      <td>3.000000</td>\n",
       "    </tr>\n",
       "    <tr>\n",
       "      <th>mean</th>\n",
       "      <td>1006.500000</td>\n",
       "      <td>192653.333333</td>\n",
       "      <td>119.961087</td>\n",
       "    </tr>\n",
       "    <tr>\n",
       "      <th>std</th>\n",
       "      <td>1036.297737</td>\n",
       "      <td>164576.677747</td>\n",
       "      <td>50.422549</td>\n",
       "    </tr>\n",
       "    <tr>\n",
       "      <th>min</th>\n",
       "      <td>48.000000</td>\n",
       "      <td>12515.000000</td>\n",
       "      <td>63.207071</td>\n",
       "    </tr>\n",
       "    <tr>\n",
       "      <th>25%</th>\n",
       "      <td>160.500000</td>\n",
       "      <td>121407.500000</td>\n",
       "      <td>100.145202</td>\n",
       "    </tr>\n",
       "    <tr>\n",
       "      <th>50%</th>\n",
       "      <td>939.000000</td>\n",
       "      <td>230300.000000</td>\n",
       "      <td>137.083333</td>\n",
       "    </tr>\n",
       "    <tr>\n",
       "      <th>75%</th>\n",
       "      <td>1785.000000</td>\n",
       "      <td>282722.500000</td>\n",
       "      <td>148.338095</td>\n",
       "    </tr>\n",
       "    <tr>\n",
       "      <th>max</th>\n",
       "      <td>2100.000000</td>\n",
       "      <td>335145.000000</td>\n",
       "      <td>159.592857</td>\n",
       "    </tr>\n",
       "  </tbody>\n",
       "</table>\n",
       "</div>"
      ],
      "text/plain": [
       "            n_pubs     population  people_per_pub\n",
       "count     4.000000       3.000000        3.000000\n",
       "mean   1006.500000  192653.333333      119.961087\n",
       "std    1036.297737  164576.677747       50.422549\n",
       "min      48.000000   12515.000000       63.207071\n",
       "25%     160.500000  121407.500000      100.145202\n",
       "50%     939.000000  230300.000000      137.083333\n",
       "75%    1785.000000  282722.500000      148.338095\n",
       "max    2100.000000  335145.000000      159.592857"
      ]
     },
     "execution_count": 327,
     "metadata": {},
     "output_type": "execute_result"
    }
   ],
   "source": [
    "# Return a set of basic statistics\n",
    "towns_df.describe()"
   ]
  },
  {
   "cell_type": "code",
   "execution_count": 330,
   "id": "d4e13bf3-1868-4c3a-bca9-5d31bcc55342",
   "metadata": {},
   "outputs": [
    {
     "data": {
      "text/html": [
       "<div>\n",
       "<style scoped>\n",
       "    .dataframe tbody tr th:only-of-type {\n",
       "        vertical-align: middle;\n",
       "    }\n",
       "\n",
       "    .dataframe tbody tr th {\n",
       "        vertical-align: top;\n",
       "    }\n",
       "\n",
       "    .dataframe thead th {\n",
       "        text-align: right;\n",
       "    }\n",
       "</style>\n",
       "<table border=\"1\" class=\"dataframe\">\n",
       "  <thead>\n",
       "    <tr style=\"text-align: right;\">\n",
       "      <th></th>\n",
       "      <th>n_pubs</th>\n",
       "      <th>population</th>\n",
       "      <th>people_per_pub</th>\n",
       "    </tr>\n",
       "  </thead>\n",
       "  <tbody>\n",
       "    <tr>\n",
       "      <th>n_pubs</th>\n",
       "      <td>1.073913e+06</td>\n",
       "      <td>1.634058e+08</td>\n",
       "      <td>5.037740e+04</td>\n",
       "    </tr>\n",
       "    <tr>\n",
       "      <th>population</th>\n",
       "      <td>1.634058e+08</td>\n",
       "      <td>2.708548e+10</td>\n",
       "      <td>8.257683e+06</td>\n",
       "    </tr>\n",
       "    <tr>\n",
       "      <th>people_per_pub</th>\n",
       "      <td>5.037740e+04</td>\n",
       "      <td>8.257683e+06</td>\n",
       "      <td>2.542433e+03</td>\n",
       "    </tr>\n",
       "  </tbody>\n",
       "</table>\n",
       "</div>"
      ],
      "text/plain": [
       "                      n_pubs    population  people_per_pub\n",
       "n_pubs          1.073913e+06  1.634058e+08    5.037740e+04\n",
       "population      1.634058e+08  2.708548e+10    8.257683e+06\n",
       "people_per_pub  5.037740e+04  8.257683e+06    2.542433e+03"
      ]
     },
     "execution_count": 330,
     "metadata": {},
     "output_type": "execute_result"
    }
   ],
   "source": [
    "# Covariances\n",
    "towns_df.cov()"
   ]
  },
  {
   "cell_type": "code",
   "execution_count": 331,
   "id": "0c5550f9-fcd5-478c-83af-b7e1118d9afc",
   "metadata": {},
   "outputs": [
    {
     "data": {
      "text/html": [
       "<div>\n",
       "<style scoped>\n",
       "    .dataframe tbody tr th:only-of-type {\n",
       "        vertical-align: middle;\n",
       "    }\n",
       "\n",
       "    .dataframe tbody tr th {\n",
       "        vertical-align: top;\n",
       "    }\n",
       "\n",
       "    .dataframe thead th {\n",
       "        text-align: right;\n",
       "    }\n",
       "</style>\n",
       "<table border=\"1\" class=\"dataframe\">\n",
       "  <thead>\n",
       "    <tr style=\"text-align: right;\">\n",
       "      <th></th>\n",
       "      <th>n_pubs</th>\n",
       "      <th>population</th>\n",
       "      <th>people_per_pub</th>\n",
       "    </tr>\n",
       "  </thead>\n",
       "  <tbody>\n",
       "    <tr>\n",
       "      <th>n_pubs</th>\n",
       "      <td>1.000000</td>\n",
       "      <td>0.993686</td>\n",
       "      <td>0.999911</td>\n",
       "    </tr>\n",
       "    <tr>\n",
       "      <th>population</th>\n",
       "      <td>0.993686</td>\n",
       "      <td>1.000000</td>\n",
       "      <td>0.995096</td>\n",
       "    </tr>\n",
       "    <tr>\n",
       "      <th>people_per_pub</th>\n",
       "      <td>0.999911</td>\n",
       "      <td>0.995096</td>\n",
       "      <td>1.000000</td>\n",
       "    </tr>\n",
       "  </tbody>\n",
       "</table>\n",
       "</div>"
      ],
      "text/plain": [
       "                  n_pubs  population  people_per_pub\n",
       "n_pubs          1.000000    0.993686        0.999911\n",
       "population      0.993686    1.000000        0.995096\n",
       "people_per_pub  0.999911    0.995096        1.000000"
      ]
     },
     "execution_count": 331,
     "metadata": {},
     "output_type": "execute_result"
    }
   ],
   "source": [
    "# Correlations\n",
    "towns_df.corr()"
   ]
  },
  {
   "cell_type": "markdown",
   "id": "51a45475-576e-4778-be8f-121fad0426e2",
   "metadata": {
    "tags": []
   },
   "source": [
    "### Bonus: Plot outputs\n",
    "\n",
    "You will see more in the afternoon, but this is something interesting that you can do with Pandas"
   ]
  },
  {
   "cell_type": "code",
   "execution_count": 339,
   "id": "0aeaf2bd-bd33-47ea-9538-970cb1373f11",
   "metadata": {},
   "outputs": [
    {
     "data": {
      "text/plain": [
       "<AxesSubplot:title={'center':'Some great towns to visit'}, xlabel='name'>"
      ]
     },
     "execution_count": 339,
     "metadata": {},
     "output_type": "execute_result"
    },
    {
     "data": {
      "image/png": "[encoded data removed]",
      "text/plain": [
       "<Figure size 432x288 with 1 Axes>"
      ]
     },
     "metadata": {
      "needs_background": "light"
     },
     "output_type": "display_data"
    }
   ],
   "source": [
    "import matplotlib\n",
    "\n",
    "# Plot charts using the .plot() method \n",
    "towns_df['name'] = towns\n",
    "towns_df['pubs_per_capita'] = towns_df.n_pubs / towns_df.population\n",
    "\n",
    "towns_df.plot(x = 'name', y = 'pubs_per_capita', kind = 'bar', title = 'Some great towns to visit')"
   ]
  },
  {
   "cell_type": "markdown",
   "id": "314fa681-29a9-4fa5-9e95-e54bfc10e634",
   "metadata": {
    "jp-MarkdownHeadingCollapsed": true,
    "tags": []
   },
   "source": [
    "## File management\n",
    "\n",
    "In this last part we will look into how to load and save files. \n",
    "This is the last basic operation to dive into more complex data analyses. \n"
   ]
  },
  {
   "cell_type": "code",
   "execution_count": 342,
   "id": "bb354c93-ecce-44aa-bb73-223b0eba7e86",
   "metadata": {},
   "outputs": [],
   "source": [
    "# A path can refer to a file in your hard drive or a location in the web\n",
    "\n",
    "path = r'data/data_edu.csv'\n",
    "f = open(path, encoding=\"utf-8\")"
   ]
  },
  {
   "cell_type": "markdown",
   "id": "598e69c5-9dac-45a4-b29d-83539cfbca30",
   "metadata": {},
   "source": [
    "We can read each line individually with a for-loop on the open file"
   ]
  },
  {
   "cell_type": "code",
   "execution_count": 346,
   "id": "76f72bc6-6fae-42f5-b203-5e77a48da9e8",
   "metadata": {},
   "outputs": [
    {
     "name": "stdout",
     "output_type": "stream",
     "text": [
      "['country_id,country,country_school_id,country_student_id,student_gender,computer_at_home,internet_at_home,immigration_status,early_education,repeated_grades,school_location,school_type,school_size,class_size,socioeconomic_index,math_score,reading_score,parent_education', 'Argentina,Argentina,3200001,3213049,Female,No,Yes,First-Generation,Attended ECEC for at least two but less than three years,Repeated a  grade,A city (100 000 to about 1 000 000 people),Public,570,31-35 students,-1.373,314.25031,424.07239,\"Post secondary, non-tertiary\"', 'Argentina,Argentina,3200001,3203374,Female,Yes,Yes,Native,Attended ECEC for at least two but less than three years,Did not repeat a  grade,A city (100 000 to about 1 000 000 people),Public,570,31-35 students,-1.1825,356.07629,380.26309,\"Post secondary, non-tertiary\"', 'Argentina,Argentina,3200001,3204844,Male,No,No,First-Generation,Attended ECEC for at least one but less than two years,Did not repeat a  grade,A city (100 000 to about 1 000 000 people),Public,570,31-35 students,-2.3486,338.08029,384.89191,Lower secondary', 'Argentina,Argentina,3200001,3211193,Female,Yes,Yes,Native,Attended ECEC for at least two but less than three years,Did not repeat a  grade,A city (100 000 to about 1 000 000 people),Public,570,31-35 students,-.9259,310.3869,392.88031,\"Post secondary, non-tertiary\"']\n",
      "Line count 50398\n"
     ]
    }
   ],
   "source": [
    "lines = [x.rstrip() for x in f]\n",
    "# Let's visualize the first 5 lines\n",
    "print(lines[:5])\n",
    "print(f'Line count {len(lines)}')"
   ]
  },
  {
   "cell_type": "code",
   "execution_count": 108,
   "id": "7b4a524c-f5d6-4b82-ab39-c8a444f5ec30",
   "metadata": {},
   "outputs": [],
   "source": [
    "# A file should always be closed\n",
    "f.close()"
   ]
  },
  {
   "cell_type": "markdown",
   "id": "6ba9cda9-3c45-4d84-b21a-649559b02ef3",
   "metadata": {},
   "source": [
    "The syntax \n",
    "\n",
    "```python\n",
    "with open(path) as f: \n",
    "    ...\n",
    "```\n",
    "\n",
    "allows for automatically handling the file closure."
   ]
  },
  {
   "cell_type": "code",
   "execution_count": 109,
   "id": "f4ad36d9-c560-47af-8bdb-063cc7e749c0",
   "metadata": {},
   "outputs": [],
   "source": [
    "with open(path) as f:\n",
    "    lines = [x.rstrip() for x in f]"
   ]
  },
  {
   "cell_type": "code",
   "execution_count": 349,
   "id": "88466abf-474a-41e0-af87-2e747be3d55d",
   "metadata": {},
   "outputs": [
    {
     "data": {
      "text/plain": [
       "'country_id'"
      ]
     },
     "execution_count": 349,
     "metadata": {},
     "output_type": "execute_result"
    }
   ],
   "source": [
    "# Reading a certain number of characters each time\n",
    "f1 = open(path)\n",
    "f1.read(10)"
   ]
  },
  {
   "cell_type": "markdown",
   "id": "91d89c7e-6922-44d0-81f9-e9bb18647451",
   "metadata": {},
   "source": [
    "Open the file in binary mode - rb stands for r=read, b=binary"
   ]
  },
  {
   "cell_type": "code",
   "execution_count": 350,
   "id": "90d1f55c-837f-4d88-98dc-2b3c3f4e6ed2",
   "metadata": {},
   "outputs": [
    {
     "name": "stdout",
     "output_type": "stream",
     "text": [
      "b'country_id'\n"
     ]
    }
   ],
   "source": [
    "f2 = open(path, mode=\"rb\")  # Binary mode\n",
    "print(f2.read(10))"
   ]
  },
  {
   "cell_type": "markdown",
   "id": "b1979ec1-fef1-4a19-9f18-021ca758d8c8",
   "metadata": {},
   "source": [
    "| Mode | Description                                                                                         |\n",
    "| ---- | --------------------------------------------------------------------------------------------------- |\n",
    "| `r`  | Read-only mode                                                                                      |\n",
    "| `w`  | Write-only mode; creates a new file (erasing the data for any file with the same name)              |\n",
    "| `x`  | Write-only mode; creates a new file but fails if the file path already exists                       |\n",
    "| `a`  | Append to existing file (creates the file if it does not already exist)                             |\n",
    "| `r+` | Read and write                                                                                      |\n",
    "| `b`  | Add to mode for binary files (i.e., `\"rb\"` or `\"wb\"`)                                               |\n",
    "| `t`  | Text mode for files (automatically decoding bytes to Unicode); this is the default if not specified |"
   ]
  },
  {
   "cell_type": "markdown",
   "id": "cc152ab8-0d3b-454d-8b41-ce5181e5d2d1",
   "metadata": {},
   "source": [
    "The function `tell` returns the current position in the file. "
   ]
  },
  {
   "cell_type": "code",
   "execution_count": 353,
   "id": "4a3151ef-b28b-4395-8d69-c8fe553280d4",
   "metadata": {},
   "outputs": [
    {
     "data": {
      "text/plain": [
       "10"
      ]
     },
     "execution_count": 353,
     "metadata": {},
     "output_type": "execute_result"
    }
   ],
   "source": [
    "f1.tell()"
   ]
  },
  {
   "cell_type": "code",
   "execution_count": 354,
   "id": "833a3ecd-34e3-455c-bc70-f484cd6d926e",
   "metadata": {},
   "outputs": [
    {
     "name": "stdout",
     "output_type": "stream",
     "text": [
      "n\n",
      "4\n"
     ]
    }
   ],
   "source": [
    "# Seeks move the current position to the specified one\n",
    "f1.seek(3)\n",
    "print(f1.read(1))\n",
    "print(f1.tell())"
   ]
  },
  {
   "cell_type": "code",
   "execution_count": 355,
   "id": "a942579c-a908-42c4-ba3d-a5d0490a15fc",
   "metadata": {},
   "outputs": [],
   "source": [
    "f1.close()"
   ]
  },
  {
   "cell_type": "code",
   "execution_count": 363,
   "id": "cc71307d-fd81-4c8e-8a1b-265d60e95029",
   "metadata": {},
   "outputs": [
    {
     "data": {
      "text/plain": [
       "['United States,United States,84000001,84003351,Male,Yes,Yes,Native,Attended ECEC for at least three but less than four years,Did not repeat a  grade,A town (15 000 to about 100 000 people),Public,100,21-25 students,.4372,644.80487,683.53363,\"Post secondary, tertiary\"\\n',\n",
       " 'United States,United States,84000001,84000536,Male,Yes,Yes,Native,No Response,Did not repeat a  grade,A town (15 000 to about 100 000 people),Public,100,21-25 students,-.9971,474.5553,437.77771,\"Post secondary, non-tertiary\"\\n',\n",
       " 'United States,United States,84000001,84003883,Male,Yes,Yes,Native,Attended ECEC for at least one but less than two years,Did not repeat a  grade,A town (15 000 to about 100 000 people),Public,100,21-25 students,-.8931,502.7262,468.23529,Non response\\n',\n",
       " 'United States,United States,84000001,84002531,Female,Yes,Yes,Native,Attended ECEC for at least two but less than three years,Did not repeat a  grade,A town (15 000 to about 100 000 people),Public,100,21-25 students,-.1624,493.64529,623.0097,\"Post secondary, tertiary\"\\n',\n",
       " 'United States,United States,84000001,84001624,Male,Yes,Yes,Native,Attended ECEC for at least two but less than three years,Did not repeat a  grade,A town (15 000 to about 100 000 people),Public,100,21-25 students,-.9357,442.64261,449.0047,\"Post secondary, non-tertiary\"\\n']"
      ]
     },
     "execution_count": 363,
     "metadata": {},
     "output_type": "execute_result"
    }
   ],
   "source": [
    "path\n",
    "\n",
    "with open(\"data/tmp.csv\", mode=\"w\") as handle:\n",
    "    handle.writelines(x for x in open(path) if x.startswith('Un'))\n",
    "\n",
    "with open(\"data/tmp.csv\") as f:\n",
    "    lines = f.readlines()\n",
    "\n",
    "lines[:5]"
   ]
  },
  {
   "cell_type": "code",
   "execution_count": 364,
   "id": "5fefdf1e-1ca2-4b26-a9f3-76c6adfc0065",
   "metadata": {},
   "outputs": [],
   "source": [
    "# Delete a file from disk\n",
    "\n",
    "import os\n",
    "os.remove(\"data/tmp.csv\")"
   ]
  },
  {
   "cell_type": "code",
   "execution_count": 365,
   "id": "fc8b1eb3-efee-4745-bd2a-3d3da673006d",
   "metadata": {},
   "outputs": [
    {
     "data": {
      "text/plain": [
       "10"
      ]
     },
     "execution_count": 365,
     "metadata": {},
     "output_type": "execute_result"
    }
   ],
   "source": [
    "with open(path) as f:\n",
    "    chars = f.read(10)\n",
    "\n",
    "chars\n",
    "len(chars)"
   ]
  },
  {
   "cell_type": "code",
   "execution_count": null,
   "id": "ce7bddc0-91c3-4c5b-b0a5-b5a14c7f0458",
   "metadata": {},
   "outputs": [
    {
     "data": {
      "text/plain": [
       "b'country_id'"
      ]
     },
     "execution_count": 366,
     "metadata": {},
     "output_type": "execute_result"
    }
   ],
   "source": [
    "with open(path, mode=\"rb\") as f:\n",
    "    data = f.read(10)\n",
    "\n",
    "data"
   ]
  },
  {
   "cell_type": "markdown",
   "id": "83f853f3-3cc3-45d5-8403-7812b32689ad",
   "metadata": {
    "jp-MarkdownHeadingCollapsed": true,
    "tags": []
   },
   "source": [
    "### Read Data Frames from a csv file"
   ]
  },
  {
   "cell_type": "code",
   "execution_count": 370,
   "id": "1702830c-c0b2-4cd4-8d38-6c81f7d88ffa",
   "metadata": {},
   "outputs": [],
   "source": [
    "df = pd.read_csv(path, encoding = 'utf_8')"
   ]
  },
  {
   "cell_type": "code",
   "execution_count": 371,
   "id": "7bbdf219-f1f7-4332-a218-03fc0eac7bbb",
   "metadata": {},
   "outputs": [
    {
     "data": {
      "text/html": [
       "<div>\n",
       "<style scoped>\n",
       "    .dataframe tbody tr th:only-of-type {\n",
       "        vertical-align: middle;\n",
       "    }\n",
       "\n",
       "    .dataframe tbody tr th {\n",
       "        vertical-align: top;\n",
       "    }\n",
       "\n",
       "    .dataframe thead th {\n",
       "        text-align: right;\n",
       "    }\n",
       "</style>\n",
       "<table border=\"1\" class=\"dataframe\">\n",
       "  <thead>\n",
       "    <tr style=\"text-align: right;\">\n",
       "      <th></th>\n",
       "      <th>country_id</th>\n",
       "      <th>country</th>\n",
       "      <th>country_school_id</th>\n",
       "      <th>country_student_id</th>\n",
       "      <th>student_gender</th>\n",
       "      <th>computer_at_home</th>\n",
       "      <th>internet_at_home</th>\n",
       "      <th>immigration_status</th>\n",
       "      <th>early_education</th>\n",
       "      <th>repeated_grades</th>\n",
       "      <th>school_location</th>\n",
       "      <th>school_type</th>\n",
       "      <th>school_size</th>\n",
       "      <th>class_size</th>\n",
       "      <th>socioeconomic_index</th>\n",
       "      <th>math_score</th>\n",
       "      <th>reading_score</th>\n",
       "      <th>parent_education</th>\n",
       "    </tr>\n",
       "  </thead>\n",
       "  <tbody>\n",
       "    <tr>\n",
       "      <th>0</th>\n",
       "      <td>Argentina</td>\n",
       "      <td>Argentina</td>\n",
       "      <td>3200001</td>\n",
       "      <td>3213049</td>\n",
       "      <td>Female</td>\n",
       "      <td>No</td>\n",
       "      <td>Yes</td>\n",
       "      <td>First-Generation</td>\n",
       "      <td>Attended ECEC for at least two but less than t...</td>\n",
       "      <td>Repeated a  grade</td>\n",
       "      <td>A city (100 000 to about 1 000 000 people)</td>\n",
       "      <td>Public</td>\n",
       "      <td>570</td>\n",
       "      <td>31-35 students</td>\n",
       "      <td>-1.3730</td>\n",
       "      <td>314.25031</td>\n",
       "      <td>424.07239</td>\n",
       "      <td>Post secondary, non-tertiary</td>\n",
       "    </tr>\n",
       "    <tr>\n",
       "      <th>1</th>\n",
       "      <td>Argentina</td>\n",
       "      <td>Argentina</td>\n",
       "      <td>3200001</td>\n",
       "      <td>3203374</td>\n",
       "      <td>Female</td>\n",
       "      <td>Yes</td>\n",
       "      <td>Yes</td>\n",
       "      <td>Native</td>\n",
       "      <td>Attended ECEC for at least two but less than t...</td>\n",
       "      <td>Did not repeat a  grade</td>\n",
       "      <td>A city (100 000 to about 1 000 000 people)</td>\n",
       "      <td>Public</td>\n",
       "      <td>570</td>\n",
       "      <td>31-35 students</td>\n",
       "      <td>-1.1825</td>\n",
       "      <td>356.07629</td>\n",
       "      <td>380.26309</td>\n",
       "      <td>Post secondary, non-tertiary</td>\n",
       "    </tr>\n",
       "  </tbody>\n",
       "</table>\n",
       "</div>"
      ],
      "text/plain": [
       "  country_id    country  country_school_id  country_student_id student_gender  \\\n",
       "0  Argentina  Argentina            3200001             3213049         Female   \n",
       "1  Argentina  Argentina            3200001             3203374         Female   \n",
       "\n",
       "  computer_at_home internet_at_home immigration_status  \\\n",
       "0               No              Yes   First-Generation   \n",
       "1              Yes              Yes             Native   \n",
       "\n",
       "                                     early_education          repeated_grades  \\\n",
       "0  Attended ECEC for at least two but less than t...        Repeated a  grade   \n",
       "1  Attended ECEC for at least two but less than t...  Did not repeat a  grade   \n",
       "\n",
       "                              school_location school_type school_size  \\\n",
       "0  A city (100 000 to about 1 000 000 people)      Public         570   \n",
       "1  A city (100 000 to about 1 000 000 people)      Public         570   \n",
       "\n",
       "       class_size  socioeconomic_index  math_score  reading_score  \\\n",
       "0  31-35 students              -1.3730   314.25031      424.07239   \n",
       "1  31-35 students              -1.1825   356.07629      380.26309   \n",
       "\n",
       "               parent_education  \n",
       "0  Post secondary, non-tertiary  \n",
       "1  Post secondary, non-tertiary  "
      ]
     },
     "execution_count": 371,
     "metadata": {},
     "output_type": "execute_result"
    }
   ],
   "source": [
    "# Examine first two observations\n",
    "\n",
    "df.head(2)"
   ]
  },
  {
   "cell_type": "code",
   "execution_count": 372,
   "id": "fe7d873d-0a6e-48c0-b967-631ce37552d7",
   "metadata": {},
   "outputs": [
    {
     "data": {
      "text/plain": [
       "Index(['country_id', 'country', 'country_school_id', 'country_student_id',\n",
       "       'student_gender', 'computer_at_home', 'internet_at_home',\n",
       "       'immigration_status', 'early_education', 'repeated_grades',\n",
       "       'school_location', 'school_type', 'school_size', 'class_size',\n",
       "       'socioeconomic_index', 'math_score', 'reading_score',\n",
       "       'parent_education'],\n",
       "      dtype='object')"
      ]
     },
     "execution_count": 372,
     "metadata": {},
     "output_type": "execute_result"
    }
   ],
   "source": [
    "# Examine dataframe columns\n",
    "\n",
    "df.columns"
   ]
  },
  {
   "cell_type": "markdown",
   "id": "6f841e2b-4757-452a-a08d-83ba43352ee0",
   "metadata": {},
   "source": [
    "#### Preliminary analysis"
   ]
  },
  {
   "cell_type": "code",
   "execution_count": 374,
   "id": "d3db0ce3-ff88-44d6-ac30-1de15dee28b8",
   "metadata": {},
   "outputs": [
    {
     "data": {
      "text/plain": [
       "country_id                0\n",
       "country                   0\n",
       "country_school_id         0\n",
       "country_student_id        0\n",
       "student_gender            0\n",
       "computer_at_home        432\n",
       "internet_at_home        432\n",
       "immigration_status        0\n",
       "early_education           0\n",
       "repeated_grades           0\n",
       "school_location         886\n",
       "school_type               0\n",
       "school_size               0\n",
       "class_size             1002\n",
       "socioeconomic_index     833\n",
       "math_score                0\n",
       "reading_score             0\n",
       "parent_education          0\n",
       "dtype: int64"
      ]
     },
     "execution_count": 374,
     "metadata": {},
     "output_type": "execute_result"
    }
   ],
   "source": [
    "# Missing values for each column\n",
    "\n",
    "df.isnull().sum()"
   ]
  },
  {
   "cell_type": "code",
   "execution_count": 375,
   "id": "5f3c27cf-a6ca-42fd-a581-2c04f4b12e65",
   "metadata": {},
   "outputs": [
    {
     "data": {
      "text/plain": [
       "Invalid        11986\n",
       "No Response     2222\n",
       "322              176\n",
       "392              170\n",
       "350              157\n",
       "               ...  \n",
       "22                 2\n",
       "8                  2\n",
       "40                 2\n",
       "54                 1\n",
       "39                 1\n",
       "Name: school_size, Length: 863, dtype: int64"
      ]
     },
     "execution_count": 375,
     "metadata": {},
     "output_type": "execute_result"
    }
   ],
   "source": [
    "# But there are other values like \"No Response\" and \"Invalid\" that are not currently counted as None or Null: \n",
    "\n",
    "df.school_size.value_counts()"
   ]
  },
  {
   "cell_type": "markdown",
   "id": "f9555439-8b74-4b66-93b0-cea88f2d427e",
   "metadata": {},
   "source": [
    "One way of re-assigning these values as null:\n",
    "\n",
    "```\n",
    "df.loc[(df[\"school_size\"] == \"No Response\")|(df[\"school_size\"] == \"Invalid\"),\"school_size\"] = np.nan\n",
    "df.school_size.isna().sum()\n",
    "```"
   ]
  },
  {
   "cell_type": "code",
   "execution_count": 376,
   "id": "7a8fe887-85f4-48b7-abc6-6bc2d866a926",
   "metadata": {},
   "outputs": [],
   "source": [
    "# To assign all null equivalents as None:\n",
    "\n",
    "# List of all columns\n",
    "all_columns = df.columns.tolist()\n",
    "\n",
    "# List of values that we want to re-assign as None: \n",
    "list_of_null_equivalents = [\"No Response\", \"Invalid\", np.nan, \"None\", \"Non Response\"]\n",
    "\n",
    "# Treat all columns where null equivalents exist\n",
    "for col in all_columns:\n",
    "    df.loc[df[col].isin(list_of_null_equivalents),col] = None "
   ]
  },
  {
   "cell_type": "code",
   "execution_count": 377,
   "id": "e83451aa-b273-4ecc-9dff-807df7c62379",
   "metadata": {},
   "outputs": [
    {
     "data": {
      "text/plain": [
       "country_id                 0\n",
       "country                    0\n",
       "country_school_id          0\n",
       "country_student_id         0\n",
       "student_gender             0\n",
       "computer_at_home        1121\n",
       "internet_at_home        1051\n",
       "immigration_status      9032\n",
       "early_education        10733\n",
       "repeated_grades        13513\n",
       "school_location         6989\n",
       "school_type             6820\n",
       "school_size            14208\n",
       "class_size              1834\n",
       "socioeconomic_index      833\n",
       "math_score                 0\n",
       "reading_score              0\n",
       "parent_education         413\n",
       "dtype: int64"
      ]
     },
     "execution_count": 377,
     "metadata": {},
     "output_type": "execute_result"
    }
   ],
   "source": [
    "# Many more columns have null values\n",
    "\n",
    "df.isnull().sum()"
   ]
  },
  {
   "cell_type": "markdown",
   "id": "c42407c7-8bb5-4f65-b64e-e48d5706f598",
   "metadata": {},
   "source": [
    "#### Decide what steps to take, eg:\n",
    "* deduce the missing values (eg. internet_at_home from socioeconomic index)\n",
    "* fill NaNs using mean, median or a custom strategy (Look up: df.fillna?)\n",
    "* drop rows with missing values (Look up: df.dropna?)"
   ]
  },
  {
   "cell_type": "code",
   "execution_count": 378,
   "id": "67196b87-4d98-45e4-970e-cc6cfa4b54c7",
   "metadata": {},
   "outputs": [
    {
     "data": {
      "text/plain": [
       "\u001b[0;31mSignature:\u001b[0m\n",
       "\u001b[0mdf\u001b[0m\u001b[0;34m.\u001b[0m\u001b[0mfillna\u001b[0m\u001b[0;34m(\u001b[0m\u001b[0;34m\u001b[0m\n",
       "\u001b[0;34m\u001b[0m    \u001b[0mvalue\u001b[0m\u001b[0;34m:\u001b[0m \u001b[0;34m'object | ArrayLike | None'\u001b[0m \u001b[0;34m=\u001b[0m \u001b[0;32mNone\u001b[0m\u001b[0;34m,\u001b[0m\u001b[0;34m\u001b[0m\n",
       "\u001b[0;34m\u001b[0m    \u001b[0mmethod\u001b[0m\u001b[0;34m:\u001b[0m \u001b[0;34m'FillnaOptions | None'\u001b[0m \u001b[0;34m=\u001b[0m \u001b[0;32mNone\u001b[0m\u001b[0;34m,\u001b[0m\u001b[0;34m\u001b[0m\n",
       "\u001b[0;34m\u001b[0m    \u001b[0maxis\u001b[0m\u001b[0;34m:\u001b[0m \u001b[0;34m'Axis | None'\u001b[0m \u001b[0;34m=\u001b[0m \u001b[0;32mNone\u001b[0m\u001b[0;34m,\u001b[0m\u001b[0;34m\u001b[0m\n",
       "\u001b[0;34m\u001b[0m    \u001b[0minplace\u001b[0m\u001b[0;34m:\u001b[0m \u001b[0;34m'bool'\u001b[0m \u001b[0;34m=\u001b[0m \u001b[0;32mFalse\u001b[0m\u001b[0;34m,\u001b[0m\u001b[0;34m\u001b[0m\n",
       "\u001b[0;34m\u001b[0m    \u001b[0mlimit\u001b[0m\u001b[0;34m=\u001b[0m\u001b[0;32mNone\u001b[0m\u001b[0;34m,\u001b[0m\u001b[0;34m\u001b[0m\n",
       "\u001b[0;34m\u001b[0m    \u001b[0mdowncast\u001b[0m\u001b[0;34m=\u001b[0m\u001b[0;32mNone\u001b[0m\u001b[0;34m,\u001b[0m\u001b[0;34m\u001b[0m\n",
       "\u001b[0;34m\u001b[0m\u001b[0;34m)\u001b[0m \u001b[0;34m->\u001b[0m \u001b[0;34m'DataFrame | None'\u001b[0m\u001b[0;34m\u001b[0m\u001b[0;34m\u001b[0m\u001b[0m\n",
       "\u001b[0;31mDocstring:\u001b[0m\n",
       "Fill NA/NaN values using the specified method.\n",
       "\n",
       "Parameters\n",
       "----------\n",
       "value : scalar, dict, Series, or DataFrame\n",
       "    Value to use to fill holes (e.g. 0), alternately a\n",
       "    dict/Series/DataFrame of values specifying which value to use for\n",
       "    each index (for a Series) or column (for a DataFrame).  Values not\n",
       "    in the dict/Series/DataFrame will not be filled. This value cannot\n",
       "    be a list.\n",
       "method : {'backfill', 'bfill', 'pad', 'ffill', None}, default None\n",
       "    Method to use for filling holes in reindexed Series\n",
       "    pad / ffill: propagate last valid observation forward to next valid\n",
       "    backfill / bfill: use next valid observation to fill gap.\n",
       "axis : {0 or 'index', 1 or 'columns'}\n",
       "    Axis along which to fill missing values.\n",
       "inplace : bool, default False\n",
       "    If True, fill in-place. Note: this will modify any\n",
       "    other views on this object (e.g., a no-copy slice for a column in a\n",
       "    DataFrame).\n",
       "limit : int, default None\n",
       "    If method is specified, this is the maximum number of consecutive\n",
       "    NaN values to forward/backward fill. In other words, if there is\n",
       "    a gap with more than this number of consecutive NaNs, it will only\n",
       "    be partially filled. If method is not specified, this is the\n",
       "    maximum number of entries along the entire axis where NaNs will be\n",
       "    filled. Must be greater than 0 if not None.\n",
       "downcast : dict, default is None\n",
       "    A dict of item->dtype of what to downcast if possible,\n",
       "    or the string 'infer' which will try to downcast to an appropriate\n",
       "    equal type (e.g. float64 to int64 if possible).\n",
       "\n",
       "Returns\n",
       "-------\n",
       "DataFrame or None\n",
       "    Object with missing values filled or None if ``inplace=True``.\n",
       "\n",
       "See Also\n",
       "--------\n",
       "interpolate : Fill NaN values using interpolation.\n",
       "reindex : Conform object to new index.\n",
       "asfreq : Convert TimeSeries to specified frequency.\n",
       "\n",
       "Examples\n",
       "--------\n",
       ">>> df = pd.DataFrame([[np.nan, 2, np.nan, 0],\n",
       "...                    [3, 4, np.nan, 1],\n",
       "...                    [np.nan, np.nan, np.nan, np.nan],\n",
       "...                    [np.nan, 3, np.nan, 4]],\n",
       "...                   columns=list(\"ABCD\"))\n",
       ">>> df\n",
       "     A    B   C    D\n",
       "0  NaN  2.0 NaN  0.0\n",
       "1  3.0  4.0 NaN  1.0\n",
       "2  NaN  NaN NaN  NaN\n",
       "3  NaN  3.0 NaN  4.0\n",
       "\n",
       "Replace all NaN elements with 0s.\n",
       "\n",
       ">>> df.fillna(0)\n",
       "     A    B    C    D\n",
       "0  0.0  2.0  0.0  0.0\n",
       "1  3.0  4.0  0.0  1.0\n",
       "2  0.0  0.0  0.0  0.0\n",
       "3  0.0  3.0  0.0  4.0\n",
       "\n",
       "We can also propagate non-null values forward or backward.\n",
       "\n",
       ">>> df.fillna(method=\"ffill\")\n",
       "     A    B   C    D\n",
       "0  NaN  2.0 NaN  0.0\n",
       "1  3.0  4.0 NaN  1.0\n",
       "2  3.0  4.0 NaN  1.0\n",
       "3  3.0  3.0 NaN  4.0\n",
       "\n",
       "Replace all NaN elements in column 'A', 'B', 'C', and 'D', with 0, 1,\n",
       "2, and 3 respectively.\n",
       "\n",
       ">>> values = {\"A\": 0, \"B\": 1, \"C\": 2, \"D\": 3}\n",
       ">>> df.fillna(value=values)\n",
       "     A    B    C    D\n",
       "0  0.0  2.0  2.0  0.0\n",
       "1  3.0  4.0  2.0  1.0\n",
       "2  0.0  1.0  2.0  3.0\n",
       "3  0.0  3.0  2.0  4.0\n",
       "\n",
       "Only replace the first NaN element.\n",
       "\n",
       ">>> df.fillna(value=values, limit=1)\n",
       "     A    B    C    D\n",
       "0  0.0  2.0  2.0  0.0\n",
       "1  3.0  4.0  NaN  1.0\n",
       "2  NaN  1.0  NaN  3.0\n",
       "3  NaN  3.0  NaN  4.0\n",
       "\n",
       "When filling using a DataFrame, replacement happens along\n",
       "the same column names and same indices\n",
       "\n",
       ">>> df2 = pd.DataFrame(np.zeros((4, 4)), columns=list(\"ABCE\"))\n",
       ">>> df.fillna(df2)\n",
       "     A    B    C    D\n",
       "0  0.0  2.0  0.0  0.0\n",
       "1  3.0  4.0  0.0  1.0\n",
       "2  0.0  0.0  0.0  NaN\n",
       "3  0.0  3.0  0.0  4.0\n",
       "\n",
       "Note that column D is not affected since it is not present in df2.\n",
       "\u001b[0;31mFile:\u001b[0m      ~/opt/miniconda3/envs/py22/lib/python3.10/site-packages/pandas/core/frame.py\n",
       "\u001b[0;31mType:\u001b[0m      method\n"
      ]
     },
     "metadata": {},
     "output_type": "display_data"
    }
   ],
   "source": [
    "# check how a method works and what parameters it needs\n",
    "\n",
    "df.fillna?"
   ]
  },
  {
   "cell_type": "code",
   "execution_count": 379,
   "id": "7c799b02-95d7-40eb-a3aa-0b0f1529471f",
   "metadata": {},
   "outputs": [
    {
     "name": "stdout",
     "output_type": "stream",
     "text": [
      "original shape:  (50397, 18)\n",
      "new shape:  (20358, 18)\n"
     ]
    }
   ],
   "source": [
    "# What happens if we drop all rows with Null values? \n",
    "\n",
    "print('original shape: ', df.shape)\n",
    "\n",
    "print('new shape: ', df.dropna().shape) # NOTE: here, inplace = False by default"
   ]
  },
  {
   "cell_type": "code",
   "execution_count": 383,
   "id": "34487e6a-421d-4ed1-9c88-dcfd9ed784b9",
   "metadata": {},
   "outputs": [
    {
     "data": {
      "text/html": [
       "<div>\n",
       "<style scoped>\n",
       "    .dataframe tbody tr th:only-of-type {\n",
       "        vertical-align: middle;\n",
       "    }\n",
       "\n",
       "    .dataframe tbody tr th {\n",
       "        vertical-align: top;\n",
       "    }\n",
       "\n",
       "    .dataframe thead th {\n",
       "        text-align: right;\n",
       "    }\n",
       "</style>\n",
       "<table border=\"1\" class=\"dataframe\">\n",
       "  <thead>\n",
       "    <tr style=\"text-align: right;\">\n",
       "      <th></th>\n",
       "      <th>country_school_id</th>\n",
       "      <th>country_student_id</th>\n",
       "      <th>socioeconomic_index</th>\n",
       "      <th>math_score</th>\n",
       "      <th>reading_score</th>\n",
       "    </tr>\n",
       "  </thead>\n",
       "  <tbody>\n",
       "    <tr>\n",
       "      <th>count</th>\n",
       "      <td>5.039700e+04</td>\n",
       "      <td>5.039700e+04</td>\n",
       "      <td>49564.000000</td>\n",
       "      <td>50397.000000</td>\n",
       "      <td>50397.000000</td>\n",
       "    </tr>\n",
       "    <tr>\n",
       "      <th>mean</th>\n",
       "      <td>4.124331e+07</td>\n",
       "      <td>4.124772e+07</td>\n",
       "      <td>-0.106646</td>\n",
       "      <td>469.533701</td>\n",
       "      <td>474.243077</td>\n",
       "    </tr>\n",
       "    <tr>\n",
       "      <th>std</th>\n",
       "      <td>2.593884e+07</td>\n",
       "      <td>2.593763e+07</td>\n",
       "      <td>1.071051</td>\n",
       "      <td>96.473981</td>\n",
       "      <td>105.765284</td>\n",
       "    </tr>\n",
       "    <tr>\n",
       "      <th>min</th>\n",
       "      <td>3.200001e+06</td>\n",
       "      <td>3.200001e+06</td>\n",
       "      <td>-7.177600</td>\n",
       "      <td>128.113910</td>\n",
       "      <td>79.250099</td>\n",
       "    </tr>\n",
       "    <tr>\n",
       "      <th>25%</th>\n",
       "      <td>2.460002e+07</td>\n",
       "      <td>2.460093e+07</td>\n",
       "      <td>-0.809025</td>\n",
       "      <td>399.351590</td>\n",
       "      <td>399.157900</td>\n",
       "    </tr>\n",
       "    <tr>\n",
       "      <th>50%</th>\n",
       "      <td>5.280005e+07</td>\n",
       "      <td>5.280244e+07</td>\n",
       "      <td>0.012250</td>\n",
       "      <td>470.627810</td>\n",
       "      <td>477.102510</td>\n",
       "    </tr>\n",
       "    <tr>\n",
       "      <th>75%</th>\n",
       "      <td>5.780013e+07</td>\n",
       "      <td>5.780374e+07</td>\n",
       "      <td>0.731025</td>\n",
       "      <td>540.987120</td>\n",
       "      <td>552.201170</td>\n",
       "    </tr>\n",
       "    <tr>\n",
       "      <th>max</th>\n",
       "      <td>8.400018e+07</td>\n",
       "      <td>8.400863e+07</td>\n",
       "      <td>3.612800</td>\n",
       "      <td>797.783020</td>\n",
       "      <td>810.487430</td>\n",
       "    </tr>\n",
       "  </tbody>\n",
       "</table>\n",
       "</div>"
      ],
      "text/plain": [
       "       country_school_id  country_student_id  socioeconomic_index  \\\n",
       "count       5.039700e+04        5.039700e+04         49564.000000   \n",
       "mean        4.124331e+07        4.124772e+07            -0.106646   \n",
       "std         2.593884e+07        2.593763e+07             1.071051   \n",
       "min         3.200001e+06        3.200001e+06            -7.177600   \n",
       "25%         2.460002e+07        2.460093e+07            -0.809025   \n",
       "50%         5.280005e+07        5.280244e+07             0.012250   \n",
       "75%         5.780013e+07        5.780374e+07             0.731025   \n",
       "max         8.400018e+07        8.400863e+07             3.612800   \n",
       "\n",
       "         math_score  reading_score  \n",
       "count  50397.000000   50397.000000  \n",
       "mean     469.533701     474.243077  \n",
       "std       96.473981     105.765284  \n",
       "min      128.113910      79.250099  \n",
       "25%      399.351590     399.157900  \n",
       "50%      470.627810     477.102510  \n",
       "75%      540.987120     552.201170  \n",
       "max      797.783020     810.487430  "
      ]
     },
     "execution_count": 383,
     "metadata": {},
     "output_type": "execute_result"
    }
   ],
   "source": [
    "df.describe()"
   ]
  },
  {
   "cell_type": "code",
   "execution_count": 381,
   "id": "41be9a0c-bc47-4630-b788-b9a90e2b6d11",
   "metadata": {},
   "outputs": [
    {
     "data": {
      "text/plain": [
       "Index(['country_id', 'country', 'country_school_id', 'country_student_id',\n",
       "       'student_gender', 'computer_at_home', 'internet_at_home',\n",
       "       'immigration_status', 'early_education', 'repeated_grades',\n",
       "       'school_location', 'school_type', 'school_size', 'class_size',\n",
       "       'socioeconomic_index', 'math_score', 'reading_score',\n",
       "       'parent_education'],\n",
       "      dtype='object')"
      ]
     },
     "execution_count": 381,
     "metadata": {},
     "output_type": "execute_result"
    }
   ],
   "source": [
    "df.columns"
   ]
  },
  {
   "cell_type": "code",
   "execution_count": null,
   "id": "08c9d7b2-a5b1-4ec8-8421-6339ee53f09d",
   "metadata": {},
   "outputs": [],
   "source": []
  }
 ],
 "metadata": {
  "kernelspec": {
   "display_name": "Python 3",
   "language": "python",
   "name": "python3"
  },
  "language_info": {
   "codemirror_mode": {
    "name": "ipython",
    "version": 3
   },
   "file_extension": ".py",
   "mimetype": "text/x-python",
   "name": "python",
   "nbconvert_exporter": "python",
   "pygments_lexer": "ipython3",
   "version": "3.8.10"
  }
 },
 "nbformat": 4,
 "nbformat_minor": 5
}
