{
 "cells": [
  {
   "cell_type": "markdown",
   "id": "c5796aa9-dd3b-4c46-a02e-c91ddbb398eb",
   "metadata": {},
   "source": [
    "# Introduction to Python for Data Science - Day 2\n",
    "\n",
    "Welcome to the second day of the course. These notebooks will guide through the two days of the course. \n",
    "They are designed for you to repreduce and play, so feel free to modify the content. \n",
    "\n",
    "In particular, the course is split into \"theory\" and \"lab\" sessions. \n",
    "- The theory sessions are in the morning and show hands-on how the main concept works\n",
    "- The lab session are afternoon exercises designed to understand and try the concepts learn in the morning. \n",
    "\n",
    "The schedule for day 2 is the following\n",
    "\n",
    " | Time | Topic |\n",
    " --- | --- |\n",
    " 9.00-10.00 | numpy |\n",
    "11.00-11.00 | pandas |\n",
    "11.00-12.00 | data loading, cleaning |\n",
    "12.00-13.00 | **Lunch break**\n",
    "13.00-14.00 | plotting |\n",
    "14.00-15.00 | data analysis with pandas, numpy, and matplotlib |\n",
    " \n",
    "\n",
    "In this second day, we will look at the main libraries for data analysis, numpy, pandas, and matplotlib. \n",
    "Please make sure that the concepts of the first day are well understood and crystalized, as they will be instrumental for the understanding of today's lecture. \n",
    "\n",
    "Please create an account in Google to access colab or, if you want, use Jupyter notebook in your laptop. \n",
    "\n",
    "**Acknowledgments**\n",
    "\n",
    "The material in this day is adapted from \n",
    "1. Chapters 4, 5, 6 in the book \n",
    "> [Python for Data Analysis, 3rd Edition](https://wesmckinney.com/book/) by Wes McKinney, published by O'Reilly Media.\n",
    "The original jupyter notebooks can be found at the [book's Github repository](https://github.com/wesm/pydata-book/tree/3rd-edition).\n",
    "  \n",
    "2. Additional material has been adapted from [Python for Data Science course](https://github.com/worldbank/Python-for-Data-Science/) developed by Nick Jones, Dharana Rijal, Charles Fox and Gaurav Bhardwaj.\n"
   ]
  },
  {
   "cell_type": "code",
   "execution_count": 1,
   "id": "020004bb-d55f-47a3-89b0-c5efa95792f4",
   "metadata": {},
   "outputs": [],
   "source": [
    "# You should become friend with these two libraries\n",
    "\n",
    "import pandas as pd\n",
    "import numpy as np"
   ]
  },
  {
   "cell_type": "markdown",
   "id": "314fa681-29a9-4fa5-9e95-e54bfc10e634",
   "metadata": {
    "tags": []
   },
   "source": [
    "## File management\n",
    "\n",
    "In this last part we will look into how to load and save files. \n",
    "This is the last basic operation to dive into more complex data analyses. \n"
   ]
  },
  {
   "cell_type": "code",
   "execution_count": 2,
   "id": "bb354c93-ecce-44aa-bb73-223b0eba7e86",
   "metadata": {},
   "outputs": [],
   "source": [
    "# A path can refer to a file in your hard drive or a location in the web\n",
    "\n",
    "path = r'../data/data_edu.csv'\n",
    "f = open(path, encoding=\"utf-8\")"
   ]
  },
  {
   "cell_type": "markdown",
   "id": "598e69c5-9dac-45a4-b29d-83539cfbca30",
   "metadata": {},
   "source": [
    "We can read each line individually with a for-loop on the open file"
   ]
  },
  {
   "cell_type": "code",
   "execution_count": 3,
   "id": "76f72bc6-6fae-42f5-b203-5e77a48da9e8",
   "metadata": {},
   "outputs": [
    {
     "name": "stdout",
     "output_type": "stream",
     "text": [
      "['country_id,country,country_school_id,country_student_id,student_gender,computer_at_home,internet_at_home,immigration_status,early_education,repeated_grades,school_location,school_type,school_size,class_size,socioeconomic_index,math_score,reading_score,parent_education', 'Argentina,Argentina,3200001,3213049,Female,No,Yes,First-Generation,Attended ECEC for at least two but less than three years,Repeated a  grade,A city (100 000 to about 1 000 000 people),Public,570,31-35 students,-1.373,314.25031,424.07239,\"Post secondary, non-tertiary\"', 'Argentina,Argentina,3200001,3203374,Female,Yes,Yes,Native,Attended ECEC for at least two but less than three years,Did not repeat a  grade,A city (100 000 to about 1 000 000 people),Public,570,31-35 students,-1.1825,356.07629,380.26309,\"Post secondary, non-tertiary\"', 'Argentina,Argentina,3200001,3204844,Male,No,No,First-Generation,Attended ECEC for at least one but less than two years,Did not repeat a  grade,A city (100 000 to about 1 000 000 people),Public,570,31-35 students,-2.3486,338.08029,384.89191,Lower secondary', 'Argentina,Argentina,3200001,3211193,Female,Yes,Yes,Native,Attended ECEC for at least two but less than three years,Did not repeat a  grade,A city (100 000 to about 1 000 000 people),Public,570,31-35 students,-.9259,310.3869,392.88031,\"Post secondary, non-tertiary\"']\n",
      "Line count 50398\n"
     ]
    }
   ],
   "source": [
    "lines = [x.rstrip() for x in f]\n",
    "# Let's visualize the first 5 lines\n",
    "print(lines[:5])\n",
    "print(f'Line count {len(lines)}')"
   ]
  },
  {
   "cell_type": "code",
   "execution_count": 4,
   "id": "7b4a524c-f5d6-4b82-ab39-c8a444f5ec30",
   "metadata": {},
   "outputs": [],
   "source": [
    "# A file should always be closed\n",
    "f.close()"
   ]
  },
  {
   "cell_type": "markdown",
   "id": "6ba9cda9-3c45-4d84-b21a-649559b02ef3",
   "metadata": {},
   "source": [
    "The syntax \n",
    "\n",
    "```python\n",
    "with open(path) as f: \n",
    "    ...\n",
    "```\n",
    "\n",
    "allows for automatically handling the file closure."
   ]
  },
  {
   "cell_type": "code",
   "execution_count": 5,
   "id": "f4ad36d9-c560-47af-8bdb-063cc7e749c0",
   "metadata": {},
   "outputs": [],
   "source": [
    "with open(path) as f:\n",
    "    lines = [x.rstrip() for x in f]"
   ]
  },
  {
   "cell_type": "code",
   "execution_count": 6,
   "id": "88466abf-474a-41e0-af87-2e747be3d55d",
   "metadata": {},
   "outputs": [
    {
     "data": {
      "text/plain": [
       "'country_id'"
      ]
     },
     "execution_count": 6,
     "metadata": {},
     "output_type": "execute_result"
    }
   ],
   "source": [
    "# Reading a certain number of characters each time\n",
    "f1 = open(path)\n",
    "f1.read(10)"
   ]
  },
  {
   "cell_type": "markdown",
   "id": "91d89c7e-6922-44d0-81f9-e9bb18647451",
   "metadata": {},
   "source": [
    "Open the file in binary mode - rb stands for r=read, b=binary"
   ]
  },
  {
   "cell_type": "code",
   "execution_count": 7,
   "id": "90d1f55c-837f-4d88-98dc-2b3c3f4e6ed2",
   "metadata": {},
   "outputs": [
    {
     "name": "stdout",
     "output_type": "stream",
     "text": [
      "b'country_id'\n"
     ]
    }
   ],
   "source": [
    "f2 = open(path, mode=\"rb\")  # Binary mode\n",
    "print(f2.read(10))"
   ]
  },
  {
   "cell_type": "markdown",
   "id": "b1979ec1-fef1-4a19-9f18-021ca758d8c8",
   "metadata": {},
   "source": [
    "| Mode | Description                                                                                         |\n",
    "| ---- | --------------------------------------------------------------------------------------------------- |\n",
    "| `r`  | Read-only mode                                                                                      |\n",
    "| `w`  | Write-only mode; creates a new file (erasing the data for any file with the same name)              |\n",
    "| `x`  | Write-only mode; creates a new file but fails if the file path already exists                       |\n",
    "| `a`  | Append to existing file (creates the file if it does not already exist)                             |\n",
    "| `r+` | Read and write                                                                                      |\n",
    "| `b`  | Add to mode for binary files (i.e., `\"rb\"` or `\"wb\"`)                                               |\n",
    "| `t`  | Text mode for files (automatically decoding bytes to Unicode); this is the default if not specified |"
   ]
  },
  {
   "cell_type": "markdown",
   "id": "cc152ab8-0d3b-454d-8b41-ce5181e5d2d1",
   "metadata": {},
   "source": [
    "The function `tell` returns the current position in the file. "
   ]
  },
  {
   "cell_type": "code",
   "execution_count": 8,
   "id": "4a3151ef-b28b-4395-8d69-c8fe553280d4",
   "metadata": {},
   "outputs": [
    {
     "data": {
      "text/plain": [
       "10"
      ]
     },
     "execution_count": 8,
     "metadata": {},
     "output_type": "execute_result"
    }
   ],
   "source": [
    "f1.tell()"
   ]
  },
  {
   "cell_type": "code",
   "execution_count": 9,
   "id": "833a3ecd-34e3-455c-bc70-f484cd6d926e",
   "metadata": {},
   "outputs": [
    {
     "name": "stdout",
     "output_type": "stream",
     "text": [
      "n\n",
      "4\n"
     ]
    }
   ],
   "source": [
    "# Seeks move the current position to the specified one\n",
    "f1.seek(3)\n",
    "print(f1.read(1))\n",
    "print(f1.tell())"
   ]
  },
  {
   "cell_type": "code",
   "execution_count": 10,
   "id": "a942579c-a908-42c4-ba3d-a5d0490a15fc",
   "metadata": {},
   "outputs": [],
   "source": [
    "f1.close()"
   ]
  },
  {
   "cell_type": "code",
   "execution_count": 11,
   "id": "cc71307d-fd81-4c8e-8a1b-265d60e95029",
   "metadata": {},
   "outputs": [
    {
     "data": {
      "text/plain": [
       "['United States,United States,84000001,84003351,Male,Yes,Yes,Native,Attended ECEC for at least three but less than four years,Did not repeat a  grade,A town (15 000 to about 100 000 people),Public,100,21-25 students,.4372,644.80487,683.53363,\"Post secondary, tertiary\"\\n',\n",
       " 'United States,United States,84000001,84000536,Male,Yes,Yes,Native,No Response,Did not repeat a  grade,A town (15 000 to about 100 000 people),Public,100,21-25 students,-.9971,474.5553,437.77771,\"Post secondary, non-tertiary\"\\n',\n",
       " 'United States,United States,84000001,84003883,Male,Yes,Yes,Native,Attended ECEC for at least one but less than two years,Did not repeat a  grade,A town (15 000 to about 100 000 people),Public,100,21-25 students,-.8931,502.7262,468.23529,Non response\\n',\n",
       " 'United States,United States,84000001,84002531,Female,Yes,Yes,Native,Attended ECEC for at least two but less than three years,Did not repeat a  grade,A town (15 000 to about 100 000 people),Public,100,21-25 students,-.1624,493.64529,623.0097,\"Post secondary, tertiary\"\\n',\n",
       " 'United States,United States,84000001,84001624,Male,Yes,Yes,Native,Attended ECEC for at least two but less than three years,Did not repeat a  grade,A town (15 000 to about 100 000 people),Public,100,21-25 students,-.9357,442.64261,449.0047,\"Post secondary, non-tertiary\"\\n']"
      ]
     },
     "execution_count": 11,
     "metadata": {},
     "output_type": "execute_result"
    }
   ],
   "source": [
    "path\n",
    "\n",
    "with open(\"../data/tmp.csv\", mode=\"w\") as handle:\n",
    "    handle.writelines(x for x in open(path) if x.startswith('Un'))\n",
    "\n",
    "with open(\"../data/tmp.csv\") as f:\n",
    "    lines = f.readlines()\n",
    "\n",
    "lines[:5]"
   ]
  },
  {
   "cell_type": "code",
   "execution_count": 12,
   "id": "5fefdf1e-1ca2-4b26-a9f3-76c6adfc0065",
   "metadata": {},
   "outputs": [],
   "source": [
    "# Delete a file from disk\n",
    "\n",
    "import os\n",
    "os.remove(\"../data/tmp.csv\")"
   ]
  },
  {
   "cell_type": "code",
   "execution_count": 13,
   "id": "fc8b1eb3-efee-4745-bd2a-3d3da673006d",
   "metadata": {},
   "outputs": [
    {
     "data": {
      "text/plain": [
       "10"
      ]
     },
     "execution_count": 13,
     "metadata": {},
     "output_type": "execute_result"
    }
   ],
   "source": [
    "with open(path) as f:\n",
    "    chars = f.read(10)\n",
    "\n",
    "chars\n",
    "len(chars)"
   ]
  },
  {
   "cell_type": "code",
   "execution_count": 14,
   "id": "ce7bddc0-91c3-4c5b-b0a5-b5a14c7f0458",
   "metadata": {},
   "outputs": [
    {
     "data": {
      "text/plain": [
       "b'country_id'"
      ]
     },
     "execution_count": 14,
     "metadata": {},
     "output_type": "execute_result"
    }
   ],
   "source": [
    "with open(path, mode=\"rb\") as f:\n",
    "    data = f.read(10)\n",
    "\n",
    "data"
   ]
  },
  {
   "cell_type": "markdown",
   "id": "83f853f3-3cc3-45d5-8403-7812b32689ad",
   "metadata": {
    "tags": []
   },
   "source": [
    "### Read Data Frames from a csv file"
   ]
  },
  {
   "cell_type": "code",
   "execution_count": 15,
   "id": "1702830c-c0b2-4cd4-8d38-6c81f7d88ffa",
   "metadata": {},
   "outputs": [],
   "source": [
    "df = pd.read_csv(path, encoding = 'utf_8')"
   ]
  },
  {
   "cell_type": "code",
   "execution_count": 16,
   "id": "7bbdf219-f1f7-4332-a218-03fc0eac7bbb",
   "metadata": {},
   "outputs": [
    {
     "data": {
      "text/html": [
       "<div>\n",
       "<style scoped>\n",
       "    .dataframe tbody tr th:only-of-type {\n",
       "        vertical-align: middle;\n",
       "    }\n",
       "\n",
       "    .dataframe tbody tr th {\n",
       "        vertical-align: top;\n",
       "    }\n",
       "\n",
       "    .dataframe thead th {\n",
       "        text-align: right;\n",
       "    }\n",
       "</style>\n",
       "<table border=\"1\" class=\"dataframe\">\n",
       "  <thead>\n",
       "    <tr style=\"text-align: right;\">\n",
       "      <th></th>\n",
       "      <th>country_id</th>\n",
       "      <th>country</th>\n",
       "      <th>country_school_id</th>\n",
       "      <th>country_student_id</th>\n",
       "      <th>student_gender</th>\n",
       "      <th>computer_at_home</th>\n",
       "      <th>internet_at_home</th>\n",
       "      <th>immigration_status</th>\n",
       "      <th>early_education</th>\n",
       "      <th>repeated_grades</th>\n",
       "      <th>school_location</th>\n",
       "      <th>school_type</th>\n",
       "      <th>school_size</th>\n",
       "      <th>class_size</th>\n",
       "      <th>socioeconomic_index</th>\n",
       "      <th>math_score</th>\n",
       "      <th>reading_score</th>\n",
       "      <th>parent_education</th>\n",
       "    </tr>\n",
       "  </thead>\n",
       "  <tbody>\n",
       "    <tr>\n",
       "      <th>0</th>\n",
       "      <td>Argentina</td>\n",
       "      <td>Argentina</td>\n",
       "      <td>3200001</td>\n",
       "      <td>3213049</td>\n",
       "      <td>Female</td>\n",
       "      <td>No</td>\n",
       "      <td>Yes</td>\n",
       "      <td>First-Generation</td>\n",
       "      <td>Attended ECEC for at least two but less than t...</td>\n",
       "      <td>Repeated a  grade</td>\n",
       "      <td>A city (100 000 to about 1 000 000 people)</td>\n",
       "      <td>Public</td>\n",
       "      <td>570</td>\n",
       "      <td>31-35 students</td>\n",
       "      <td>-1.3730</td>\n",
       "      <td>314.25031</td>\n",
       "      <td>424.07239</td>\n",
       "      <td>Post secondary, non-tertiary</td>\n",
       "    </tr>\n",
       "    <tr>\n",
       "      <th>1</th>\n",
       "      <td>Argentina</td>\n",
       "      <td>Argentina</td>\n",
       "      <td>3200001</td>\n",
       "      <td>3203374</td>\n",
       "      <td>Female</td>\n",
       "      <td>Yes</td>\n",
       "      <td>Yes</td>\n",
       "      <td>Native</td>\n",
       "      <td>Attended ECEC for at least two but less than t...</td>\n",
       "      <td>Did not repeat a  grade</td>\n",
       "      <td>A city (100 000 to about 1 000 000 people)</td>\n",
       "      <td>Public</td>\n",
       "      <td>570</td>\n",
       "      <td>31-35 students</td>\n",
       "      <td>-1.1825</td>\n",
       "      <td>356.07629</td>\n",
       "      <td>380.26309</td>\n",
       "      <td>Post secondary, non-tertiary</td>\n",
       "    </tr>\n",
       "  </tbody>\n",
       "</table>\n",
       "</div>"
      ],
      "text/plain": [
       "  country_id    country  country_school_id  country_student_id student_gender  \\\n",
       "0  Argentina  Argentina            3200001             3213049         Female   \n",
       "1  Argentina  Argentina            3200001             3203374         Female   \n",
       "\n",
       "  computer_at_home internet_at_home immigration_status  \\\n",
       "0               No              Yes   First-Generation   \n",
       "1              Yes              Yes             Native   \n",
       "\n",
       "                                     early_education          repeated_grades  \\\n",
       "0  Attended ECEC for at least two but less than t...        Repeated a  grade   \n",
       "1  Attended ECEC for at least two but less than t...  Did not repeat a  grade   \n",
       "\n",
       "                              school_location school_type school_size  \\\n",
       "0  A city (100 000 to about 1 000 000 people)      Public         570   \n",
       "1  A city (100 000 to about 1 000 000 people)      Public         570   \n",
       "\n",
       "       class_size  socioeconomic_index  math_score  reading_score  \\\n",
       "0  31-35 students              -1.3730   314.25031      424.07239   \n",
       "1  31-35 students              -1.1825   356.07629      380.26309   \n",
       "\n",
       "               parent_education  \n",
       "0  Post secondary, non-tertiary  \n",
       "1  Post secondary, non-tertiary  "
      ]
     },
     "execution_count": 16,
     "metadata": {},
     "output_type": "execute_result"
    }
   ],
   "source": [
    "# Examine first two observations\n",
    "\n",
    "df.head(2)"
   ]
  },
  {
   "cell_type": "code",
   "execution_count": 17,
   "id": "fe7d873d-0a6e-48c0-b967-631ce37552d7",
   "metadata": {},
   "outputs": [
    {
     "data": {
      "text/plain": [
       "Index(['country_id', 'country', 'country_school_id', 'country_student_id',\n",
       "       'student_gender', 'computer_at_home', 'internet_at_home',\n",
       "       'immigration_status', 'early_education', 'repeated_grades',\n",
       "       'school_location', 'school_type', 'school_size', 'class_size',\n",
       "       'socioeconomic_index', 'math_score', 'reading_score',\n",
       "       'parent_education'],\n",
       "      dtype='object')"
      ]
     },
     "execution_count": 17,
     "metadata": {},
     "output_type": "execute_result"
    }
   ],
   "source": [
    "# Examine dataframe columns\n",
    "\n",
    "df.columns"
   ]
  },
  {
   "cell_type": "markdown",
   "id": "6f841e2b-4757-452a-a08d-83ba43352ee0",
   "metadata": {},
   "source": [
    "#### Preliminary analysis"
   ]
  },
  {
   "cell_type": "code",
   "execution_count": 18,
   "id": "d3db0ce3-ff88-44d6-ac30-1de15dee28b8",
   "metadata": {},
   "outputs": [
    {
     "data": {
      "text/plain": [
       "country_id                0\n",
       "country                   0\n",
       "country_school_id         0\n",
       "country_student_id        0\n",
       "student_gender            0\n",
       "computer_at_home        432\n",
       "internet_at_home        432\n",
       "immigration_status        0\n",
       "early_education           0\n",
       "repeated_grades           0\n",
       "school_location         886\n",
       "school_type               0\n",
       "school_size               0\n",
       "class_size             1002\n",
       "socioeconomic_index     833\n",
       "math_score                0\n",
       "reading_score             0\n",
       "parent_education          0\n",
       "dtype: int64"
      ]
     },
     "execution_count": 18,
     "metadata": {},
     "output_type": "execute_result"
    }
   ],
   "source": [
    "# Missing values for each column\n",
    "\n",
    "df.isnull().sum()"
   ]
  },
  {
   "cell_type": "code",
   "execution_count": 19,
   "id": "5f3c27cf-a6ca-42fd-a581-2c04f4b12e65",
   "metadata": {},
   "outputs": [
    {
     "data": {
      "text/plain": [
       "Invalid        11986\n",
       "No Response     2222\n",
       "322              176\n",
       "392              170\n",
       "350              157\n",
       "               ...  \n",
       "22                 2\n",
       "8                  2\n",
       "40                 2\n",
       "54                 1\n",
       "39                 1\n",
       "Name: school_size, Length: 863, dtype: int64"
      ]
     },
     "execution_count": 19,
     "metadata": {},
     "output_type": "execute_result"
    }
   ],
   "source": [
    "# But there are other values like \"No Response\" and \"Invalid\" that are not currently counted as None or Null: \n",
    "\n",
    "df.school_size.value_counts()"
   ]
  },
  {
   "cell_type": "markdown",
   "id": "f9555439-8b74-4b66-93b0-cea88f2d427e",
   "metadata": {},
   "source": [
    "One way of re-assigning these values as null:\n",
    "\n",
    "```\n",
    "df.loc[(df[\"school_size\"] == \"No Response\")|(df[\"school_size\"] == \"Invalid\"),\"school_size\"] = np.nan\n",
    "df.school_size.isna().sum()\n",
    "```"
   ]
  },
  {
   "cell_type": "code",
   "execution_count": 20,
   "id": "7a8fe887-85f4-48b7-abc6-6bc2d866a926",
   "metadata": {},
   "outputs": [],
   "source": [
    "# To assign all null equivalents as None:\n",
    "\n",
    "# List of all columns\n",
    "all_columns = df.columns.tolist()\n",
    "\n",
    "# List of values that we want to re-assign as None: \n",
    "list_of_null_equivalents = [\"No Response\", \"Invalid\", np.nan, \"None\", \"Non Response\"]\n",
    "\n",
    "# Treat all columns where null equivalents exist\n",
    "for col in all_columns:\n",
    "    df.loc[df[col].isin(list_of_null_equivalents),col] = None "
   ]
  },
  {
   "cell_type": "code",
   "execution_count": 21,
   "id": "e83451aa-b273-4ecc-9dff-807df7c62379",
   "metadata": {},
   "outputs": [
    {
     "data": {
      "text/plain": [
       "country_id                 0\n",
       "country                    0\n",
       "country_school_id          0\n",
       "country_student_id         0\n",
       "student_gender             0\n",
       "computer_at_home        1121\n",
       "internet_at_home        1051\n",
       "immigration_status      9032\n",
       "early_education        10733\n",
       "repeated_grades        13513\n",
       "school_location         6989\n",
       "school_type             6820\n",
       "school_size            14208\n",
       "class_size              1834\n",
       "socioeconomic_index      833\n",
       "math_score                 0\n",
       "reading_score              0\n",
       "parent_education         413\n",
       "dtype: int64"
      ]
     },
     "execution_count": 21,
     "metadata": {},
     "output_type": "execute_result"
    }
   ],
   "source": [
    "# Many more columns have null values\n",
    "\n",
    "df.isnull().sum()"
   ]
  },
  {
   "cell_type": "markdown",
   "id": "c42407c7-8bb5-4f65-b64e-e48d5706f598",
   "metadata": {},
   "source": [
    "#### Decide what steps to take, eg:\n",
    "* deduce the missing values (eg. internet_at_home from socioeconomic index)\n",
    "* fill NaNs using mean, median or a custom strategy (Look up: df.fillna?)\n",
    "* drop rows with missing values (Look up: df.dropna?)"
   ]
  },
  {
   "cell_type": "code",
   "execution_count": 22,
   "id": "67196b87-4d98-45e4-970e-cc6cfa4b54c7",
   "metadata": {},
   "outputs": [
    {
     "data": {
      "text/plain": [
       "\u001b[0;31mSignature:\u001b[0m\n",
       "\u001b[0mdf\u001b[0m\u001b[0;34m.\u001b[0m\u001b[0mfillna\u001b[0m\u001b[0;34m(\u001b[0m\u001b[0;34m\u001b[0m\n",
       "\u001b[0;34m\u001b[0m    \u001b[0mvalue\u001b[0m\u001b[0;34m:\u001b[0m \u001b[0;34m'object | ArrayLike | None'\u001b[0m \u001b[0;34m=\u001b[0m \u001b[0;32mNone\u001b[0m\u001b[0;34m,\u001b[0m\u001b[0;34m\u001b[0m\n",
       "\u001b[0;34m\u001b[0m    \u001b[0mmethod\u001b[0m\u001b[0;34m:\u001b[0m \u001b[0;34m'FillnaOptions | None'\u001b[0m \u001b[0;34m=\u001b[0m \u001b[0;32mNone\u001b[0m\u001b[0;34m,\u001b[0m\u001b[0;34m\u001b[0m\n",
       "\u001b[0;34m\u001b[0m    \u001b[0maxis\u001b[0m\u001b[0;34m:\u001b[0m \u001b[0;34m'Axis | None'\u001b[0m \u001b[0;34m=\u001b[0m \u001b[0;32mNone\u001b[0m\u001b[0;34m,\u001b[0m\u001b[0;34m\u001b[0m\n",
       "\u001b[0;34m\u001b[0m    \u001b[0minplace\u001b[0m\u001b[0;34m:\u001b[0m \u001b[0;34m'bool'\u001b[0m \u001b[0;34m=\u001b[0m \u001b[0;32mFalse\u001b[0m\u001b[0;34m,\u001b[0m\u001b[0;34m\u001b[0m\n",
       "\u001b[0;34m\u001b[0m    \u001b[0mlimit\u001b[0m\u001b[0;34m=\u001b[0m\u001b[0;32mNone\u001b[0m\u001b[0;34m,\u001b[0m\u001b[0;34m\u001b[0m\n",
       "\u001b[0;34m\u001b[0m    \u001b[0mdowncast\u001b[0m\u001b[0;34m=\u001b[0m\u001b[0;32mNone\u001b[0m\u001b[0;34m,\u001b[0m\u001b[0;34m\u001b[0m\n",
       "\u001b[0;34m\u001b[0m\u001b[0;34m)\u001b[0m \u001b[0;34m->\u001b[0m \u001b[0;34m'DataFrame | None'\u001b[0m\u001b[0;34m\u001b[0m\u001b[0;34m\u001b[0m\u001b[0m\n",
       "\u001b[0;31mDocstring:\u001b[0m\n",
       "Fill NA/NaN values using the specified method.\n",
       "\n",
       "Parameters\n",
       "----------\n",
       "value : scalar, dict, Series, or DataFrame\n",
       "    Value to use to fill holes (e.g. 0), alternately a\n",
       "    dict/Series/DataFrame of values specifying which value to use for\n",
       "    each index (for a Series) or column (for a DataFrame).  Values not\n",
       "    in the dict/Series/DataFrame will not be filled. This value cannot\n",
       "    be a list.\n",
       "method : {'backfill', 'bfill', 'pad', 'ffill', None}, default None\n",
       "    Method to use for filling holes in reindexed Series\n",
       "    pad / ffill: propagate last valid observation forward to next valid\n",
       "    backfill / bfill: use next valid observation to fill gap.\n",
       "axis : {0 or 'index', 1 or 'columns'}\n",
       "    Axis along which to fill missing values.\n",
       "inplace : bool, default False\n",
       "    If True, fill in-place. Note: this will modify any\n",
       "    other views on this object (e.g., a no-copy slice for a column in a\n",
       "    DataFrame).\n",
       "limit : int, default None\n",
       "    If method is specified, this is the maximum number of consecutive\n",
       "    NaN values to forward/backward fill. In other words, if there is\n",
       "    a gap with more than this number of consecutive NaNs, it will only\n",
       "    be partially filled. If method is not specified, this is the\n",
       "    maximum number of entries along the entire axis where NaNs will be\n",
       "    filled. Must be greater than 0 if not None.\n",
       "downcast : dict, default is None\n",
       "    A dict of item->dtype of what to downcast if possible,\n",
       "    or the string 'infer' which will try to downcast to an appropriate\n",
       "    equal type (e.g. float64 to int64 if possible).\n",
       "\n",
       "Returns\n",
       "-------\n",
       "DataFrame or None\n",
       "    Object with missing values filled or None if ``inplace=True``.\n",
       "\n",
       "See Also\n",
       "--------\n",
       "interpolate : Fill NaN values using interpolation.\n",
       "reindex : Conform object to new index.\n",
       "asfreq : Convert TimeSeries to specified frequency.\n",
       "\n",
       "Examples\n",
       "--------\n",
       ">>> df = pd.DataFrame([[np.nan, 2, np.nan, 0],\n",
       "...                    [3, 4, np.nan, 1],\n",
       "...                    [np.nan, np.nan, np.nan, np.nan],\n",
       "...                    [np.nan, 3, np.nan, 4]],\n",
       "...                   columns=list(\"ABCD\"))\n",
       ">>> df\n",
       "     A    B   C    D\n",
       "0  NaN  2.0 NaN  0.0\n",
       "1  3.0  4.0 NaN  1.0\n",
       "2  NaN  NaN NaN  NaN\n",
       "3  NaN  3.0 NaN  4.0\n",
       "\n",
       "Replace all NaN elements with 0s.\n",
       "\n",
       ">>> df.fillna(0)\n",
       "     A    B    C    D\n",
       "0  0.0  2.0  0.0  0.0\n",
       "1  3.0  4.0  0.0  1.0\n",
       "2  0.0  0.0  0.0  0.0\n",
       "3  0.0  3.0  0.0  4.0\n",
       "\n",
       "We can also propagate non-null values forward or backward.\n",
       "\n",
       ">>> df.fillna(method=\"ffill\")\n",
       "     A    B   C    D\n",
       "0  NaN  2.0 NaN  0.0\n",
       "1  3.0  4.0 NaN  1.0\n",
       "2  3.0  4.0 NaN  1.0\n",
       "3  3.0  3.0 NaN  4.0\n",
       "\n",
       "Replace all NaN elements in column 'A', 'B', 'C', and 'D', with 0, 1,\n",
       "2, and 3 respectively.\n",
       "\n",
       ">>> values = {\"A\": 0, \"B\": 1, \"C\": 2, \"D\": 3}\n",
       ">>> df.fillna(value=values)\n",
       "     A    B    C    D\n",
       "0  0.0  2.0  2.0  0.0\n",
       "1  3.0  4.0  2.0  1.0\n",
       "2  0.0  1.0  2.0  3.0\n",
       "3  0.0  3.0  2.0  4.0\n",
       "\n",
       "Only replace the first NaN element.\n",
       "\n",
       ">>> df.fillna(value=values, limit=1)\n",
       "     A    B    C    D\n",
       "0  0.0  2.0  2.0  0.0\n",
       "1  3.0  4.0  NaN  1.0\n",
       "2  NaN  1.0  NaN  3.0\n",
       "3  NaN  3.0  NaN  4.0\n",
       "\n",
       "When filling using a DataFrame, replacement happens along\n",
       "the same column names and same indices\n",
       "\n",
       ">>> df2 = pd.DataFrame(np.zeros((4, 4)), columns=list(\"ABCE\"))\n",
       ">>> df.fillna(df2)\n",
       "     A    B    C    D\n",
       "0  0.0  2.0  0.0  0.0\n",
       "1  3.0  4.0  0.0  1.0\n",
       "2  0.0  0.0  0.0  NaN\n",
       "3  0.0  3.0  0.0  4.0\n",
       "\n",
       "Note that column D is not affected since it is not present in df2.\n",
       "\u001b[0;31mFile:\u001b[0m      ~/opt/miniconda3/envs/py22/lib/python3.10/site-packages/pandas/core/frame.py\n",
       "\u001b[0;31mType:\u001b[0m      method\n"
      ]
     },
     "metadata": {},
     "output_type": "display_data"
    }
   ],
   "source": [
    "# check how a method works and what parameters it needs\n",
    "\n",
    "df.fillna?"
   ]
  },
  {
   "cell_type": "code",
   "execution_count": 23,
   "id": "7c799b02-95d7-40eb-a3aa-0b0f1529471f",
   "metadata": {},
   "outputs": [
    {
     "name": "stdout",
     "output_type": "stream",
     "text": [
      "original shape:  (50397, 18)\n",
      "new shape:  (20358, 18)\n"
     ]
    }
   ],
   "source": [
    "# What happens if we drop all rows with Null values? \n",
    "\n",
    "print('original shape: ', df.shape)\n",
    "\n",
    "print('new shape: ', df.dropna().shape) # NOTE: here, inplace = False by default"
   ]
  },
  {
   "cell_type": "code",
   "execution_count": 24,
   "id": "34487e6a-421d-4ed1-9c88-dcfd9ed784b9",
   "metadata": {},
   "outputs": [
    {
     "data": {
      "text/html": [
       "<div>\n",
       "<style scoped>\n",
       "    .dataframe tbody tr th:only-of-type {\n",
       "        vertical-align: middle;\n",
       "    }\n",
       "\n",
       "    .dataframe tbody tr th {\n",
       "        vertical-align: top;\n",
       "    }\n",
       "\n",
       "    .dataframe thead th {\n",
       "        text-align: right;\n",
       "    }\n",
       "</style>\n",
       "<table border=\"1\" class=\"dataframe\">\n",
       "  <thead>\n",
       "    <tr style=\"text-align: right;\">\n",
       "      <th></th>\n",
       "      <th>country_school_id</th>\n",
       "      <th>country_student_id</th>\n",
       "      <th>socioeconomic_index</th>\n",
       "      <th>math_score</th>\n",
       "      <th>reading_score</th>\n",
       "    </tr>\n",
       "  </thead>\n",
       "  <tbody>\n",
       "    <tr>\n",
       "      <th>count</th>\n",
       "      <td>5.039700e+04</td>\n",
       "      <td>5.039700e+04</td>\n",
       "      <td>49564.000000</td>\n",
       "      <td>50397.000000</td>\n",
       "      <td>50397.000000</td>\n",
       "    </tr>\n",
       "    <tr>\n",
       "      <th>mean</th>\n",
       "      <td>4.124331e+07</td>\n",
       "      <td>4.124772e+07</td>\n",
       "      <td>-0.106646</td>\n",
       "      <td>469.533701</td>\n",
       "      <td>474.243077</td>\n",
       "    </tr>\n",
       "    <tr>\n",
       "      <th>std</th>\n",
       "      <td>2.593884e+07</td>\n",
       "      <td>2.593763e+07</td>\n",
       "      <td>1.071051</td>\n",
       "      <td>96.473981</td>\n",
       "      <td>105.765284</td>\n",
       "    </tr>\n",
       "    <tr>\n",
       "      <th>min</th>\n",
       "      <td>3.200001e+06</td>\n",
       "      <td>3.200001e+06</td>\n",
       "      <td>-7.177600</td>\n",
       "      <td>128.113910</td>\n",
       "      <td>79.250099</td>\n",
       "    </tr>\n",
       "    <tr>\n",
       "      <th>25%</th>\n",
       "      <td>2.460002e+07</td>\n",
       "      <td>2.460093e+07</td>\n",
       "      <td>-0.809025</td>\n",
       "      <td>399.351590</td>\n",
       "      <td>399.157900</td>\n",
       "    </tr>\n",
       "    <tr>\n",
       "      <th>50%</th>\n",
       "      <td>5.280005e+07</td>\n",
       "      <td>5.280244e+07</td>\n",
       "      <td>0.012250</td>\n",
       "      <td>470.627810</td>\n",
       "      <td>477.102510</td>\n",
       "    </tr>\n",
       "    <tr>\n",
       "      <th>75%</th>\n",
       "      <td>5.780013e+07</td>\n",
       "      <td>5.780374e+07</td>\n",
       "      <td>0.731025</td>\n",
       "      <td>540.987120</td>\n",
       "      <td>552.201170</td>\n",
       "    </tr>\n",
       "    <tr>\n",
       "      <th>max</th>\n",
       "      <td>8.400018e+07</td>\n",
       "      <td>8.400863e+07</td>\n",
       "      <td>3.612800</td>\n",
       "      <td>797.783020</td>\n",
       "      <td>810.487430</td>\n",
       "    </tr>\n",
       "  </tbody>\n",
       "</table>\n",
       "</div>"
      ],
      "text/plain": [
       "       country_school_id  country_student_id  socioeconomic_index  \\\n",
       "count       5.039700e+04        5.039700e+04         49564.000000   \n",
       "mean        4.124331e+07        4.124772e+07            -0.106646   \n",
       "std         2.593884e+07        2.593763e+07             1.071051   \n",
       "min         3.200001e+06        3.200001e+06            -7.177600   \n",
       "25%         2.460002e+07        2.460093e+07            -0.809025   \n",
       "50%         5.280005e+07        5.280244e+07             0.012250   \n",
       "75%         5.780013e+07        5.780374e+07             0.731025   \n",
       "max         8.400018e+07        8.400863e+07             3.612800   \n",
       "\n",
       "         math_score  reading_score  \n",
       "count  50397.000000   50397.000000  \n",
       "mean     469.533701     474.243077  \n",
       "std       96.473981     105.765284  \n",
       "min      128.113910      79.250099  \n",
       "25%      399.351590     399.157900  \n",
       "50%      470.627810     477.102510  \n",
       "75%      540.987120     552.201170  \n",
       "max      797.783020     810.487430  "
      ]
     },
     "execution_count": 24,
     "metadata": {},
     "output_type": "execute_result"
    }
   ],
   "source": [
    "df.describe()"
   ]
  },
  {
   "cell_type": "code",
   "execution_count": 25,
   "id": "41be9a0c-bc47-4630-b788-b9a90e2b6d11",
   "metadata": {},
   "outputs": [
    {
     "data": {
      "text/plain": [
       "Index(['country_id', 'country', 'country_school_id', 'country_student_id',\n",
       "       'student_gender', 'computer_at_home', 'internet_at_home',\n",
       "       'immigration_status', 'early_education', 'repeated_grades',\n",
       "       'school_location', 'school_type', 'school_size', 'class_size',\n",
       "       'socioeconomic_index', 'math_score', 'reading_score',\n",
       "       'parent_education'],\n",
       "      dtype='object')"
      ]
     },
     "execution_count": 25,
     "metadata": {},
     "output_type": "execute_result"
    }
   ],
   "source": [
    "df.columns"
   ]
  },
  {
   "cell_type": "code",
   "execution_count": null,
   "id": "08c9d7b2-a5b1-4ec8-8421-6339ee53f09d",
   "metadata": {},
   "outputs": [],
   "source": []
  }
 ],
 "metadata": {
  "kernelspec": {
   "display_name": "Python 3 (ipykernel)",
   "language": "python",
   "name": "python3"
  },
  "language_info": {
   "codemirror_mode": {
    "name": "ipython",
    "version": 3
   },
   "file_extension": ".py",
   "mimetype": "text/x-python",
   "name": "python",
   "nbconvert_exporter": "python",
   "pygments_lexer": "ipython3",
   "version": "3.10.4"
  }
 },
 "nbformat": 4,
 "nbformat_minor": 5
}
