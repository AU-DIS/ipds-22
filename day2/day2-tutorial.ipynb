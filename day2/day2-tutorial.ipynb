{
 "cells": [
  {
   "cell_type": "markdown",
   "id": "choice-coast",
   "metadata": {},
   "source": [
    "#  Introduction to Python for Data Science - Exercises 8/9 #\n"
   ]
  },
  {
   "cell_type": "markdown",
   "id": "posted-oracle",
   "metadata": {},
   "source": [
    "The following are exercises for the Introduction to Python for Data Science course, module 2. Try to get through as many as you can, but do not despair if you cannot get through them all within the time frame."
   ]
  },
  {
   "cell_type": "markdown",
   "id": "tired-allowance",
   "metadata": {},
   "source": [
    "### Exercise 1 ###\n",
    "Make sure you have numpy, pandas and matplotlib installed. Import them in the below codebox to be used in the rest of the notebook"
   ]
  },
  {
   "cell_type": "code",
   "execution_count": 2,
   "id": "golden-definition",
   "metadata": {},
   "outputs": [],
   "source": [
    "import numpy as np\n",
    "import pandas as pd\n",
    "import matplotlib.pyplot as plt"
   ]
  },
  {
   "cell_type": "markdown",
   "id": "oriental-millennium",
   "metadata": {},
   "source": [
    "### Exercise 2: Random 2D Points ###\n",
    "Use Numpy to generate 20 random points in 2D, and plot them using matplotlib"
   ]
  },
  {
   "cell_type": "code",
   "execution_count": null,
   "id": "challenging-instrument",
   "metadata": {},
   "outputs": [],
   "source": []
  },
  {
   "cell_type": "markdown",
   "id": "becoming-flight",
   "metadata": {},
   "source": [
    "Use numpy to find the mean and standard deviation of the points"
   ]
  },
  {
   "cell_type": "code",
   "execution_count": null,
   "id": "hispanic-cargo",
   "metadata": {},
   "outputs": [],
   "source": []
  },
  {
   "cell_type": "markdown",
   "id": "limited-store",
   "metadata": {},
   "source": [
    "### Exercise 3: The Pokemon Dataset ###\n",
    "\n",
    "##### Task 1\n",
    "Use pandas to load the dataset Pokemon.csv. Output the first 10 rows of the dataset."
   ]
  },
  {
   "cell_type": "code",
   "execution_count": null,
   "id": "significant-soccer",
   "metadata": {},
   "outputs": [],
   "source": []
  },
  {
   "cell_type": "markdown",
   "id": "resistant-creator",
   "metadata": {},
   "source": [
    "###### Task 2\n",
    "\n",
    "Find all legendary pokemons in the data set"
   ]
  },
  {
   "cell_type": "code",
   "execution_count": null,
   "id": "illegal-printing",
   "metadata": {},
   "outputs": [],
   "source": []
  },
  {
   "cell_type": "markdown",
   "id": "hydraulic-athens",
   "metadata": {},
   "source": [
    "###### Task 3\n",
    "\n",
    "Find the minimum, maximum and average Speed"
   ]
  },
  {
   "cell_type": "code",
   "execution_count": null,
   "id": "crucial-genius",
   "metadata": {},
   "outputs": [],
   "source": []
  },
  {
   "cell_type": "markdown",
   "id": "center-elder",
   "metadata": {},
   "source": [
    "###### Task 4\n",
    "\n",
    "Compare the mean HP of the different primary types"
   ]
  },
  {
   "cell_type": "code",
   "execution_count": null,
   "id": "combined-limitation",
   "metadata": {},
   "outputs": [],
   "source": []
  },
  {
   "cell_type": "markdown",
   "id": "contrary-stack",
   "metadata": {},
   "source": [
    "###### Task 5\n",
    "\n",
    "Some Pokemons have no secondary type. We don't want NaN in our DataFrame so replace these instances with \"NA\" (Not Applicable)."
   ]
  },
  {
   "cell_type": "code",
   "execution_count": null,
   "id": "documentary-audience",
   "metadata": {},
   "outputs": [],
   "source": []
  },
  {
   "cell_type": "markdown",
   "id": "satellite-darkness",
   "metadata": {},
   "source": [
    "###### Task 6\n",
    "\n",
    "Make a bar plot of the number of pokemons in each generation"
   ]
  },
  {
   "cell_type": "code",
   "execution_count": null,
   "id": "affecting-daisy",
   "metadata": {},
   "outputs": [],
   "source": []
  },
  {
   "cell_type": "markdown",
   "id": "treated-hanging",
   "metadata": {},
   "source": [
    "### Exercise 4: Merging two DataFrames ###\n",
    "Below are two DataFrames of albums. Merge them into one DataFrame, that has two coloumns: \"name\" and \"year\"."
   ]
  },
  {
   "cell_type": "code",
   "execution_count": 3,
   "id": "still-stage",
   "metadata": {},
   "outputs": [],
   "source": [
    "floyd_albums = pd.DataFrame({\n",
    "    \"album\": [\"Atom Heart Mother\", \"The Dark Side of the Moon\", \"Wish You Were Here\", \"The Wall\"],\n",
    "    \"year\": [1970,1973,1975,1979]\n",
    "})\n",
    "\n",
    "crimson_albums = pd.DataFrame({\n",
    "    \"name\": [\"In The Court of the Crimson King\",\"Lizard\", \"Larks' Tongues in Aspic\", \"Red\", \"Discipline\"], \n",
    "    \"released\": [1969, 1970, 1973, 1974, 1981]\n",
    "})\n",
    "\n",
    "### YOUR CODE HERE ###"
   ]
  },
  {
   "cell_type": "markdown",
   "id": "impressed-beatles",
   "metadata": {},
   "source": [
    "Create a pie chart of the amount of albums released per year"
   ]
  },
  {
   "cell_type": "code",
   "execution_count": null,
   "id": "studied-vietnamese",
   "metadata": {},
   "outputs": [],
   "source": []
  },
  {
   "cell_type": "markdown",
   "id": "armed-median",
   "metadata": {},
   "source": [
    "### Exercise 5: Accessing Data via API ###\n",
    "We are going to be accessing data from different websites via their Application Programming Interfaces. We will be comparing the GDP per capita with life expecancy of different countries."
   ]
  },
  {
   "cell_type": "code",
   "execution_count": 12,
   "id": "administrative-talent",
   "metadata": {},
   "outputs": [
    {
     "name": "stdout",
     "output_type": "stream",
     "text": [
      "Collecting wbgapi\n",
      "  Downloading wbgapi-1.0.12-py3-none-any.whl (36 kB)\n",
      "Requirement already satisfied: requests in /Users/au611722/opt/miniconda3/envs/py22/lib/python3.10/site-packages (from wbgapi) (2.28.1)\n",
      "Collecting PyYAML\n",
      "  Downloading PyYAML-6.0-cp310-cp310-macosx_10_9_x86_64.whl (197 kB)\n",
      "\u001b[2K     \u001b[38;2;114;156;31m━━━━━━━━━━━━━━━━━━━━━━━━━━━━━━━━━━━━━━━\u001b[0m \u001b[32m197.6/197.6 kB\u001b[0m \u001b[31m2.8 MB/s\u001b[0m eta \u001b[36m0:00:00\u001b[0m MB/s\u001b[0m eta \u001b[36m0:00:01\u001b[0m\n",
      "\u001b[?25hCollecting tabulate\n",
      "  Downloading tabulate-0.8.10-py3-none-any.whl (29 kB)\n",
      "Requirement already satisfied: charset-normalizer<3,>=2 in /Users/au611722/opt/miniconda3/envs/py22/lib/python3.10/site-packages (from requests->wbgapi) (2.0.4)\n",
      "Requirement already satisfied: idna<4,>=2.5 in /Users/au611722/opt/miniconda3/envs/py22/lib/python3.10/site-packages (from requests->wbgapi) (3.3)\n",
      "Requirement already satisfied: urllib3<1.27,>=1.21.1 in /Users/au611722/opt/miniconda3/envs/py22/lib/python3.10/site-packages (from requests->wbgapi) (1.26.11)\n",
      "Requirement already satisfied: certifi>=2017.4.17 in /Users/au611722/opt/miniconda3/envs/py22/lib/python3.10/site-packages (from requests->wbgapi) (2022.6.15)\n",
      "Installing collected packages: tabulate, PyYAML, wbgapi\n",
      "Successfully installed PyYAML-6.0 tabulate-0.8.10 wbgapi-1.0.12\n"
     ]
    }
   ],
   "source": [
    "!pip install wbgapi"
   ]
  },
  {
   "cell_type": "code",
   "execution_count": 4,
   "id": "english-syndicate",
   "metadata": {},
   "outputs": [
    {
     "data": {
      "text/html": [
       "<div>\n",
       "<style scoped>\n",
       "    .dataframe tbody tr th:only-of-type {\n",
       "        vertical-align: middle;\n",
       "    }\n",
       "\n",
       "    .dataframe tbody tr th {\n",
       "        vertical-align: top;\n",
       "    }\n",
       "\n",
       "    .dataframe thead th {\n",
       "        text-align: right;\n",
       "    }\n",
       "</style>\n",
       "<table border=\"1\" class=\"dataframe\">\n",
       "  <thead>\n",
       "    <tr style=\"text-align: right;\">\n",
       "      <th></th>\n",
       "      <th>economy</th>\n",
       "      <th>YR2020</th>\n",
       "      <th>YR2021</th>\n",
       "    </tr>\n",
       "  </thead>\n",
       "  <tbody>\n",
       "    <tr>\n",
       "      <th>0</th>\n",
       "      <td>ABW</td>\n",
       "      <td>23384.298791</td>\n",
       "      <td>NaN</td>\n",
       "    </tr>\n",
       "    <tr>\n",
       "      <th>1</th>\n",
       "      <td>AFE</td>\n",
       "      <td>1360.878645</td>\n",
       "      <td>1557.722682</td>\n",
       "    </tr>\n",
       "    <tr>\n",
       "      <th>2</th>\n",
       "      <td>AFG</td>\n",
       "      <td>516.747871</td>\n",
       "      <td>NaN</td>\n",
       "    </tr>\n",
       "    <tr>\n",
       "      <th>3</th>\n",
       "      <td>AFW</td>\n",
       "      <td>1709.764129</td>\n",
       "      <td>1774.921218</td>\n",
       "    </tr>\n",
       "    <tr>\n",
       "      <th>4</th>\n",
       "      <td>AGO</td>\n",
       "      <td>1631.431691</td>\n",
       "      <td>2137.909393</td>\n",
       "    </tr>\n",
       "  </tbody>\n",
       "</table>\n",
       "</div>"
      ],
      "text/plain": [
       "  economy        YR2020       YR2021\n",
       "0     ABW  23384.298791          NaN\n",
       "1     AFE   1360.878645  1557.722682\n",
       "2     AFG    516.747871          NaN\n",
       "3     AFW   1709.764129  1774.921218\n",
       "4     AGO   1631.431691  2137.909393"
      ]
     },
     "execution_count": 4,
     "metadata": {},
     "output_type": "execute_result"
    }
   ],
   "source": [
    "import wbgapi as wbg\n",
    "import json\n",
    "import requests\n",
    "\n",
    "#Import the GDP dataset from the World Bank's World Development Indicators API\n",
    "gdp_pc = wbg.data.DataFrame(series=['NY.GDP.PCAP.CD'], mrv=2).reset_index()\n",
    "\n",
    "#Let's look at the data. Notice countries are denoted by country codes\n",
    "gdp_pc.head()"
   ]
  },
  {
   "cell_type": "markdown",
   "id": "historical-strap",
   "metadata": {},
   "source": [
    "##### Task 1\n",
    "Rename the two GDP PC coloumns to \"gdp_pc_2018\" and \"gdp_pc_2019\""
   ]
  },
  {
   "cell_type": "code",
   "execution_count": null,
   "id": "laden-cattle",
   "metadata": {},
   "outputs": [],
   "source": []
  },
  {
   "cell_type": "markdown",
   "id": "executive-quick",
   "metadata": {},
   "source": [
    "##### Task 2\n",
    "We only have country codes so far, but would like the dataframe to include country names too. Below we import the dataset of country codes. Keep only the coloumns \"id\", \"iso2Code\", \"name\", \"capitalCity\",\"longitude\", \"latitude\", and merge the two dataframes. Consider which coloumns may have to be renamed in order to do so."
   ]
  },
  {
   "cell_type": "code",
   "execution_count": 5,
   "id": "facial-mounting",
   "metadata": {},
   "outputs": [
    {
     "data": {
      "text/html": [
       "<div>\n",
       "<style scoped>\n",
       "    .dataframe tbody tr th:only-of-type {\n",
       "        vertical-align: middle;\n",
       "    }\n",
       "\n",
       "    .dataframe tbody tr th {\n",
       "        vertical-align: top;\n",
       "    }\n",
       "\n",
       "    .dataframe thead th {\n",
       "        text-align: right;\n",
       "    }\n",
       "</style>\n",
       "<table border=\"1\" class=\"dataframe\">\n",
       "  <thead>\n",
       "    <tr style=\"text-align: right;\">\n",
       "      <th></th>\n",
       "      <th>id</th>\n",
       "      <th>iso2Code</th>\n",
       "      <th>name</th>\n",
       "      <th>region</th>\n",
       "      <th>adminregion</th>\n",
       "      <th>incomeLevel</th>\n",
       "      <th>lendingType</th>\n",
       "      <th>capitalCity</th>\n",
       "      <th>longitude</th>\n",
       "      <th>latitude</th>\n",
       "    </tr>\n",
       "  </thead>\n",
       "  <tbody>\n",
       "    <tr>\n",
       "      <th>0</th>\n",
       "      <td>ABW</td>\n",
       "      <td>AW</td>\n",
       "      <td>Aruba</td>\n",
       "      <td>{'id': 'LCN', 'iso2code': 'ZJ', 'value': 'Lati...</td>\n",
       "      <td>{'id': '', 'iso2code': '', 'value': ''}</td>\n",
       "      <td>{'id': 'HIC', 'iso2code': 'XD', 'value': 'High...</td>\n",
       "      <td>{'id': 'LNX', 'iso2code': 'XX', 'value': 'Not ...</td>\n",
       "      <td>Oranjestad</td>\n",
       "      <td>-70.0167</td>\n",
       "      <td>12.5167</td>\n",
       "    </tr>\n",
       "    <tr>\n",
       "      <th>1</th>\n",
       "      <td>AFE</td>\n",
       "      <td>ZH</td>\n",
       "      <td>Africa Eastern and Southern</td>\n",
       "      <td>{'id': 'NA', 'iso2code': 'NA', 'value': 'Aggre...</td>\n",
       "      <td>{'id': '', 'iso2code': '', 'value': ''}</td>\n",
       "      <td>{'id': 'NA', 'iso2code': 'NA', 'value': 'Aggre...</td>\n",
       "      <td>{'id': '', 'iso2code': '', 'value': 'Aggregates'}</td>\n",
       "      <td></td>\n",
       "      <td></td>\n",
       "      <td></td>\n",
       "    </tr>\n",
       "    <tr>\n",
       "      <th>2</th>\n",
       "      <td>AFG</td>\n",
       "      <td>AF</td>\n",
       "      <td>Afghanistan</td>\n",
       "      <td>{'id': 'SAS', 'iso2code': '8S', 'value': 'Sout...</td>\n",
       "      <td>{'id': 'SAS', 'iso2code': '8S', 'value': 'Sout...</td>\n",
       "      <td>{'id': 'LIC', 'iso2code': 'XM', 'value': 'Low ...</td>\n",
       "      <td>{'id': 'IDX', 'iso2code': 'XI', 'value': 'IDA'}</td>\n",
       "      <td>Kabul</td>\n",
       "      <td>69.1761</td>\n",
       "      <td>34.5228</td>\n",
       "    </tr>\n",
       "    <tr>\n",
       "      <th>3</th>\n",
       "      <td>AFR</td>\n",
       "      <td>A9</td>\n",
       "      <td>Africa</td>\n",
       "      <td>{'id': 'NA', 'iso2code': 'NA', 'value': 'Aggre...</td>\n",
       "      <td>{'id': '', 'iso2code': '', 'value': ''}</td>\n",
       "      <td>{'id': 'NA', 'iso2code': 'NA', 'value': 'Aggre...</td>\n",
       "      <td>{'id': '', 'iso2code': '', 'value': 'Aggregates'}</td>\n",
       "      <td></td>\n",
       "      <td></td>\n",
       "      <td></td>\n",
       "    </tr>\n",
       "    <tr>\n",
       "      <th>4</th>\n",
       "      <td>AFW</td>\n",
       "      <td>ZI</td>\n",
       "      <td>Africa Western and Central</td>\n",
       "      <td>{'id': 'NA', 'iso2code': 'NA', 'value': 'Aggre...</td>\n",
       "      <td>{'id': '', 'iso2code': '', 'value': ''}</td>\n",
       "      <td>{'id': 'NA', 'iso2code': 'NA', 'value': 'Aggre...</td>\n",
       "      <td>{'id': '', 'iso2code': '', 'value': 'Aggregates'}</td>\n",
       "      <td></td>\n",
       "      <td></td>\n",
       "      <td></td>\n",
       "    </tr>\n",
       "  </tbody>\n",
       "</table>\n",
       "</div>"
      ],
      "text/plain": [
       "    id iso2Code                         name  \\\n",
       "0  ABW       AW                        Aruba   \n",
       "1  AFE       ZH  Africa Eastern and Southern   \n",
       "2  AFG       AF                  Afghanistan   \n",
       "3  AFR       A9                       Africa   \n",
       "4  AFW       ZI   Africa Western and Central   \n",
       "\n",
       "                                              region  \\\n",
       "0  {'id': 'LCN', 'iso2code': 'ZJ', 'value': 'Lati...   \n",
       "1  {'id': 'NA', 'iso2code': 'NA', 'value': 'Aggre...   \n",
       "2  {'id': 'SAS', 'iso2code': '8S', 'value': 'Sout...   \n",
       "3  {'id': 'NA', 'iso2code': 'NA', 'value': 'Aggre...   \n",
       "4  {'id': 'NA', 'iso2code': 'NA', 'value': 'Aggre...   \n",
       "\n",
       "                                         adminregion  \\\n",
       "0            {'id': '', 'iso2code': '', 'value': ''}   \n",
       "1            {'id': '', 'iso2code': '', 'value': ''}   \n",
       "2  {'id': 'SAS', 'iso2code': '8S', 'value': 'Sout...   \n",
       "3            {'id': '', 'iso2code': '', 'value': ''}   \n",
       "4            {'id': '', 'iso2code': '', 'value': ''}   \n",
       "\n",
       "                                         incomeLevel  \\\n",
       "0  {'id': 'HIC', 'iso2code': 'XD', 'value': 'High...   \n",
       "1  {'id': 'NA', 'iso2code': 'NA', 'value': 'Aggre...   \n",
       "2  {'id': 'LIC', 'iso2code': 'XM', 'value': 'Low ...   \n",
       "3  {'id': 'NA', 'iso2code': 'NA', 'value': 'Aggre...   \n",
       "4  {'id': 'NA', 'iso2code': 'NA', 'value': 'Aggre...   \n",
       "\n",
       "                                         lendingType capitalCity longitude  \\\n",
       "0  {'id': 'LNX', 'iso2code': 'XX', 'value': 'Not ...  Oranjestad  -70.0167   \n",
       "1  {'id': '', 'iso2code': '', 'value': 'Aggregates'}                         \n",
       "2    {'id': 'IDX', 'iso2code': 'XI', 'value': 'IDA'}       Kabul   69.1761   \n",
       "3  {'id': '', 'iso2code': '', 'value': 'Aggregates'}                         \n",
       "4  {'id': '', 'iso2code': '', 'value': 'Aggregates'}                         \n",
       "\n",
       "  latitude  \n",
       "0  12.5167  \n",
       "1           \n",
       "2  34.5228  \n",
       "3           \n",
       "4           "
      ]
     },
     "execution_count": 5,
     "metadata": {},
     "output_type": "execute_result"
    }
   ],
   "source": [
    "codes = requests.get(\"http://api.worldbank.org/v2/country/?per_page=300\", params ={\"format\":\"json\"})\n",
    "codes = pd.DataFrame(json.loads(codes.text)[1])\n",
    "codes.head()"
   ]
  },
  {
   "cell_type": "code",
   "execution_count": 6,
   "id": "copyrighted-empire",
   "metadata": {},
   "outputs": [],
   "source": [
    "### YOUR CODE HERE ###"
   ]
  },
  {
   "cell_type": "markdown",
   "id": "chicken-party",
   "metadata": {},
   "source": [
    "###### Task 3\n",
    "Import the World Bank's (female) life expectancy dataset with the WBG API (use series SP.DYN.LE00.FE.IN). \n",
    "\n",
    "Rename the coloumns to \"id\", \"life_exp_2019\" and \"life_exp_2020\", and merge the dataframe with the achieved data frame from Task 2."
   ]
  },
  {
   "cell_type": "code",
   "execution_count": 7,
   "id": "considered-reynolds",
   "metadata": {},
   "outputs": [
    {
     "data": {
      "text/html": [
       "<div>\n",
       "<style scoped>\n",
       "    .dataframe tbody tr th:only-of-type {\n",
       "        vertical-align: middle;\n",
       "    }\n",
       "\n",
       "    .dataframe tbody tr th {\n",
       "        vertical-align: top;\n",
       "    }\n",
       "\n",
       "    .dataframe thead th {\n",
       "        text-align: right;\n",
       "    }\n",
       "</style>\n",
       "<table border=\"1\" class=\"dataframe\">\n",
       "  <thead>\n",
       "    <tr style=\"text-align: right;\">\n",
       "      <th></th>\n",
       "      <th>economy</th>\n",
       "      <th>YR2019</th>\n",
       "      <th>YR2020</th>\n",
       "    </tr>\n",
       "  </thead>\n",
       "  <tbody>\n",
       "    <tr>\n",
       "      <th>0</th>\n",
       "      <td>ABW</td>\n",
       "      <td>78.641000</td>\n",
       "      <td>78.774000</td>\n",
       "    </tr>\n",
       "    <tr>\n",
       "      <th>1</th>\n",
       "      <td>AFE</td>\n",
       "      <td>66.202116</td>\n",
       "      <td>66.534628</td>\n",
       "    </tr>\n",
       "    <tr>\n",
       "      <th>2</th>\n",
       "      <td>AFG</td>\n",
       "      <td>66.388000</td>\n",
       "      <td>66.744000</td>\n",
       "    </tr>\n",
       "    <tr>\n",
       "      <th>3</th>\n",
       "      <td>AFW</td>\n",
       "      <td>59.231072</td>\n",
       "      <td>59.579346</td>\n",
       "    </tr>\n",
       "    <tr>\n",
       "      <th>4</th>\n",
       "      <td>AGO</td>\n",
       "      <td>64.039000</td>\n",
       "      <td>64.383000</td>\n",
       "    </tr>\n",
       "  </tbody>\n",
       "</table>\n",
       "</div>"
      ],
      "text/plain": [
       "  economy     YR2019     YR2020\n",
       "0     ABW  78.641000  78.774000\n",
       "1     AFE  66.202116  66.534628\n",
       "2     AFG  66.388000  66.744000\n",
       "3     AFW  59.231072  59.579346\n",
       "4     AGO  64.039000  64.383000"
      ]
     },
     "execution_count": 7,
     "metadata": {},
     "output_type": "execute_result"
    }
   ],
   "source": [
    "life_exp = wbg.data.DataFrame(series=['SP.DYN.LE00.FE.IN'], mrv=2).reset_index()\n",
    "life_exp.head()"
   ]
  },
  {
   "cell_type": "code",
   "execution_count": 8,
   "id": "referenced-boards",
   "metadata": {},
   "outputs": [],
   "source": [
    "### YOUR CODE HERE ###"
   ]
  },
  {
   "cell_type": "markdown",
   "id": "latin-yorkshire",
   "metadata": {},
   "source": [
    "##### Task 4\n",
    "Calculate the correlation between gdp_pc_2020 and life_exp_2020. Try to visualise the results."
   ]
  },
  {
   "cell_type": "code",
   "execution_count": null,
   "id": "pleased-heath",
   "metadata": {},
   "outputs": [],
   "source": []
  },
  {
   "cell_type": "markdown",
   "id": "confident-region",
   "metadata": {},
   "source": [
    "### Exercise 6: Fun with Linear Algebra\n",
    "\n",
    "###### This exercise might be difficult if you are rusty on your linear algebra\n",
    "In this exercise, we will see how numpy can be used as a linear algebra calculator, which is very important in a lot of data science.\n",
    "\n",
    "###### Task 1\n",
    "Create a $2 \\times 5$ numpy array of the following matrix: \n",
    "\n",
    "$$ X = \\begin{pmatrix} 0 & 3 & 4 & 4 & 4 & 5 \\\\ 0 & 4 & 4 & 3 & 4 & 5 \\end{pmatrix} $$\n",
    "Use plt.scatter to create a scatter point in 2D of the points."
   ]
  },
  {
   "cell_type": "code",
   "execution_count": null,
   "id": "front-survival",
   "metadata": {},
   "outputs": [],
   "source": []
  },
  {
   "cell_type": "markdown",
   "id": "civic-conversation",
   "metadata": {},
   "source": [
    "##### Task 2\n",
    "Use numpy to compute the (thin) Singular Value Decomposition $U, \\Sigma, V^T$ of the data matrix $X$, "
   ]
  },
  {
   "cell_type": "code",
   "execution_count": null,
   "id": "round-virginia",
   "metadata": {},
   "outputs": [],
   "source": []
  },
  {
   "cell_type": "markdown",
   "id": "trained-encoding",
   "metadata": {},
   "source": [
    "##### Task 3\n",
    "What happens when you scatter-plot $ U X$?"
   ]
  },
  {
   "cell_type": "code",
   "execution_count": null,
   "id": "separated-threat",
   "metadata": {},
   "outputs": [],
   "source": []
  },
  {
   "cell_type": "markdown",
   "id": "annoying-vegetable",
   "metadata": {},
   "source": [
    "###### Task 4\n",
    "\n",
    "Compute the determinant of $X^T X$ to conclude if $X^T X$ is invertible"
   ]
  },
  {
   "cell_type": "code",
   "execution_count": null,
   "id": "flexible-motor",
   "metadata": {},
   "outputs": [],
   "source": []
  },
  {
   "cell_type": "markdown",
   "id": "tropical-township",
   "metadata": {},
   "source": [
    "##### Task 5\n",
    "The code below calculates an outer product that, when plottet, resembles the Danish flag. Find two vectors which outer product resembles the Austrian flag"
   ]
  },
  {
   "cell_type": "code",
   "execution_count": 9,
   "id": "mature-jumping",
   "metadata": {},
   "outputs": [
    {
     "data": {
      "text/plain": [
       "<matplotlib.image.AxesImage at 0x7f4cd9d24910>"
      ]
     },
     "execution_count": 9,
     "metadata": {},
     "output_type": "execute_result"
    },
    {
     "data": {
      "image/png": "[encoded data removed]",
      "text/plain": [
       "<Figure size 345.6x288 with 1 Axes>"
      ]
     },
     "metadata": {
      "needs_background": "light"
     },
     "output_type": "display_data"
    }
   ],
   "source": [
    "v = np.array([1.0, 1.0, 0.0, 1.0, 1.0])\n",
    "w = np.array([1.0, 1.0, 0.0, 1.0, 1.0, 1.0])\n",
    "plt.matshow(np.outer(v, w), cmap='Reds', clim=(0, 1.5))"
   ]
  },
  {
   "cell_type": "code",
   "execution_count": 10,
   "id": "referenced-israeli",
   "metadata": {},
   "outputs": [],
   "source": [
    "### YOUR CODE HERE ###"
   ]
  }
 ],
 "metadata": {
  "kernelspec": {
   "display_name": "Python 3",
   "language": "python",
   "name": "python3"
  },
  "language_info": {
   "codemirror_mode": {
    "name": "ipython",
    "version": 3
   },
   "file_extension": ".py",
   "mimetype": "text/x-python",
   "name": "python",
   "nbconvert_exporter": "python",
   "pygments_lexer": "ipython3",
   "version": "3.8.10"
  }
 },
 "nbformat": 4,
 "nbformat_minor": 5
}
