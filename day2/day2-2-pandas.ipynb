{
 "cells": [
  {
   "cell_type": "markdown",
   "id": "c5796aa9-dd3b-4c46-a02e-c91ddbb398eb",
   "metadata": {},
   "source": [
    "# Introduction to Python for Data Science - Day 2\n",
    "\n",
    "Welcome to the second day of the course. These notebooks will guide through the two days of the course. \n",
    "They are designed for you to repreduce and play, so feel free to modify the content. \n",
    "\n",
    "In particular, the course is split into \"theory\" and \"lab\" sessions. \n",
    "- The theory sessions are in the morning and show hands-on how the main concept works\n",
    "- The lab session are afternoon exercises designed to understand and try the concepts learn in the morning. \n",
    "\n",
    "In this second day, we will look at the main libraries for data analysis, numpy, pandas, and matplotlib. \n",
    "Please make sure that the concepts of the first day are well understood and crystalized, as they will be instrumental for the understanding of today's lecture. \n",
    "\n",
    "Please create an account in Google to access colab or, if you want, use Jupyter notebook in your laptop. \n",
    "\n",
    "**Acknowledgments**\n",
    "\n",
    "The material in this day is adapted from \n",
    "1. Chapters 4, 5, 6 in the book \n",
    "> [Python for Data Analysis, 3rd Edition](https://wesmckinney.com/book/) by Wes McKinney, published by O'Reilly Media.\n",
    "The original jupyter notebooks can be found at the [book's Github repository](https://github.com/wesm/pydata-book/tree/3rd-edition).\n",
    "  \n",
    "2. Additional material has been adapted from [Python for Data Science course](https://github.com/worldbank/Python-for-Data-Science/) developed by Nick Jones, Dharana Rijal, Charles Fox and Gaurav Bhardwaj.\n"
   ]
  },
  {
   "cell_type": "markdown",
   "id": "ebdced96-6b49-479f-8ee2-f3fc393a2e43",
   "metadata": {
    "tags": []
   },
   "source": [
    "## Pandas \n",
    "Pandas, a library written by Wes McKinney, is a great tool for data manipulation and analysis. It provides two classes:\n",
    "* a Series object, which handles a single column of data;\n",
    "* a DataFrame object, which handles multiple columns (like an Excel spreadsheet).\n",
    "\n",
    "You can build your own DataFrames or read in from other sources like CSVs or JSON. Pandas handles missing data beautifully; lets you sort, operate on and and merge datasets; provides plotting capabilities; and handles time series data (among other advantages)."
   ]
  },
  {
   "cell_type": "code",
   "execution_count": 1,
   "id": "bf782876-e9a0-4c6c-ab40-a04f167e22ec",
   "metadata": {},
   "outputs": [],
   "source": [
    "# Let's start by importing the libraries\n",
    "\n",
    "import numpy as np\n",
    "import pandas as pd"
   ]
  },
  {
   "cell_type": "markdown",
   "id": "ea13c4ef-5549-4aeb-b9ba-cbb4e39547c5",
   "metadata": {},
   "source": [
    "### Creating Series and DataFrames"
   ]
  },
  {
   "cell_type": "markdown",
   "id": "4ca6fa0b-c6fa-4c5f-bc97-526e29f45e23",
   "metadata": {},
   "source": [
    "Series and DataFrames are the basic objects. Sometimes it is useful to import them directly using\n",
    "\n",
    "```python\n",
    "from pandas import Series, DataFrame\n",
    "```"
   ]
  },
  {
   "cell_type": "code",
   "execution_count": 2,
   "id": "e8e0c26d-75e0-428e-af25-b2e2e0d8525c",
   "metadata": {},
   "outputs": [
    {
     "data": {
      "text/plain": [
       "0        Cardiff\n",
       "1        Swansea\n",
       "2    Abergavenny\n",
       "3    Machynlleth\n",
       "dtype: object"
      ]
     },
     "execution_count": 2,
     "metadata": {},
     "output_type": "execute_result"
    }
   ],
   "source": [
    "# Create a series by passing a list\n",
    "towns = pd.Series(['Cardiff', 'Swansea', 'Abergavenny','Machynlleth'])\n",
    "towns"
   ]
  },
  {
   "cell_type": "markdown",
   "id": "a2057c7f-b5cb-4b8a-a022-1e4435fd1eca",
   "metadata": {},
   "source": [
    "Series are indexed objects, that means that each position in a series is accessible through an identifier. If, like in this case we specify no identifiers, the Series will associate a progressive number to each item. "
   ]
  },
  {
   "cell_type": "code",
   "execution_count": 3,
   "id": "7dcb8452-78ab-4354-9268-821bbeb4419e",
   "metadata": {},
   "outputs": [
    {
     "data": {
      "text/plain": [
       "<PandasArray>\n",
       "['Cardiff', 'Swansea', 'Abergavenny', 'Machynlleth']\n",
       "Length: 4, dtype: object"
      ]
     },
     "execution_count": 3,
     "metadata": {},
     "output_type": "execute_result"
    }
   ],
   "source": [
    "towns.array"
   ]
  },
  {
   "cell_type": "code",
   "execution_count": 4,
   "id": "bc232c05-11ac-4810-b9fa-315dc1bc0890",
   "metadata": {},
   "outputs": [
    {
     "data": {
      "text/plain": [
       "RangeIndex(start=0, stop=4, step=1)"
      ]
     },
     "execution_count": 4,
     "metadata": {},
     "output_type": "execute_result"
    }
   ],
   "source": [
    "towns.index"
   ]
  },
  {
   "cell_type": "code",
   "execution_count": 5,
   "id": "d616235d-48f6-43dd-9038-3efd51765ba5",
   "metadata": {},
   "outputs": [
    {
     "data": {
      "text/plain": [
       "Index(['C', 'S', 'A', 'M'], dtype='object', name='Initials')"
      ]
     },
     "execution_count": 5,
     "metadata": {},
     "output_type": "execute_result"
    }
   ],
   "source": [
    "# you can specify an index\n",
    "towns = pd.Series(['Cardiff', 'Swansea', 'Abergavenny','Machynlleth'], index=['C', 'S', 'A' ,'M'])\n",
    "\n",
    "# or alternatively \n",
    "# towns = pd.Series({'C':'Cardiff', 'S':'Swansea', 'A': 'Abergavenny','M': 'Machynlleth'})\n",
    "\n",
    "# Setting the index name\n",
    "towns.index.name = \"Initials\"\n",
    "\n",
    "# Print the index\n",
    "towns.index"
   ]
  },
  {
   "cell_type": "code",
   "execution_count": 6,
   "id": "3ad358c6-2db4-42a8-a5dd-f68161472983",
   "metadata": {},
   "outputs": [
    {
     "data": {
      "text/plain": [
       "{'C': 'Cardiff', 'S': 'Swansea', 'A': 'Abergavenny', 'M': 'Machynlleth'}"
      ]
     },
     "execution_count": 6,
     "metadata": {},
     "output_type": "execute_result"
    }
   ],
   "source": [
    "# Back to dictionary\n",
    "towns.to_dict()"
   ]
  },
  {
   "cell_type": "markdown",
   "id": "c0ef82ec-ea1f-44f6-ab28-149a271d5222",
   "metadata": {},
   "source": [
    "Access each element using the index"
   ]
  },
  {
   "cell_type": "code",
   "execution_count": 7,
   "id": "7321c124-0e15-475d-b6ce-153b6d1c8c7c",
   "metadata": {},
   "outputs": [
    {
     "data": {
      "text/plain": [
       "'Abergavenny'"
      ]
     },
     "execution_count": 7,
     "metadata": {},
     "output_type": "execute_result"
    }
   ],
   "source": [
    "towns['A']"
   ]
  },
  {
   "cell_type": "markdown",
   "id": "02bdd603-a7cd-4f4b-b4de-80d1fad80421",
   "metadata": {},
   "source": [
    "#### Simple operations\n",
    "\n",
    "Pandas supports a number of simple operations, such as summation, division, not-a-number (NA) check"
   ]
  },
  {
   "cell_type": "code",
   "execution_count": 8,
   "id": "b1892e7e-5b70-46eb-af96-1a5dea84eec1",
   "metadata": {},
   "outputs": [
    {
     "data": {
      "text/plain": [
       "Initials\n",
       "C    True\n",
       "S    True\n",
       "A    True\n",
       "M    True\n",
       "dtype: bool"
      ]
     },
     "execution_count": 8,
     "metadata": {},
     "output_type": "execute_result"
    }
   ],
   "source": [
    "pd.isna(towns)\n",
    "pd.notna(towns)"
   ]
  },
  {
   "cell_type": "markdown",
   "id": "d0b27d29-2208-4fd1-85fc-5a65587ea0d6",
   "metadata": {
    "tags": []
   },
   "source": [
    "### Data Frames\n",
    "\n",
    "While series are the basic Pandas bricks, data Frames are the containers for datasets that will allow for more complex data analyses. A DataFrame is a table with rows, representing single data points, and columns representing attributes or features. A DataFrame has both column and row indexes, making easier to search for specific values. "
   ]
  },
  {
   "cell_type": "code",
   "execution_count": 9,
   "id": "16e1d06e-3b0a-4dfd-aeb0-1968995cbd10",
   "metadata": {
    "tags": []
   },
   "outputs": [],
   "source": [
    "populations = [335145, 230300, 12515, 2235]\n",
    "number_of_pubs = [2100, 1680, 198, 48]"
   ]
  },
  {
   "cell_type": "code",
   "execution_count": 10,
   "id": "954b84ed-1a6f-41f3-89f2-a4a66c4663fb",
   "metadata": {
    "tags": []
   },
   "outputs": [],
   "source": [
    "# Create an empty DataFrame, and add new columns to it\n",
    "\n",
    "towns_df = pd.DataFrame()\n",
    "towns_df['name'] = towns\n",
    "towns_df['population'] = populations"
   ]
  },
  {
   "cell_type": "code",
   "execution_count": 11,
   "id": "d3b83cd2-fc28-46bd-8076-b810501bf50d",
   "metadata": {},
   "outputs": [
    {
     "data": {
      "text/plain": [
       "name          object\n",
       "population     int64\n",
       "dtype: object"
      ]
     },
     "execution_count": 11,
     "metadata": {},
     "output_type": "execute_result"
    }
   ],
   "source": [
    "# The columns have different dtypes\n",
    "\n",
    "towns_df.dtypes"
   ]
  },
  {
   "cell_type": "code",
   "execution_count": 12,
   "id": "c500f2df-a6d1-4de3-a433-b35cea20bc4c",
   "metadata": {},
   "outputs": [
    {
     "ename": "AttributeError",
     "evalue": "'DataFrame' object has no attribute 'array'",
     "output_type": "error",
     "traceback": [
      "\u001b[0;31m---------------------------------------------------------------------------\u001b[0m",
      "\u001b[0;31mAttributeError\u001b[0m                            Traceback (most recent call last)",
      "Input \u001b[0;32mIn [12]\u001b[0m, in \u001b[0;36m<cell line: 1>\u001b[0;34m()\u001b[0m\n\u001b[0;32m----> 1\u001b[0m \u001b[43mtowns_df\u001b[49m\u001b[38;5;241;43m.\u001b[39;49m\u001b[43marray\u001b[49m\n",
      "File \u001b[0;32m~/opt/miniconda3/envs/py22/lib/python3.10/site-packages/pandas/core/generic.py:5575\u001b[0m, in \u001b[0;36mNDFrame.__getattr__\u001b[0;34m(self, name)\u001b[0m\n\u001b[1;32m   5568\u001b[0m \u001b[38;5;28;01mif\u001b[39;00m (\n\u001b[1;32m   5569\u001b[0m     name \u001b[38;5;129;01mnot\u001b[39;00m \u001b[38;5;129;01min\u001b[39;00m \u001b[38;5;28mself\u001b[39m\u001b[38;5;241m.\u001b[39m_internal_names_set\n\u001b[1;32m   5570\u001b[0m     \u001b[38;5;129;01mand\u001b[39;00m name \u001b[38;5;129;01mnot\u001b[39;00m \u001b[38;5;129;01min\u001b[39;00m \u001b[38;5;28mself\u001b[39m\u001b[38;5;241m.\u001b[39m_metadata\n\u001b[1;32m   5571\u001b[0m     \u001b[38;5;129;01mand\u001b[39;00m name \u001b[38;5;129;01mnot\u001b[39;00m \u001b[38;5;129;01min\u001b[39;00m \u001b[38;5;28mself\u001b[39m\u001b[38;5;241m.\u001b[39m_accessors\n\u001b[1;32m   5572\u001b[0m     \u001b[38;5;129;01mand\u001b[39;00m \u001b[38;5;28mself\u001b[39m\u001b[38;5;241m.\u001b[39m_info_axis\u001b[38;5;241m.\u001b[39m_can_hold_identifiers_and_holds_name(name)\n\u001b[1;32m   5573\u001b[0m ):\n\u001b[1;32m   5574\u001b[0m     \u001b[38;5;28;01mreturn\u001b[39;00m \u001b[38;5;28mself\u001b[39m[name]\n\u001b[0;32m-> 5575\u001b[0m \u001b[38;5;28;01mreturn\u001b[39;00m \u001b[38;5;28;43mobject\u001b[39;49m\u001b[38;5;241;43m.\u001b[39;49m\u001b[38;5;21;43m__getattribute__\u001b[39;49m\u001b[43m(\u001b[49m\u001b[38;5;28;43mself\u001b[39;49m\u001b[43m,\u001b[49m\u001b[43m \u001b[49m\u001b[43mname\u001b[49m\u001b[43m)\u001b[49m\n",
      "\u001b[0;31mAttributeError\u001b[0m: 'DataFrame' object has no attribute 'array'"
     ]
    }
   ],
   "source": [
    "towns_df.array"
   ]
  },
  {
   "cell_type": "markdown",
   "id": "73a1f592-8f51-4467-a4ae-bf1575a84dca",
   "metadata": {},
   "source": [
    "We can create dataframes from dictionaries directly."
   ]
  },
  {
   "cell_type": "code",
   "execution_count": 13,
   "id": "dbe546f4-1b19-4ae8-b94e-08e858393cda",
   "metadata": {},
   "outputs": [
    {
     "data": {
      "text/html": [
       "<div>\n",
       "<style scoped>\n",
       "    .dataframe tbody tr th:only-of-type {\n",
       "        vertical-align: middle;\n",
       "    }\n",
       "\n",
       "    .dataframe tbody tr th {\n",
       "        vertical-align: top;\n",
       "    }\n",
       "\n",
       "    .dataframe thead th {\n",
       "        text-align: right;\n",
       "    }\n",
       "</style>\n",
       "<table border=\"1\" class=\"dataframe\">\n",
       "  <thead>\n",
       "    <tr style=\"text-align: right;\">\n",
       "      <th></th>\n",
       "      <th>name</th>\n",
       "      <th>population</th>\n",
       "      <th>n_pubs</th>\n",
       "    </tr>\n",
       "    <tr>\n",
       "      <th>Initials</th>\n",
       "      <th></th>\n",
       "      <th></th>\n",
       "      <th></th>\n",
       "    </tr>\n",
       "  </thead>\n",
       "  <tbody>\n",
       "    <tr>\n",
       "      <th>C</th>\n",
       "      <td>Cardiff</td>\n",
       "      <td>335145</td>\n",
       "      <td>2100</td>\n",
       "    </tr>\n",
       "    <tr>\n",
       "      <th>S</th>\n",
       "      <td>Swansea</td>\n",
       "      <td>230300</td>\n",
       "      <td>1680</td>\n",
       "    </tr>\n",
       "    <tr>\n",
       "      <th>A</th>\n",
       "      <td>Abergavenny</td>\n",
       "      <td>12515</td>\n",
       "      <td>198</td>\n",
       "    </tr>\n",
       "    <tr>\n",
       "      <th>M</th>\n",
       "      <td>Machynlleth</td>\n",
       "      <td>2235</td>\n",
       "      <td>48</td>\n",
       "    </tr>\n",
       "  </tbody>\n",
       "</table>\n",
       "</div>"
      ],
      "text/plain": [
       "                 name  population  n_pubs\n",
       "Initials                                 \n",
       "C             Cardiff      335145    2100\n",
       "S             Swansea      230300    1680\n",
       "A         Abergavenny       12515     198\n",
       "M         Machynlleth        2235      48"
      ]
     },
     "execution_count": 13,
     "metadata": {},
     "output_type": "execute_result"
    }
   ],
   "source": [
    "# Create a DataFrame using dictionaries to specify column name and data\n",
    "\n",
    "towns_df = pd.DataFrame({'name': towns,\n",
    "                         'population': populations,\n",
    "                         'n_pubs': number_of_pubs})\n",
    "\n",
    "towns_df"
   ]
  },
  {
   "cell_type": "markdown",
   "id": "de9d0039-159d-4810-998a-55e2c601f5d7",
   "metadata": {
    "tags": []
   },
   "source": [
    "#### View and select data\n",
    "\n",
    "Pandas offers a number of functions to view the data."
   ]
  },
  {
   "cell_type": "code",
   "execution_count": 14,
   "id": "26b1d918-0cee-4435-b0c3-966c09563f3c",
   "metadata": {},
   "outputs": [
    {
     "data": {
      "text/html": [
       "<div>\n",
       "<style scoped>\n",
       "    .dataframe tbody tr th:only-of-type {\n",
       "        vertical-align: middle;\n",
       "    }\n",
       "\n",
       "    .dataframe tbody tr th {\n",
       "        vertical-align: top;\n",
       "    }\n",
       "\n",
       "    .dataframe thead th {\n",
       "        text-align: right;\n",
       "    }\n",
       "</style>\n",
       "<table border=\"1\" class=\"dataframe\">\n",
       "  <thead>\n",
       "    <tr style=\"text-align: right;\">\n",
       "      <th></th>\n",
       "      <th>name</th>\n",
       "      <th>population</th>\n",
       "      <th>n_pubs</th>\n",
       "    </tr>\n",
       "    <tr>\n",
       "      <th>Initials</th>\n",
       "      <th></th>\n",
       "      <th></th>\n",
       "      <th></th>\n",
       "    </tr>\n",
       "  </thead>\n",
       "  <tbody>\n",
       "    <tr>\n",
       "      <th>C</th>\n",
       "      <td>Cardiff</td>\n",
       "      <td>335145</td>\n",
       "      <td>2100</td>\n",
       "    </tr>\n",
       "    <tr>\n",
       "      <th>S</th>\n",
       "      <td>Swansea</td>\n",
       "      <td>230300</td>\n",
       "      <td>1680</td>\n",
       "    </tr>\n",
       "  </tbody>\n",
       "</table>\n",
       "</div>"
      ],
      "text/plain": [
       "             name  population  n_pubs\n",
       "Initials                             \n",
       "C         Cardiff      335145    2100\n",
       "S         Swansea      230300    1680"
      ]
     },
     "execution_count": 14,
     "metadata": {},
     "output_type": "execute_result"
    }
   ],
   "source": [
    "# the .head() method shows the top rows \n",
    "\n",
    "towns_df.head(2)"
   ]
  },
  {
   "cell_type": "markdown",
   "id": "b555ab21-2942-4c87-acbd-7963041d50c4",
   "metadata": {},
   "source": [
    "**Note**: The number in the parenthesis is optional and indicates how many rows to show. "
   ]
  },
  {
   "cell_type": "code",
   "execution_count": 15,
   "id": "58d115eb-2bb8-4338-aabc-93966022fc80",
   "metadata": {},
   "outputs": [
    {
     "data": {
      "text/html": [
       "<div>\n",
       "<style scoped>\n",
       "    .dataframe tbody tr th:only-of-type {\n",
       "        vertical-align: middle;\n",
       "    }\n",
       "\n",
       "    .dataframe tbody tr th {\n",
       "        vertical-align: top;\n",
       "    }\n",
       "\n",
       "    .dataframe thead th {\n",
       "        text-align: right;\n",
       "    }\n",
       "</style>\n",
       "<table border=\"1\" class=\"dataframe\">\n",
       "  <thead>\n",
       "    <tr style=\"text-align: right;\">\n",
       "      <th></th>\n",
       "      <th>name</th>\n",
       "      <th>population</th>\n",
       "      <th>n_pubs</th>\n",
       "    </tr>\n",
       "    <tr>\n",
       "      <th>Initials</th>\n",
       "      <th></th>\n",
       "      <th></th>\n",
       "      <th></th>\n",
       "    </tr>\n",
       "  </thead>\n",
       "  <tbody>\n",
       "    <tr>\n",
       "      <th>A</th>\n",
       "      <td>Abergavenny</td>\n",
       "      <td>12515</td>\n",
       "      <td>198</td>\n",
       "    </tr>\n",
       "    <tr>\n",
       "      <th>M</th>\n",
       "      <td>Machynlleth</td>\n",
       "      <td>2235</td>\n",
       "      <td>48</td>\n",
       "    </tr>\n",
       "  </tbody>\n",
       "</table>\n",
       "</div>"
      ],
      "text/plain": [
       "                 name  population  n_pubs\n",
       "Initials                                 \n",
       "A         Abergavenny       12515     198\n",
       "M         Machynlleth        2235      48"
      ]
     },
     "execution_count": 15,
     "metadata": {},
     "output_type": "execute_result"
    }
   ],
   "source": [
    "# similarly .tail() shows the bottom rows\n",
    "\n",
    "towns_df.tail(2)"
   ]
  },
  {
   "cell_type": "code",
   "execution_count": 16,
   "id": "772361ea-6119-4eed-a893-40e6abcfb9e3",
   "metadata": {},
   "outputs": [
    {
     "data": {
      "text/plain": [
       "(4, 3)"
      ]
     },
     "execution_count": 16,
     "metadata": {},
     "output_type": "execute_result"
    }
   ],
   "source": [
    "# check how many rows and columns\n",
    "towns_df.shape"
   ]
  },
  {
   "cell_type": "code",
   "execution_count": 17,
   "id": "a78f801f-239b-480f-b998-46f5dd4f3045",
   "metadata": {},
   "outputs": [
    {
     "data": {
      "text/plain": [
       "Initials\n",
       "C    335145\n",
       "S    230300\n",
       "A     12515\n",
       "M      2235\n",
       "Name: population, dtype: int64"
      ]
     },
     "execution_count": 17,
     "metadata": {},
     "output_type": "execute_result"
    }
   ],
   "source": [
    "# Inspect only one series using square bracket notation\n",
    "\n",
    "towns_df['population']"
   ]
  },
  {
   "cell_type": "code",
   "execution_count": 18,
   "id": "0e302011-fd29-4ab3-bc1f-57c5f968999f",
   "metadata": {},
   "outputs": [
    {
     "data": {
      "text/plain": [
       "Initials\n",
       "C    335145\n",
       "S    230300\n",
       "A     12515\n",
       "M      2235\n",
       "Name: population, dtype: int64"
      ]
     },
     "execution_count": 18,
     "metadata": {},
     "output_type": "execute_result"
    }
   ],
   "source": [
    "# Or dot notation\n",
    "\n",
    "towns_df.population"
   ]
  },
  {
   "cell_type": "code",
   "execution_count": 19,
   "id": "0e2ee914-ac9c-4114-a6d1-91939079481a",
   "metadata": {},
   "outputs": [
    {
     "data": {
      "text/plain": [
       "Initials\n",
       "C    2100\n",
       "S    1680\n",
       "A     198\n",
       "Name: n_pubs, dtype: int64"
      ]
     },
     "execution_count": 19,
     "metadata": {},
     "output_type": "execute_result"
    }
   ],
   "source": [
    "# Standard Python indexing works\n",
    "\n",
    "towns_df.n_pubs[:3]"
   ]
  },
  {
   "cell_type": "markdown",
   "id": "45d661cf-19b5-462c-b601-4f140d728917",
   "metadata": {
    "tags": []
   },
   "source": [
    "#### Operate on columns"
   ]
  },
  {
   "cell_type": "code",
   "execution_count": 20,
   "id": "d198e47e-ac33-42e9-b460-5cc373384e7d",
   "metadata": {},
   "outputs": [
    {
     "data": {
      "text/html": [
       "<div>\n",
       "<style scoped>\n",
       "    .dataframe tbody tr th:only-of-type {\n",
       "        vertical-align: middle;\n",
       "    }\n",
       "\n",
       "    .dataframe tbody tr th {\n",
       "        vertical-align: top;\n",
       "    }\n",
       "\n",
       "    .dataframe thead th {\n",
       "        text-align: right;\n",
       "    }\n",
       "</style>\n",
       "<table border=\"1\" class=\"dataframe\">\n",
       "  <thead>\n",
       "    <tr style=\"text-align: right;\">\n",
       "      <th></th>\n",
       "      <th>name</th>\n",
       "      <th>population</th>\n",
       "      <th>n_pubs</th>\n",
       "    </tr>\n",
       "    <tr>\n",
       "      <th>Initials</th>\n",
       "      <th></th>\n",
       "      <th></th>\n",
       "      <th></th>\n",
       "    </tr>\n",
       "  </thead>\n",
       "  <tbody>\n",
       "    <tr>\n",
       "      <th>A</th>\n",
       "      <td>Abergavenny</td>\n",
       "      <td>12515</td>\n",
       "      <td>198</td>\n",
       "    </tr>\n",
       "  </tbody>\n",
       "</table>\n",
       "</div>"
      ],
      "text/plain": [
       "                 name  population  n_pubs\n",
       "Initials                                 \n",
       "A         Abergavenny       12515     198"
      ]
     },
     "execution_count": 20,
     "metadata": {},
     "output_type": "execute_result"
    }
   ],
   "source": [
    "# Use Boolean indexing to inspect values based on a condition\n",
    "\n",
    "towns_df[towns_df.name == 'Abergavenny']"
   ]
  },
  {
   "cell_type": "code",
   "execution_count": 21,
   "id": "36ecf5f1-5068-4b55-b16e-0eb3c0660786",
   "metadata": {},
   "outputs": [
    {
     "data": {
      "text/html": [
       "<div>\n",
       "<style scoped>\n",
       "    .dataframe tbody tr th:only-of-type {\n",
       "        vertical-align: middle;\n",
       "    }\n",
       "\n",
       "    .dataframe tbody tr th {\n",
       "        vertical-align: top;\n",
       "    }\n",
       "\n",
       "    .dataframe thead th {\n",
       "        text-align: right;\n",
       "    }\n",
       "</style>\n",
       "<table border=\"1\" class=\"dataframe\">\n",
       "  <thead>\n",
       "    <tr style=\"text-align: right;\">\n",
       "      <th></th>\n",
       "      <th>name</th>\n",
       "      <th>population</th>\n",
       "      <th>n_pubs</th>\n",
       "      <th>pubs_per_capita</th>\n",
       "      <th>people_per_pub</th>\n",
       "    </tr>\n",
       "    <tr>\n",
       "      <th>Initials</th>\n",
       "      <th></th>\n",
       "      <th></th>\n",
       "      <th></th>\n",
       "      <th></th>\n",
       "      <th></th>\n",
       "    </tr>\n",
       "  </thead>\n",
       "  <tbody>\n",
       "    <tr>\n",
       "      <th>C</th>\n",
       "      <td>Cardiff</td>\n",
       "      <td>335145</td>\n",
       "      <td>2100</td>\n",
       "      <td>0.006266</td>\n",
       "      <td>159.592857</td>\n",
       "    </tr>\n",
       "    <tr>\n",
       "      <th>S</th>\n",
       "      <td>Swansea</td>\n",
       "      <td>230300</td>\n",
       "      <td>1680</td>\n",
       "      <td>0.007295</td>\n",
       "      <td>137.083333</td>\n",
       "    </tr>\n",
       "    <tr>\n",
       "      <th>A</th>\n",
       "      <td>Abergavenny</td>\n",
       "      <td>12515</td>\n",
       "      <td>198</td>\n",
       "      <td>0.015821</td>\n",
       "      <td>63.207071</td>\n",
       "    </tr>\n",
       "    <tr>\n",
       "      <th>M</th>\n",
       "      <td>Machynlleth</td>\n",
       "      <td>2235</td>\n",
       "      <td>48</td>\n",
       "      <td>0.021477</td>\n",
       "      <td>46.562500</td>\n",
       "    </tr>\n",
       "  </tbody>\n",
       "</table>\n",
       "</div>"
      ],
      "text/plain": [
       "                 name  population  n_pubs  pubs_per_capita  people_per_pub\n",
       "Initials                                                                  \n",
       "C             Cardiff      335145    2100         0.006266      159.592857\n",
       "S             Swansea      230300    1680         0.007295      137.083333\n",
       "A         Abergavenny       12515     198         0.015821       63.207071\n",
       "M         Machynlleth        2235      48         0.021477       46.562500"
      ]
     },
     "execution_count": 21,
     "metadata": {},
     "output_type": "execute_result"
    }
   ],
   "source": [
    "# Create a new column with math outputs\n",
    "\n",
    "towns_df['pubs_per_capita'] = towns_df.n_pubs / towns_df.population\n",
    "towns_df['people_per_pub'] = towns_df.population / towns_df.n_pubs\n",
    "\n",
    "towns_df"
   ]
  },
  {
   "cell_type": "code",
   "execution_count": 22,
   "id": "2ee65621-c7aa-400f-993c-83c9f770164b",
   "metadata": {},
   "outputs": [
    {
     "data": {
      "text/html": [
       "<div>\n",
       "<style scoped>\n",
       "    .dataframe tbody tr th:only-of-type {\n",
       "        vertical-align: middle;\n",
       "    }\n",
       "\n",
       "    .dataframe tbody tr th {\n",
       "        vertical-align: top;\n",
       "    }\n",
       "\n",
       "    .dataframe thead th {\n",
       "        text-align: right;\n",
       "    }\n",
       "</style>\n",
       "<table border=\"1\" class=\"dataframe\">\n",
       "  <thead>\n",
       "    <tr style=\"text-align: right;\">\n",
       "      <th></th>\n",
       "      <th>name</th>\n",
       "      <th>population</th>\n",
       "      <th>n_pubs</th>\n",
       "      <th>pubs_per_capita</th>\n",
       "      <th>people_per_pub</th>\n",
       "      <th>has_mountains</th>\n",
       "    </tr>\n",
       "    <tr>\n",
       "      <th>Initials</th>\n",
       "      <th></th>\n",
       "      <th></th>\n",
       "      <th></th>\n",
       "      <th></th>\n",
       "      <th></th>\n",
       "      <th></th>\n",
       "    </tr>\n",
       "  </thead>\n",
       "  <tbody>\n",
       "    <tr>\n",
       "      <th>C</th>\n",
       "      <td>Cardiff</td>\n",
       "      <td>335145</td>\n",
       "      <td>2100</td>\n",
       "      <td>0.006266</td>\n",
       "      <td>159.592857</td>\n",
       "      <td>False</td>\n",
       "    </tr>\n",
       "    <tr>\n",
       "      <th>S</th>\n",
       "      <td>Swansea</td>\n",
       "      <td>230300</td>\n",
       "      <td>1680</td>\n",
       "      <td>0.007295</td>\n",
       "      <td>137.083333</td>\n",
       "      <td>False</td>\n",
       "    </tr>\n",
       "    <tr>\n",
       "      <th>A</th>\n",
       "      <td>Abergavenny</td>\n",
       "      <td>12515</td>\n",
       "      <td>198</td>\n",
       "      <td>0.015821</td>\n",
       "      <td>63.207071</td>\n",
       "      <td>False</td>\n",
       "    </tr>\n",
       "    <tr>\n",
       "      <th>M</th>\n",
       "      <td>Machynlleth</td>\n",
       "      <td>2235</td>\n",
       "      <td>48</td>\n",
       "      <td>0.021477</td>\n",
       "      <td>46.562500</td>\n",
       "      <td>False</td>\n",
       "    </tr>\n",
       "  </tbody>\n",
       "</table>\n",
       "</div>"
      ],
      "text/plain": [
       "                 name  population  n_pubs  pubs_per_capita  people_per_pub  \\\n",
       "Initials                                                                     \n",
       "C             Cardiff      335145    2100         0.006266      159.592857   \n",
       "S             Swansea      230300    1680         0.007295      137.083333   \n",
       "A         Abergavenny       12515     198         0.015821       63.207071   \n",
       "M         Machynlleth        2235      48         0.021477       46.562500   \n",
       "\n",
       "          has_mountains  \n",
       "Initials                 \n",
       "C                 False  \n",
       "S                 False  \n",
       "A                 False  \n",
       "M                 False  "
      ]
     },
     "execution_count": 22,
     "metadata": {},
     "output_type": "execute_result"
    }
   ],
   "source": [
    "# Create a new column and assign a default value\n",
    "\n",
    "towns_df['has_mountains'] = False\n",
    "\n",
    "towns_df"
   ]
  },
  {
   "cell_type": "markdown",
   "id": "a435704b-ea5e-4cab-a260-d7e075b5d382",
   "metadata": {},
   "source": [
    "One of the powerful features of Pandas is its ability to select columns or rows matching a specific condition. "
   ]
  },
  {
   "cell_type": "code",
   "execution_count": 23,
   "id": "78af4872-2593-4247-8ea4-b1ce0a98ac44",
   "metadata": {},
   "outputs": [
    {
     "data": {
      "text/html": [
       "<div>\n",
       "<style scoped>\n",
       "    .dataframe tbody tr th:only-of-type {\n",
       "        vertical-align: middle;\n",
       "    }\n",
       "\n",
       "    .dataframe tbody tr th {\n",
       "        vertical-align: top;\n",
       "    }\n",
       "\n",
       "    .dataframe thead th {\n",
       "        text-align: right;\n",
       "    }\n",
       "</style>\n",
       "<table border=\"1\" class=\"dataframe\">\n",
       "  <thead>\n",
       "    <tr style=\"text-align: right;\">\n",
       "      <th></th>\n",
       "      <th>name</th>\n",
       "      <th>population</th>\n",
       "      <th>n_pubs</th>\n",
       "      <th>pubs_per_capita</th>\n",
       "      <th>people_per_pub</th>\n",
       "      <th>has_mountains</th>\n",
       "    </tr>\n",
       "    <tr>\n",
       "      <th>Initials</th>\n",
       "      <th></th>\n",
       "      <th></th>\n",
       "      <th></th>\n",
       "      <th></th>\n",
       "      <th></th>\n",
       "      <th></th>\n",
       "    </tr>\n",
       "  </thead>\n",
       "  <tbody>\n",
       "    <tr>\n",
       "      <th>S</th>\n",
       "      <td>Swansea</td>\n",
       "      <td>230300</td>\n",
       "      <td>1680</td>\n",
       "      <td>0.007295</td>\n",
       "      <td>137.083333</td>\n",
       "      <td>False</td>\n",
       "    </tr>\n",
       "    <tr>\n",
       "      <th>A</th>\n",
       "      <td>Abergavenny</td>\n",
       "      <td>12515</td>\n",
       "      <td>198</td>\n",
       "      <td>0.015821</td>\n",
       "      <td>63.207071</td>\n",
       "      <td>False</td>\n",
       "    </tr>\n",
       "    <tr>\n",
       "      <th>M</th>\n",
       "      <td>Machynlleth</td>\n",
       "      <td>2235</td>\n",
       "      <td>48</td>\n",
       "      <td>0.021477</td>\n",
       "      <td>46.562500</td>\n",
       "      <td>False</td>\n",
       "    </tr>\n",
       "  </tbody>\n",
       "</table>\n",
       "</div>"
      ],
      "text/plain": [
       "                 name  population  n_pubs  pubs_per_capita  people_per_pub  \\\n",
       "Initials                                                                     \n",
       "S             Swansea      230300    1680         0.007295      137.083333   \n",
       "A         Abergavenny       12515     198         0.015821       63.207071   \n",
       "M         Machynlleth        2235      48         0.021477       46.562500   \n",
       "\n",
       "          has_mountains  \n",
       "Initials                 \n",
       "S                 False  \n",
       "A                 False  \n",
       "M                 False  "
      ]
     },
     "execution_count": 23,
     "metadata": {},
     "output_type": "execute_result"
    }
   ],
   "source": [
    "# Use a single column's value to select data\n",
    "\n",
    "towns_df.loc[towns_df.people_per_pub < 150]"
   ]
  },
  {
   "cell_type": "code",
   "execution_count": 24,
   "id": "1efd7f72-6d5a-4ace-b7a8-a5ba560b64da",
   "metadata": {},
   "outputs": [
    {
     "ename": "TypeError",
     "evalue": "'>' not supported between instances of 'str' and 'int'",
     "output_type": "error",
     "traceback": [
      "\u001b[0;31m---------------------------------------------------------------------------\u001b[0m",
      "\u001b[0;31mTypeError\u001b[0m                                 Traceback (most recent call last)",
      "Input \u001b[0;32mIn [24]\u001b[0m, in \u001b[0;36m<cell line: 3>\u001b[0;34m()\u001b[0m\n\u001b[1;32m      1\u001b[0m \u001b[38;5;66;03m# Is this a correct statement? \u001b[39;00m\n\u001b[0;32m----> 3\u001b[0m \u001b[43mtowns_df\u001b[49m\u001b[43m \u001b[49m\u001b[38;5;241;43m>\u001b[39;49m\u001b[43m \u001b[49m\u001b[38;5;241;43m50\u001b[39;49m\n",
      "File \u001b[0;32m~/opt/miniconda3/envs/py22/lib/python3.10/site-packages/pandas/core/ops/common.py:70\u001b[0m, in \u001b[0;36m_unpack_zerodim_and_defer.<locals>.new_method\u001b[0;34m(self, other)\u001b[0m\n\u001b[1;32m     66\u001b[0m             \u001b[38;5;28;01mreturn\u001b[39;00m \u001b[38;5;28mNotImplemented\u001b[39m\n\u001b[1;32m     68\u001b[0m other \u001b[38;5;241m=\u001b[39m item_from_zerodim(other)\n\u001b[0;32m---> 70\u001b[0m \u001b[38;5;28;01mreturn\u001b[39;00m \u001b[43mmethod\u001b[49m\u001b[43m(\u001b[49m\u001b[38;5;28;43mself\u001b[39;49m\u001b[43m,\u001b[49m\u001b[43m \u001b[49m\u001b[43mother\u001b[49m\u001b[43m)\u001b[49m\n",
      "File \u001b[0;32m~/opt/miniconda3/envs/py22/lib/python3.10/site-packages/pandas/core/arraylike.py:56\u001b[0m, in \u001b[0;36mOpsMixin.__gt__\u001b[0;34m(self, other)\u001b[0m\n\u001b[1;32m     54\u001b[0m \u001b[38;5;129m@unpack_zerodim_and_defer\u001b[39m(\u001b[38;5;124m\"\u001b[39m\u001b[38;5;124m__gt__\u001b[39m\u001b[38;5;124m\"\u001b[39m)\n\u001b[1;32m     55\u001b[0m \u001b[38;5;28;01mdef\u001b[39;00m \u001b[38;5;21m__gt__\u001b[39m(\u001b[38;5;28mself\u001b[39m, other):\n\u001b[0;32m---> 56\u001b[0m     \u001b[38;5;28;01mreturn\u001b[39;00m \u001b[38;5;28;43mself\u001b[39;49m\u001b[38;5;241;43m.\u001b[39;49m\u001b[43m_cmp_method\u001b[49m\u001b[43m(\u001b[49m\u001b[43mother\u001b[49m\u001b[43m,\u001b[49m\u001b[43m \u001b[49m\u001b[43moperator\u001b[49m\u001b[38;5;241;43m.\u001b[39;49m\u001b[43mgt\u001b[49m\u001b[43m)\u001b[49m\n",
      "File \u001b[0;32m~/opt/miniconda3/envs/py22/lib/python3.10/site-packages/pandas/core/frame.py:6940\u001b[0m, in \u001b[0;36mDataFrame._cmp_method\u001b[0;34m(self, other, op)\u001b[0m\n\u001b[1;32m   6937\u001b[0m \u001b[38;5;28mself\u001b[39m, other \u001b[38;5;241m=\u001b[39m ops\u001b[38;5;241m.\u001b[39malign_method_FRAME(\u001b[38;5;28mself\u001b[39m, other, axis, flex\u001b[38;5;241m=\u001b[39m\u001b[38;5;28;01mFalse\u001b[39;00m, level\u001b[38;5;241m=\u001b[39m\u001b[38;5;28;01mNone\u001b[39;00m)\n\u001b[1;32m   6939\u001b[0m \u001b[38;5;66;03m# See GH#4537 for discussion of scalar op behavior\u001b[39;00m\n\u001b[0;32m-> 6940\u001b[0m new_data \u001b[38;5;241m=\u001b[39m \u001b[38;5;28;43mself\u001b[39;49m\u001b[38;5;241;43m.\u001b[39;49m\u001b[43m_dispatch_frame_op\u001b[49m\u001b[43m(\u001b[49m\u001b[43mother\u001b[49m\u001b[43m,\u001b[49m\u001b[43m \u001b[49m\u001b[43mop\u001b[49m\u001b[43m,\u001b[49m\u001b[43m \u001b[49m\u001b[43maxis\u001b[49m\u001b[38;5;241;43m=\u001b[39;49m\u001b[43maxis\u001b[49m\u001b[43m)\u001b[49m\n\u001b[1;32m   6941\u001b[0m \u001b[38;5;28;01mreturn\u001b[39;00m \u001b[38;5;28mself\u001b[39m\u001b[38;5;241m.\u001b[39m_construct_result(new_data)\n",
      "File \u001b[0;32m~/opt/miniconda3/envs/py22/lib/python3.10/site-packages/pandas/core/frame.py:6979\u001b[0m, in \u001b[0;36mDataFrame._dispatch_frame_op\u001b[0;34m(self, right, func, axis)\u001b[0m\n\u001b[1;32m   6976\u001b[0m \u001b[38;5;28;01mif\u001b[39;00m \u001b[38;5;129;01mnot\u001b[39;00m is_list_like(right):\n\u001b[1;32m   6977\u001b[0m     \u001b[38;5;66;03m# i.e. scalar, faster than checking np.ndim(right) == 0\u001b[39;00m\n\u001b[1;32m   6978\u001b[0m     \u001b[38;5;28;01mwith\u001b[39;00m np\u001b[38;5;241m.\u001b[39merrstate(\u001b[38;5;28mall\u001b[39m\u001b[38;5;241m=\u001b[39m\u001b[38;5;124m\"\u001b[39m\u001b[38;5;124mignore\u001b[39m\u001b[38;5;124m\"\u001b[39m):\n\u001b[0;32m-> 6979\u001b[0m         bm \u001b[38;5;241m=\u001b[39m \u001b[38;5;28;43mself\u001b[39;49m\u001b[38;5;241;43m.\u001b[39;49m\u001b[43m_mgr\u001b[49m\u001b[38;5;241;43m.\u001b[39;49m\u001b[43mapply\u001b[49m\u001b[43m(\u001b[49m\u001b[43marray_op\u001b[49m\u001b[43m,\u001b[49m\u001b[43m \u001b[49m\u001b[43mright\u001b[49m\u001b[38;5;241;43m=\u001b[39;49m\u001b[43mright\u001b[49m\u001b[43m)\u001b[49m\n\u001b[1;32m   6980\u001b[0m     \u001b[38;5;28;01mreturn\u001b[39;00m \u001b[38;5;28mself\u001b[39m\u001b[38;5;241m.\u001b[39m_constructor(bm)\n\u001b[1;32m   6982\u001b[0m \u001b[38;5;28;01melif\u001b[39;00m \u001b[38;5;28misinstance\u001b[39m(right, DataFrame):\n",
      "File \u001b[0;32m~/opt/miniconda3/envs/py22/lib/python3.10/site-packages/pandas/core/internals/managers.py:302\u001b[0m, in \u001b[0;36mBaseBlockManager.apply\u001b[0;34m(self, f, align_keys, ignore_failures, **kwargs)\u001b[0m\n\u001b[1;32m    300\u001b[0m \u001b[38;5;28;01mtry\u001b[39;00m:\n\u001b[1;32m    301\u001b[0m     \u001b[38;5;28;01mif\u001b[39;00m callable(f):\n\u001b[0;32m--> 302\u001b[0m         applied \u001b[38;5;241m=\u001b[39m \u001b[43mb\u001b[49m\u001b[38;5;241;43m.\u001b[39;49m\u001b[43mapply\u001b[49m\u001b[43m(\u001b[49m\u001b[43mf\u001b[49m\u001b[43m,\u001b[49m\u001b[43m \u001b[49m\u001b[38;5;241;43m*\u001b[39;49m\u001b[38;5;241;43m*\u001b[39;49m\u001b[43mkwargs\u001b[49m\u001b[43m)\u001b[49m\n\u001b[1;32m    303\u001b[0m     \u001b[38;5;28;01melse\u001b[39;00m:\n\u001b[1;32m    304\u001b[0m         applied \u001b[38;5;241m=\u001b[39m \u001b[38;5;28mgetattr\u001b[39m(b, f)(\u001b[38;5;241m*\u001b[39m\u001b[38;5;241m*\u001b[39mkwargs)\n",
      "File \u001b[0;32m~/opt/miniconda3/envs/py22/lib/python3.10/site-packages/pandas/core/internals/blocks.py:402\u001b[0m, in \u001b[0;36mBlock.apply\u001b[0;34m(self, func, **kwargs)\u001b[0m\n\u001b[1;32m    396\u001b[0m \u001b[38;5;129m@final\u001b[39m\n\u001b[1;32m    397\u001b[0m \u001b[38;5;28;01mdef\u001b[39;00m \u001b[38;5;21mapply\u001b[39m(\u001b[38;5;28mself\u001b[39m, func, \u001b[38;5;241m*\u001b[39m\u001b[38;5;241m*\u001b[39mkwargs) \u001b[38;5;241m-\u001b[39m\u001b[38;5;241m>\u001b[39m \u001b[38;5;28mlist\u001b[39m[Block]:\n\u001b[1;32m    398\u001b[0m     \u001b[38;5;124;03m\"\"\"\u001b[39;00m\n\u001b[1;32m    399\u001b[0m \u001b[38;5;124;03m    apply the function to my values; return a block if we are not\u001b[39;00m\n\u001b[1;32m    400\u001b[0m \u001b[38;5;124;03m    one\u001b[39;00m\n\u001b[1;32m    401\u001b[0m \u001b[38;5;124;03m    \"\"\"\u001b[39;00m\n\u001b[0;32m--> 402\u001b[0m     result \u001b[38;5;241m=\u001b[39m \u001b[43mfunc\u001b[49m\u001b[43m(\u001b[49m\u001b[38;5;28;43mself\u001b[39;49m\u001b[38;5;241;43m.\u001b[39;49m\u001b[43mvalues\u001b[49m\u001b[43m,\u001b[49m\u001b[43m \u001b[49m\u001b[38;5;241;43m*\u001b[39;49m\u001b[38;5;241;43m*\u001b[39;49m\u001b[43mkwargs\u001b[49m\u001b[43m)\u001b[49m\n\u001b[1;32m    404\u001b[0m     \u001b[38;5;28;01mreturn\u001b[39;00m \u001b[38;5;28mself\u001b[39m\u001b[38;5;241m.\u001b[39m_split_op_result(result)\n",
      "File \u001b[0;32m~/opt/miniconda3/envs/py22/lib/python3.10/site-packages/pandas/core/ops/array_ops.py:283\u001b[0m, in \u001b[0;36mcomparison_op\u001b[0;34m(left, right, op)\u001b[0m\n\u001b[1;32m    280\u001b[0m     \u001b[38;5;28;01mreturn\u001b[39;00m invalid_comparison(lvalues, rvalues, op)\n\u001b[1;32m    282\u001b[0m \u001b[38;5;28;01melif\u001b[39;00m is_object_dtype(lvalues\u001b[38;5;241m.\u001b[39mdtype) \u001b[38;5;129;01mor\u001b[39;00m \u001b[38;5;28misinstance\u001b[39m(rvalues, \u001b[38;5;28mstr\u001b[39m):\n\u001b[0;32m--> 283\u001b[0m     res_values \u001b[38;5;241m=\u001b[39m \u001b[43mcomp_method_OBJECT_ARRAY\u001b[49m\u001b[43m(\u001b[49m\u001b[43mop\u001b[49m\u001b[43m,\u001b[49m\u001b[43m \u001b[49m\u001b[43mlvalues\u001b[49m\u001b[43m,\u001b[49m\u001b[43m \u001b[49m\u001b[43mrvalues\u001b[49m\u001b[43m)\u001b[49m\n\u001b[1;32m    285\u001b[0m \u001b[38;5;28;01melse\u001b[39;00m:\n\u001b[1;32m    286\u001b[0m     res_values \u001b[38;5;241m=\u001b[39m _na_arithmetic_op(lvalues, rvalues, op, is_cmp\u001b[38;5;241m=\u001b[39m\u001b[38;5;28;01mTrue\u001b[39;00m)\n",
      "File \u001b[0;32m~/opt/miniconda3/envs/py22/lib/python3.10/site-packages/pandas/core/ops/array_ops.py:73\u001b[0m, in \u001b[0;36mcomp_method_OBJECT_ARRAY\u001b[0;34m(op, x, y)\u001b[0m\n\u001b[1;32m     71\u001b[0m     result \u001b[38;5;241m=\u001b[39m libops\u001b[38;5;241m.\u001b[39mvec_compare(x\u001b[38;5;241m.\u001b[39mravel(), y\u001b[38;5;241m.\u001b[39mravel(), op)\n\u001b[1;32m     72\u001b[0m \u001b[38;5;28;01melse\u001b[39;00m:\n\u001b[0;32m---> 73\u001b[0m     result \u001b[38;5;241m=\u001b[39m \u001b[43mlibops\u001b[49m\u001b[38;5;241;43m.\u001b[39;49m\u001b[43mscalar_compare\u001b[49m\u001b[43m(\u001b[49m\u001b[43mx\u001b[49m\u001b[38;5;241;43m.\u001b[39;49m\u001b[43mravel\u001b[49m\u001b[43m(\u001b[49m\u001b[43m)\u001b[49m\u001b[43m,\u001b[49m\u001b[43m \u001b[49m\u001b[43my\u001b[49m\u001b[43m,\u001b[49m\u001b[43m \u001b[49m\u001b[43mop\u001b[49m\u001b[43m)\u001b[49m\n\u001b[1;32m     74\u001b[0m \u001b[38;5;28;01mreturn\u001b[39;00m result\u001b[38;5;241m.\u001b[39mreshape(x\u001b[38;5;241m.\u001b[39mshape)\n",
      "File \u001b[0;32m~/opt/miniconda3/envs/py22/lib/python3.10/site-packages/pandas/_libs/ops.pyx:107\u001b[0m, in \u001b[0;36mpandas._libs.ops.scalar_compare\u001b[0;34m()\u001b[0m\n",
      "\u001b[0;31mTypeError\u001b[0m: '>' not supported between instances of 'str' and 'int'"
     ]
    }
   ],
   "source": [
    "# Is this a correct statement? \n",
    "\n",
    "towns_df > 50"
   ]
  },
  {
   "cell_type": "markdown",
   "id": "0fbd661c-7714-4de4-a169-cd282f916123",
   "metadata": {},
   "source": [
    "As well as assigning values based on a condition"
   ]
  },
  {
   "cell_type": "code",
   "execution_count": 25,
   "id": "6ed09541-37d9-4356-b349-229b469fd009",
   "metadata": {},
   "outputs": [
    {
     "data": {
      "text/html": [
       "<div>\n",
       "<style scoped>\n",
       "    .dataframe tbody tr th:only-of-type {\n",
       "        vertical-align: middle;\n",
       "    }\n",
       "\n",
       "    .dataframe tbody tr th {\n",
       "        vertical-align: top;\n",
       "    }\n",
       "\n",
       "    .dataframe thead th {\n",
       "        text-align: right;\n",
       "    }\n",
       "</style>\n",
       "<table border=\"1\" class=\"dataframe\">\n",
       "  <thead>\n",
       "    <tr style=\"text-align: right;\">\n",
       "      <th></th>\n",
       "      <th>name</th>\n",
       "      <th>population</th>\n",
       "      <th>n_pubs</th>\n",
       "      <th>pubs_per_capita</th>\n",
       "      <th>people_per_pub</th>\n",
       "      <th>has_mountains</th>\n",
       "      <th>crowded_pubs</th>\n",
       "    </tr>\n",
       "    <tr>\n",
       "      <th>Initials</th>\n",
       "      <th></th>\n",
       "      <th></th>\n",
       "      <th></th>\n",
       "      <th></th>\n",
       "      <th></th>\n",
       "      <th></th>\n",
       "      <th></th>\n",
       "    </tr>\n",
       "  </thead>\n",
       "  <tbody>\n",
       "    <tr>\n",
       "      <th>C</th>\n",
       "      <td>Cardiff</td>\n",
       "      <td>335145</td>\n",
       "      <td>2100</td>\n",
       "      <td>0.006266</td>\n",
       "      <td>159.592857</td>\n",
       "      <td>False</td>\n",
       "      <td>True</td>\n",
       "    </tr>\n",
       "    <tr>\n",
       "      <th>S</th>\n",
       "      <td>Swansea</td>\n",
       "      <td>230300</td>\n",
       "      <td>1680</td>\n",
       "      <td>0.007295</td>\n",
       "      <td>137.083333</td>\n",
       "      <td>False</td>\n",
       "      <td>False</td>\n",
       "    </tr>\n",
       "    <tr>\n",
       "      <th>A</th>\n",
       "      <td>Abergavenny</td>\n",
       "      <td>12515</td>\n",
       "      <td>198</td>\n",
       "      <td>0.015821</td>\n",
       "      <td>63.207071</td>\n",
       "      <td>False</td>\n",
       "      <td>False</td>\n",
       "    </tr>\n",
       "    <tr>\n",
       "      <th>M</th>\n",
       "      <td>Machynlleth</td>\n",
       "      <td>2235</td>\n",
       "      <td>48</td>\n",
       "      <td>0.021477</td>\n",
       "      <td>46.562500</td>\n",
       "      <td>False</td>\n",
       "      <td>False</td>\n",
       "    </tr>\n",
       "  </tbody>\n",
       "</table>\n",
       "</div>"
      ],
      "text/plain": [
       "                 name  population  n_pubs  pubs_per_capita  people_per_pub  \\\n",
       "Initials                                                                     \n",
       "C             Cardiff      335145    2100         0.006266      159.592857   \n",
       "S             Swansea      230300    1680         0.007295      137.083333   \n",
       "A         Abergavenny       12515     198         0.015821       63.207071   \n",
       "M         Machynlleth        2235      48         0.021477       46.562500   \n",
       "\n",
       "          has_mountains  crowded_pubs  \n",
       "Initials                               \n",
       "C                 False          True  \n",
       "S                 False         False  \n",
       "A                 False         False  \n",
       "M                 False         False  "
      ]
     },
     "execution_count": 25,
     "metadata": {},
     "output_type": "execute_result"
    }
   ],
   "source": [
    "towns_df['crowded_pubs'] = towns_df.people_per_pub > 150\n",
    "\n",
    "towns_df"
   ]
  },
  {
   "cell_type": "code",
   "execution_count": 26,
   "id": "c44bfa39-8b33-4871-ae49-58347aaef7ef",
   "metadata": {},
   "outputs": [
    {
     "data": {
      "text/plain": [
       "Index(['name', 'population', 'n_pubs', 'pubs_per_capita', 'people_per_pub',\n",
       "       'crowded_pubs'],\n",
       "      dtype='object')"
      ]
     },
     "execution_count": 26,
     "metadata": {},
     "output_type": "execute_result"
    }
   ],
   "source": [
    "# drop a colum with del\n",
    "\n",
    "del towns_df['has_mountains']\n",
    "\n",
    "towns_df.columns"
   ]
  },
  {
   "cell_type": "code",
   "execution_count": 27,
   "id": "cf39c263-479b-4fed-b937-16a856bf9db2",
   "metadata": {
    "tags": []
   },
   "outputs": [
    {
     "data": {
      "text/html": [
       "<div>\n",
       "<style scoped>\n",
       "    .dataframe tbody tr th:only-of-type {\n",
       "        vertical-align: middle;\n",
       "    }\n",
       "\n",
       "    .dataframe tbody tr th {\n",
       "        vertical-align: top;\n",
       "    }\n",
       "\n",
       "    .dataframe thead th {\n",
       "        text-align: right;\n",
       "    }\n",
       "</style>\n",
       "<table border=\"1\" class=\"dataframe\">\n",
       "  <thead>\n",
       "    <tr style=\"text-align: right;\">\n",
       "      <th></th>\n",
       "      <th>name</th>\n",
       "      <th>population</th>\n",
       "      <th>n_pubs</th>\n",
       "      <th>pubs_per_capita</th>\n",
       "      <th>people_per_pub</th>\n",
       "      <th>crowded_pubs</th>\n",
       "    </tr>\n",
       "    <tr>\n",
       "      <th>Initials</th>\n",
       "      <th></th>\n",
       "      <th></th>\n",
       "      <th></th>\n",
       "      <th></th>\n",
       "      <th></th>\n",
       "      <th></th>\n",
       "    </tr>\n",
       "  </thead>\n",
       "  <tbody>\n",
       "    <tr>\n",
       "      <th>M</th>\n",
       "      <td>Machynlleth</td>\n",
       "      <td>2235</td>\n",
       "      <td>48</td>\n",
       "      <td>0.021477</td>\n",
       "      <td>46.562500</td>\n",
       "      <td>False</td>\n",
       "    </tr>\n",
       "    <tr>\n",
       "      <th>A</th>\n",
       "      <td>Abergavenny</td>\n",
       "      <td>12515</td>\n",
       "      <td>198</td>\n",
       "      <td>0.015821</td>\n",
       "      <td>63.207071</td>\n",
       "      <td>False</td>\n",
       "    </tr>\n",
       "    <tr>\n",
       "      <th>S</th>\n",
       "      <td>Swansea</td>\n",
       "      <td>230300</td>\n",
       "      <td>1680</td>\n",
       "      <td>0.007295</td>\n",
       "      <td>137.083333</td>\n",
       "      <td>False</td>\n",
       "    </tr>\n",
       "    <tr>\n",
       "      <th>C</th>\n",
       "      <td>Cardiff</td>\n",
       "      <td>335145</td>\n",
       "      <td>2100</td>\n",
       "      <td>0.006266</td>\n",
       "      <td>159.592857</td>\n",
       "      <td>True</td>\n",
       "    </tr>\n",
       "  </tbody>\n",
       "</table>\n",
       "</div>"
      ],
      "text/plain": [
       "                 name  population  n_pubs  pubs_per_capita  people_per_pub  \\\n",
       "Initials                                                                     \n",
       "M         Machynlleth        2235      48         0.021477       46.562500   \n",
       "A         Abergavenny       12515     198         0.015821       63.207071   \n",
       "S             Swansea      230300    1680         0.007295      137.083333   \n",
       "C             Cardiff      335145    2100         0.006266      159.592857   \n",
       "\n",
       "          crowded_pubs  \n",
       "Initials                \n",
       "M                False  \n",
       "A                False  \n",
       "S                False  \n",
       "C                 True  "
      ]
     },
     "execution_count": 27,
     "metadata": {},
     "output_type": "execute_result"
    }
   ],
   "source": [
    "# Use the .sort_values() method\n",
    "\n",
    "towns_df.sort_values(by = 'people_per_pub')"
   ]
  },
  {
   "cell_type": "code",
   "execution_count": 28,
   "id": "25f1dc9b-4ed9-432f-9be9-25c669f727f4",
   "metadata": {},
   "outputs": [
    {
     "data": {
      "text/html": [
       "<div>\n",
       "<style scoped>\n",
       "    .dataframe tbody tr th:only-of-type {\n",
       "        vertical-align: middle;\n",
       "    }\n",
       "\n",
       "    .dataframe tbody tr th {\n",
       "        vertical-align: top;\n",
       "    }\n",
       "\n",
       "    .dataframe thead th {\n",
       "        text-align: right;\n",
       "    }\n",
       "</style>\n",
       "<table border=\"1\" class=\"dataframe\">\n",
       "  <thead>\n",
       "    <tr style=\"text-align: right;\">\n",
       "      <th>Initials</th>\n",
       "      <th>C</th>\n",
       "      <th>S</th>\n",
       "      <th>A</th>\n",
       "      <th>M</th>\n",
       "    </tr>\n",
       "  </thead>\n",
       "  <tbody>\n",
       "    <tr>\n",
       "      <th>name</th>\n",
       "      <td>Cardiff</td>\n",
       "      <td>Swansea</td>\n",
       "      <td>Abergavenny</td>\n",
       "      <td>Machynlleth</td>\n",
       "    </tr>\n",
       "    <tr>\n",
       "      <th>population</th>\n",
       "      <td>335145</td>\n",
       "      <td>230300</td>\n",
       "      <td>12515</td>\n",
       "      <td>2235</td>\n",
       "    </tr>\n",
       "    <tr>\n",
       "      <th>n_pubs</th>\n",
       "      <td>2100</td>\n",
       "      <td>1680</td>\n",
       "      <td>198</td>\n",
       "      <td>48</td>\n",
       "    </tr>\n",
       "    <tr>\n",
       "      <th>pubs_per_capita</th>\n",
       "      <td>0.006266</td>\n",
       "      <td>0.007295</td>\n",
       "      <td>0.015821</td>\n",
       "      <td>0.021477</td>\n",
       "    </tr>\n",
       "    <tr>\n",
       "      <th>people_per_pub</th>\n",
       "      <td>159.592857</td>\n",
       "      <td>137.083333</td>\n",
       "      <td>63.207071</td>\n",
       "      <td>46.5625</td>\n",
       "    </tr>\n",
       "    <tr>\n",
       "      <th>crowded_pubs</th>\n",
       "      <td>True</td>\n",
       "      <td>False</td>\n",
       "      <td>False</td>\n",
       "      <td>False</td>\n",
       "    </tr>\n",
       "  </tbody>\n",
       "</table>\n",
       "</div>"
      ],
      "text/plain": [
       "Initials                  C           S            A            M\n",
       "name                Cardiff     Swansea  Abergavenny  Machynlleth\n",
       "population           335145      230300        12515         2235\n",
       "n_pubs                 2100        1680          198           48\n",
       "pubs_per_capita    0.006266    0.007295     0.015821     0.021477\n",
       "people_per_pub   159.592857  137.083333    63.207071      46.5625\n",
       "crowded_pubs           True       False        False        False"
      ]
     },
     "execution_count": 28,
     "metadata": {},
     "output_type": "execute_result"
    }
   ],
   "source": [
    "# Transposing a dataframe\n",
    "\n",
    "towns_df.T"
   ]
  },
  {
   "cell_type": "code",
   "execution_count": 29,
   "id": "def18dfc-80da-4269-a231-8c5e1c73a1a2",
   "metadata": {},
   "outputs": [
    {
     "data": {
      "text/plain": [
       "array([['Cardiff', 335145, 2100, 0.0062659445911471155,\n",
       "        159.59285714285716, True],\n",
       "       ['Swansea', 230300, 1680, 0.00729483282674772, 137.08333333333334,\n",
       "        False],\n",
       "       ['Abergavenny', 12515, 198, 0.015821014782261285,\n",
       "        63.207070707070706, False],\n",
       "       ['Machynlleth', 2235, 48, 0.021476510067114093, 46.5625, False]],\n",
       "      dtype=object)"
      ]
     },
     "execution_count": 29,
     "metadata": {},
     "output_type": "execute_result"
    }
   ],
   "source": [
    "# Convert a DF to a ndarray\n",
    "\n",
    "towns_df.to_numpy()"
   ]
  },
  {
   "cell_type": "markdown",
   "id": "800e2bb3-4831-49d2-9948-37a0ceea7ebe",
   "metadata": {
    "tags": []
   },
   "source": [
    "#### Operate on rows"
   ]
  },
  {
   "cell_type": "markdown",
   "id": "e5d706d2-24c6-4c70-9761-e333f63c7109",
   "metadata": {},
   "source": [
    "``loc`` method allows for selecting a row using the row index. "
   ]
  },
  {
   "cell_type": "code",
   "execution_count": 30,
   "id": "2f39c301-a9ff-4d10-a559-1dd552ba2255",
   "metadata": {
    "tags": []
   },
   "outputs": [
    {
     "data": {
      "text/plain": [
       "name                  Swansea\n",
       "population             230300\n",
       "n_pubs                   1680\n",
       "pubs_per_capita      0.007295\n",
       "people_per_pub     137.083333\n",
       "crowded_pubs            False\n",
       "Name: S, dtype: object"
      ]
     },
     "execution_count": 30,
     "metadata": {},
     "output_type": "execute_result"
    }
   ],
   "source": [
    "towns_df.loc['S']"
   ]
  },
  {
   "cell_type": "markdown",
   "id": "72b018b6-0be1-44ac-a7b1-0241c6959ecb",
   "metadata": {},
   "source": [
    "Use iloc to select a certain row number"
   ]
  },
  {
   "cell_type": "code",
   "execution_count": 31,
   "id": "2319fe4a-cca8-49ad-986d-9d17d7dc63a6",
   "metadata": {},
   "outputs": [
    {
     "data": {
      "text/html": [
       "<div>\n",
       "<style scoped>\n",
       "    .dataframe tbody tr th:only-of-type {\n",
       "        vertical-align: middle;\n",
       "    }\n",
       "\n",
       "    .dataframe tbody tr th {\n",
       "        vertical-align: top;\n",
       "    }\n",
       "\n",
       "    .dataframe thead th {\n",
       "        text-align: right;\n",
       "    }\n",
       "</style>\n",
       "<table border=\"1\" class=\"dataframe\">\n",
       "  <thead>\n",
       "    <tr style=\"text-align: right;\">\n",
       "      <th></th>\n",
       "      <th>name</th>\n",
       "      <th>population</th>\n",
       "      <th>n_pubs</th>\n",
       "      <th>pubs_per_capita</th>\n",
       "      <th>people_per_pub</th>\n",
       "      <th>crowded_pubs</th>\n",
       "    </tr>\n",
       "    <tr>\n",
       "      <th>Initials</th>\n",
       "      <th></th>\n",
       "      <th></th>\n",
       "      <th></th>\n",
       "      <th></th>\n",
       "      <th></th>\n",
       "      <th></th>\n",
       "    </tr>\n",
       "  </thead>\n",
       "  <tbody>\n",
       "    <tr>\n",
       "      <th>S</th>\n",
       "      <td>Swansea</td>\n",
       "      <td>230300</td>\n",
       "      <td>1680</td>\n",
       "      <td>0.007295</td>\n",
       "      <td>137.083333</td>\n",
       "      <td>False</td>\n",
       "    </tr>\n",
       "    <tr>\n",
       "      <th>A</th>\n",
       "      <td>Abergavenny</td>\n",
       "      <td>12515</td>\n",
       "      <td>198</td>\n",
       "      <td>0.015821</td>\n",
       "      <td>63.207071</td>\n",
       "      <td>False</td>\n",
       "    </tr>\n",
       "  </tbody>\n",
       "</table>\n",
       "</div>"
      ],
      "text/plain": [
       "                 name  population  n_pubs  pubs_per_capita  people_per_pub  \\\n",
       "Initials                                                                     \n",
       "S             Swansea      230300    1680         0.007295      137.083333   \n",
       "A         Abergavenny       12515     198         0.015821       63.207071   \n",
       "\n",
       "          crowded_pubs  \n",
       "Initials                \n",
       "S                False  \n",
       "A                False  "
      ]
     },
     "execution_count": 31,
     "metadata": {},
     "output_type": "execute_result"
    }
   ],
   "source": [
    "# Selects the second and the third row\n",
    "\n",
    "towns_df.iloc[[1,2]]"
   ]
  },
  {
   "cell_type": "code",
   "execution_count": 32,
   "id": "21ed8723-8ee8-41c4-a33d-4cfe1b002c8e",
   "metadata": {},
   "outputs": [
    {
     "data": {
      "text/plain": [
       "230300"
      ]
     },
     "execution_count": 32,
     "metadata": {},
     "output_type": "execute_result"
    }
   ],
   "source": [
    "# Select second row and second column\n",
    "\n",
    "towns_df.iloc[1, 1]"
   ]
  },
  {
   "cell_type": "markdown",
   "id": "bf34678c-eef8-4f48-a4c7-ed383df8f8a2",
   "metadata": {},
   "source": [
    "These operations allow for manipulating rows and columns at the same time"
   ]
  },
  {
   "cell_type": "code",
   "execution_count": 33,
   "id": "0a05f01b-21bd-4ba0-a50f-d05eab01d676",
   "metadata": {},
   "outputs": [
    {
     "data": {
      "text/html": [
       "<div>\n",
       "<style scoped>\n",
       "    .dataframe tbody tr th:only-of-type {\n",
       "        vertical-align: middle;\n",
       "    }\n",
       "\n",
       "    .dataframe tbody tr th {\n",
       "        vertical-align: top;\n",
       "    }\n",
       "\n",
       "    .dataframe thead th {\n",
       "        text-align: right;\n",
       "    }\n",
       "</style>\n",
       "<table border=\"1\" class=\"dataframe\">\n",
       "  <thead>\n",
       "    <tr style=\"text-align: right;\">\n",
       "      <th></th>\n",
       "      <th>name</th>\n",
       "      <th>n_pubs</th>\n",
       "    </tr>\n",
       "    <tr>\n",
       "      <th>Initials</th>\n",
       "      <th></th>\n",
       "      <th></th>\n",
       "    </tr>\n",
       "  </thead>\n",
       "  <tbody>\n",
       "    <tr>\n",
       "      <th>C</th>\n",
       "      <td>Cardiff</td>\n",
       "      <td>0</td>\n",
       "    </tr>\n",
       "    <tr>\n",
       "      <th>S</th>\n",
       "      <td>Swansea</td>\n",
       "      <td>0</td>\n",
       "    </tr>\n",
       "    <tr>\n",
       "      <th>A</th>\n",
       "      <td>Abergavenny</td>\n",
       "      <td>0</td>\n",
       "    </tr>\n",
       "    <tr>\n",
       "      <th>M</th>\n",
       "      <td>Machynlleth</td>\n",
       "      <td>0</td>\n",
       "    </tr>\n",
       "  </tbody>\n",
       "</table>\n",
       "</div>"
      ],
      "text/plain": [
       "                 name  n_pubs\n",
       "Initials                     \n",
       "C             Cardiff       0\n",
       "S             Swansea       0\n",
       "A         Abergavenny       0\n",
       "M         Machynlleth       0"
      ]
     },
     "execution_count": 33,
     "metadata": {},
     "output_type": "execute_result"
    }
   ],
   "source": [
    "# Slicing\n",
    "\n",
    "n_pubs = towns_df.loc[:, ['name', 'n_pubs']]\n",
    "n_pubs.loc[:,'n_pubs'] = 0\n",
    "n_pubs"
   ]
  },
  {
   "cell_type": "markdown",
   "id": "db1116f7-02ef-4e1f-b2ea-d27dc8442bdc",
   "metadata": {},
   "source": [
    "**Important**: Always use loc if you want to ensure the proper access to the right elements and that a _copy_ of a slice is returend"
   ]
  },
  {
   "cell_type": "code",
   "execution_count": 34,
   "id": "6cc73479-974e-4d33-8e2b-bf37f15133bf",
   "metadata": {},
   "outputs": [
    {
     "data": {
      "text/html": [
       "<div>\n",
       "<style scoped>\n",
       "    .dataframe tbody tr th:only-of-type {\n",
       "        vertical-align: middle;\n",
       "    }\n",
       "\n",
       "    .dataframe tbody tr th {\n",
       "        vertical-align: top;\n",
       "    }\n",
       "\n",
       "    .dataframe thead th {\n",
       "        text-align: right;\n",
       "    }\n",
       "</style>\n",
       "<table border=\"1\" class=\"dataframe\">\n",
       "  <thead>\n",
       "    <tr style=\"text-align: right;\">\n",
       "      <th></th>\n",
       "      <th>name</th>\n",
       "      <th>population</th>\n",
       "      <th>n_pubs</th>\n",
       "      <th>pubs_per_capita</th>\n",
       "      <th>people_per_pub</th>\n",
       "      <th>crowded_pubs</th>\n",
       "    </tr>\n",
       "    <tr>\n",
       "      <th>Initials</th>\n",
       "      <th></th>\n",
       "      <th></th>\n",
       "      <th></th>\n",
       "      <th></th>\n",
       "      <th></th>\n",
       "      <th></th>\n",
       "    </tr>\n",
       "  </thead>\n",
       "  <tbody>\n",
       "    <tr>\n",
       "      <th>C</th>\n",
       "      <td>Cardiff</td>\n",
       "      <td>335145</td>\n",
       "      <td>2100</td>\n",
       "      <td>0.006266</td>\n",
       "      <td>159.592857</td>\n",
       "      <td>True</td>\n",
       "    </tr>\n",
       "    <tr>\n",
       "      <th>S</th>\n",
       "      <td>Swansea</td>\n",
       "      <td>230300</td>\n",
       "      <td>1680</td>\n",
       "      <td>0.007295</td>\n",
       "      <td>137.083333</td>\n",
       "      <td>False</td>\n",
       "    </tr>\n",
       "    <tr>\n",
       "      <th>A</th>\n",
       "      <td>Abergavenny</td>\n",
       "      <td>12515</td>\n",
       "      <td>198</td>\n",
       "      <td>0.015821</td>\n",
       "      <td>63.207071</td>\n",
       "      <td>False</td>\n",
       "    </tr>\n",
       "    <tr>\n",
       "      <th>M</th>\n",
       "      <td>Machynlleth</td>\n",
       "      <td>2235</td>\n",
       "      <td>48</td>\n",
       "      <td>0.021477</td>\n",
       "      <td>46.562500</td>\n",
       "      <td>False</td>\n",
       "    </tr>\n",
       "  </tbody>\n",
       "</table>\n",
       "</div>"
      ],
      "text/plain": [
       "                 name  population  n_pubs  pubs_per_capita  people_per_pub  \\\n",
       "Initials                                                                     \n",
       "C             Cardiff      335145    2100         0.006266      159.592857   \n",
       "S             Swansea      230300    1680         0.007295      137.083333   \n",
       "A         Abergavenny       12515     198         0.015821       63.207071   \n",
       "M         Machynlleth        2235      48         0.021477       46.562500   \n",
       "\n",
       "          crowded_pubs  \n",
       "Initials                \n",
       "C                 True  \n",
       "S                False  \n",
       "A                False  \n",
       "M                False  "
      ]
     },
     "execution_count": 34,
     "metadata": {},
     "output_type": "execute_result"
    }
   ],
   "source": [
    "# The original DF is unaffected!\n",
    "\n",
    "towns_df"
   ]
  },
  {
   "cell_type": "markdown",
   "id": "a476cd99-e6c6-45d4-8561-e91328e6bcc4",
   "metadata": {},
   "source": [
    "List of all the main indexing function"
   ]
  },
  {
   "cell_type": "markdown",
   "id": "8cb4f413-baec-4bf0-9cb8-3bb931715af9",
   "metadata": {},
   "source": [
    "| Type                  | Notes                                                                                                                                                                                                 |\n",
    "| --------------------- | ----------------------------------------------------------------------------------------------------------------------------------------------------------------------------------------------------- |\n",
    "| `df[column]`          | Select single column or sequence of columns from the DataFrame; special case conveniences: boolean array (filter rows), slice (slice rows), or boolean DataFrame (set values based on some criterion) |\n",
    "| `df.loc[rows]`        | Select single row or subset of rows from the DataFrame by label                                                                                                                                       |\n",
    "| `df.loc[:, cols]`     | Select single column or subset of columns by label                                                                                                                                                    |\n",
    "| `df.loc[rows, cols]`  | Select both row(s) and column(s) by label                                                                                                                                                             |\n",
    "| `df.iloc[rows]`       | Select single row or subset of rows from the DataFrame by integer position                                                                                                                            |\n",
    "| `df.iloc[:, cols]`    | Select single column or subset of columns by integer position                                                                                                                                         |\n",
    "| `df.iloc[rows, cols]` | Select both row(s) and column(s) by integer position                                                                                                                                                  |\n",
    "| `df.at[row, col]`     | Select a single scalar value by row and column label                                                                                                                                                  |\n",
    "| `df.iat[row, col]`    | Select a single scalar value by row and column position (integers)                                                                                                                                    |\n",
    "| `reindex` method      | Select either rows or columns by labels                                                                                                                                                               |"
   ]
  },
  {
   "cell_type": "markdown",
   "id": "e8f5ee70-8a91-4df8-b33d-044cebcaa8e3",
   "metadata": {
    "tags": []
   },
   "source": [
    "### Manipulating indexes"
   ]
  },
  {
   "cell_type": "markdown",
   "id": "e5c34541-59e7-4b80-bbcb-ebee1beeb2db",
   "metadata": {},
   "source": [
    "An index of a DataFrame associates each row to a value"
   ]
  },
  {
   "cell_type": "code",
   "execution_count": 35,
   "id": "1691a8e7-1d6d-4716-a756-b72f6801500a",
   "metadata": {},
   "outputs": [
    {
     "data": {
      "text/html": [
       "<div>\n",
       "<style scoped>\n",
       "    .dataframe tbody tr th:only-of-type {\n",
       "        vertical-align: middle;\n",
       "    }\n",
       "\n",
       "    .dataframe tbody tr th {\n",
       "        vertical-align: top;\n",
       "    }\n",
       "\n",
       "    .dataframe thead th {\n",
       "        text-align: right;\n",
       "    }\n",
       "</style>\n",
       "<table border=\"1\" class=\"dataframe\">\n",
       "  <thead>\n",
       "    <tr style=\"text-align: right;\">\n",
       "      <th></th>\n",
       "      <th>name</th>\n",
       "      <th>population</th>\n",
       "      <th>n_pubs</th>\n",
       "      <th>pubs_per_capita</th>\n",
       "      <th>people_per_pub</th>\n",
       "      <th>crowded_pubs</th>\n",
       "    </tr>\n",
       "  </thead>\n",
       "  <tbody>\n",
       "    <tr>\n",
       "      <th>C</th>\n",
       "      <td>Cardiff</td>\n",
       "      <td>335145</td>\n",
       "      <td>2100</td>\n",
       "      <td>0.006266</td>\n",
       "      <td>159.592857</td>\n",
       "      <td>True</td>\n",
       "    </tr>\n",
       "    <tr>\n",
       "      <th>S</th>\n",
       "      <td>Swansea</td>\n",
       "      <td>230300</td>\n",
       "      <td>1680</td>\n",
       "      <td>0.007295</td>\n",
       "      <td>137.083333</td>\n",
       "      <td>False</td>\n",
       "    </tr>\n",
       "    <tr>\n",
       "      <th>A</th>\n",
       "      <td>Abergavenny</td>\n",
       "      <td>12515</td>\n",
       "      <td>198</td>\n",
       "      <td>0.015821</td>\n",
       "      <td>63.207071</td>\n",
       "      <td>False</td>\n",
       "    </tr>\n",
       "    <tr>\n",
       "      <th>M</th>\n",
       "      <td>Machynlleth</td>\n",
       "      <td>2235</td>\n",
       "      <td>48</td>\n",
       "      <td>0.021477</td>\n",
       "      <td>46.562500</td>\n",
       "      <td>False</td>\n",
       "    </tr>\n",
       "  </tbody>\n",
       "</table>\n",
       "</div>"
      ],
      "text/plain": [
       "          name  population  n_pubs  pubs_per_capita  people_per_pub  \\\n",
       "C      Cardiff      335145    2100         0.006266      159.592857   \n",
       "S      Swansea      230300    1680         0.007295      137.083333   \n",
       "A  Abergavenny       12515     198         0.015821       63.207071   \n",
       "M  Machynlleth        2235      48         0.021477       46.562500   \n",
       "\n",
       "   crowded_pubs  \n",
       "C          True  \n",
       "S         False  \n",
       "A         False  \n",
       "M         False  "
      ]
     },
     "execution_count": 35,
     "metadata": {},
     "output_type": "execute_result"
    }
   ],
   "source": [
    "# changing the index of a DataFrams\n",
    "\n",
    "towns_df.index = ['C', 'S','A', 'M']\n",
    "towns_df"
   ]
  },
  {
   "cell_type": "code",
   "execution_count": 36,
   "id": "804c6460-53c7-4656-b552-2b3e7418add7",
   "metadata": {},
   "outputs": [
    {
     "data": {
      "text/plain": [
       "Index(['C', 'S', 'A', 'M'], dtype='object')"
      ]
     },
     "execution_count": 36,
     "metadata": {},
     "output_type": "execute_result"
    }
   ],
   "source": [
    "# Each column has the sam index\n",
    "\n",
    "towns_df['population'].index"
   ]
  },
  {
   "cell_type": "markdown",
   "id": "d37a606f-a2b2-4cc2-94c7-800bb9a4592a",
   "metadata": {},
   "source": [
    "Reindex means to change the current index on data to reflect the new index. If a row does not exists, a new one is created with empty values"
   ]
  },
  {
   "cell_type": "code",
   "execution_count": 37,
   "id": "380f3a1e-7e0e-43f0-9ce2-981d7e014556",
   "metadata": {},
   "outputs": [
    {
     "data": {
      "text/html": [
       "<div>\n",
       "<style scoped>\n",
       "    .dataframe tbody tr th:only-of-type {\n",
       "        vertical-align: middle;\n",
       "    }\n",
       "\n",
       "    .dataframe tbody tr th {\n",
       "        vertical-align: top;\n",
       "    }\n",
       "\n",
       "    .dataframe thead th {\n",
       "        text-align: right;\n",
       "    }\n",
       "</style>\n",
       "<table border=\"1\" class=\"dataframe\">\n",
       "  <thead>\n",
       "    <tr style=\"text-align: right;\">\n",
       "      <th></th>\n",
       "      <th>name</th>\n",
       "      <th>population</th>\n",
       "      <th>n_pubs</th>\n",
       "      <th>pubs_per_capita</th>\n",
       "      <th>people_per_pub</th>\n",
       "      <th>crowded_pubs</th>\n",
       "    </tr>\n",
       "  </thead>\n",
       "  <tbody>\n",
       "    <tr>\n",
       "      <th>C</th>\n",
       "      <td>Cardiff</td>\n",
       "      <td>335145.0</td>\n",
       "      <td>2100.0</td>\n",
       "      <td>0.006266</td>\n",
       "      <td>159.592857</td>\n",
       "      <td>True</td>\n",
       "    </tr>\n",
       "    <tr>\n",
       "      <th>S</th>\n",
       "      <td>Swansea</td>\n",
       "      <td>230300.0</td>\n",
       "      <td>1680.0</td>\n",
       "      <td>0.007295</td>\n",
       "      <td>137.083333</td>\n",
       "      <td>False</td>\n",
       "    </tr>\n",
       "    <tr>\n",
       "      <th>A</th>\n",
       "      <td>Abergavenny</td>\n",
       "      <td>12515.0</td>\n",
       "      <td>198.0</td>\n",
       "      <td>0.015821</td>\n",
       "      <td>63.207071</td>\n",
       "      <td>False</td>\n",
       "    </tr>\n",
       "    <tr>\n",
       "      <th>M</th>\n",
       "      <td>Machynlleth</td>\n",
       "      <td>2235.0</td>\n",
       "      <td>48.0</td>\n",
       "      <td>0.021477</td>\n",
       "      <td>46.562500</td>\n",
       "      <td>False</td>\n",
       "    </tr>\n",
       "    <tr>\n",
       "      <th>B</th>\n",
       "      <td>NaN</td>\n",
       "      <td>NaN</td>\n",
       "      <td>NaN</td>\n",
       "      <td>NaN</td>\n",
       "      <td>NaN</td>\n",
       "      <td>NaN</td>\n",
       "    </tr>\n",
       "  </tbody>\n",
       "</table>\n",
       "</div>"
      ],
      "text/plain": [
       "          name  population  n_pubs  pubs_per_capita  people_per_pub  \\\n",
       "C      Cardiff    335145.0  2100.0         0.006266      159.592857   \n",
       "S      Swansea    230300.0  1680.0         0.007295      137.083333   \n",
       "A  Abergavenny     12515.0   198.0         0.015821       63.207071   \n",
       "M  Machynlleth      2235.0    48.0         0.021477       46.562500   \n",
       "B          NaN         NaN     NaN              NaN             NaN   \n",
       "\n",
       "  crowded_pubs  \n",
       "C         True  \n",
       "S        False  \n",
       "A        False  \n",
       "M        False  \n",
       "B          NaN  "
      ]
     },
     "execution_count": 37,
     "metadata": {},
     "output_type": "execute_result"
    }
   ],
   "source": [
    "towns_df.reindex(['C', 'S', 'A', 'M', 'B'])"
   ]
  },
  {
   "cell_type": "markdown",
   "id": "29f225f4-1999-4d7a-97bd-372c6e3f39bc",
   "metadata": {
    "tags": []
   },
   "source": [
    "### Basic operations with multiple Data Frames\n",
    "\n",
    "Pandas suppports a wealth of algebraic operations among series and data frames."
   ]
  },
  {
   "cell_type": "code",
   "execution_count": 38,
   "id": "4aa8576b-848d-4e11-a22d-bba6eac6957a",
   "metadata": {},
   "outputs": [
    {
     "data": {
      "text/html": [
       "<div>\n",
       "<style scoped>\n",
       "    .dataframe tbody tr th:only-of-type {\n",
       "        vertical-align: middle;\n",
       "    }\n",
       "\n",
       "    .dataframe tbody tr th {\n",
       "        vertical-align: top;\n",
       "    }\n",
       "\n",
       "    .dataframe thead th {\n",
       "        text-align: right;\n",
       "    }\n",
       "</style>\n",
       "<table border=\"1\" class=\"dataframe\">\n",
       "  <thead>\n",
       "    <tr style=\"text-align: right;\">\n",
       "      <th></th>\n",
       "      <th>population</th>\n",
       "      <th>n_pubs</th>\n",
       "    </tr>\n",
       "  </thead>\n",
       "  <tbody>\n",
       "    <tr>\n",
       "      <th>C</th>\n",
       "      <td>0.0</td>\n",
       "      <td>1.0</td>\n",
       "    </tr>\n",
       "    <tr>\n",
       "      <th>S</th>\n",
       "      <td>2.0</td>\n",
       "      <td>3.0</td>\n",
       "    </tr>\n",
       "    <tr>\n",
       "      <th>D</th>\n",
       "      <td>4.0</td>\n",
       "      <td>5.0</td>\n",
       "    </tr>\n",
       "    <tr>\n",
       "      <th>L</th>\n",
       "      <td>6.0</td>\n",
       "      <td>7.0</td>\n",
       "    </tr>\n",
       "  </tbody>\n",
       "</table>\n",
       "</div>"
      ],
      "text/plain": [
       "   population  n_pubs\n",
       "C         0.0     1.0\n",
       "S         2.0     3.0\n",
       "D         4.0     5.0\n",
       "L         6.0     7.0"
      ]
     },
     "execution_count": 38,
     "metadata": {},
     "output_type": "execute_result"
    }
   ],
   "source": [
    "t2 = pd.DataFrame(np.arange(8.).reshape((4, 2)), columns=['population', 'n_pubs'],\n",
    "                   index=[\"C\", \"S\", \"D\", \"L\"])\n",
    "t2"
   ]
  },
  {
   "cell_type": "code",
   "execution_count": 39,
   "id": "9b5425d0-8986-4a11-bc42-493e25ee552e",
   "metadata": {},
   "outputs": [
    {
     "data": {
      "text/html": [
       "<div>\n",
       "<style scoped>\n",
       "    .dataframe tbody tr th:only-of-type {\n",
       "        vertical-align: middle;\n",
       "    }\n",
       "\n",
       "    .dataframe tbody tr th {\n",
       "        vertical-align: top;\n",
       "    }\n",
       "\n",
       "    .dataframe thead th {\n",
       "        text-align: right;\n",
       "    }\n",
       "</style>\n",
       "<table border=\"1\" class=\"dataframe\">\n",
       "  <thead>\n",
       "    <tr style=\"text-align: right;\">\n",
       "      <th></th>\n",
       "      <th>crowded_pubs</th>\n",
       "      <th>n_pubs</th>\n",
       "      <th>name</th>\n",
       "      <th>people_per_pub</th>\n",
       "      <th>population</th>\n",
       "      <th>pubs_per_capita</th>\n",
       "    </tr>\n",
       "  </thead>\n",
       "  <tbody>\n",
       "    <tr>\n",
       "      <th>A</th>\n",
       "      <td>NaN</td>\n",
       "      <td>NaN</td>\n",
       "      <td>NaN</td>\n",
       "      <td>NaN</td>\n",
       "      <td>NaN</td>\n",
       "      <td>NaN</td>\n",
       "    </tr>\n",
       "    <tr>\n",
       "      <th>C</th>\n",
       "      <td>NaN</td>\n",
       "      <td>2101.0</td>\n",
       "      <td>NaN</td>\n",
       "      <td>NaN</td>\n",
       "      <td>335145.0</td>\n",
       "      <td>NaN</td>\n",
       "    </tr>\n",
       "    <tr>\n",
       "      <th>D</th>\n",
       "      <td>NaN</td>\n",
       "      <td>NaN</td>\n",
       "      <td>NaN</td>\n",
       "      <td>NaN</td>\n",
       "      <td>NaN</td>\n",
       "      <td>NaN</td>\n",
       "    </tr>\n",
       "    <tr>\n",
       "      <th>L</th>\n",
       "      <td>NaN</td>\n",
       "      <td>NaN</td>\n",
       "      <td>NaN</td>\n",
       "      <td>NaN</td>\n",
       "      <td>NaN</td>\n",
       "      <td>NaN</td>\n",
       "    </tr>\n",
       "    <tr>\n",
       "      <th>M</th>\n",
       "      <td>NaN</td>\n",
       "      <td>NaN</td>\n",
       "      <td>NaN</td>\n",
       "      <td>NaN</td>\n",
       "      <td>NaN</td>\n",
       "      <td>NaN</td>\n",
       "    </tr>\n",
       "    <tr>\n",
       "      <th>S</th>\n",
       "      <td>NaN</td>\n",
       "      <td>1683.0</td>\n",
       "      <td>NaN</td>\n",
       "      <td>NaN</td>\n",
       "      <td>230302.0</td>\n",
       "      <td>NaN</td>\n",
       "    </tr>\n",
       "  </tbody>\n",
       "</table>\n",
       "</div>"
      ],
      "text/plain": [
       "   crowded_pubs  n_pubs  name  people_per_pub  population  pubs_per_capita\n",
       "A           NaN     NaN   NaN             NaN         NaN              NaN\n",
       "C           NaN  2101.0   NaN             NaN    335145.0              NaN\n",
       "D           NaN     NaN   NaN             NaN         NaN              NaN\n",
       "L           NaN     NaN   NaN             NaN         NaN              NaN\n",
       "M           NaN     NaN   NaN             NaN         NaN              NaN\n",
       "S           NaN  1683.0   NaN             NaN    230302.0              NaN"
      ]
     },
     "execution_count": 39,
     "metadata": {},
     "output_type": "execute_result"
    }
   ],
   "source": [
    "# Summing two data frames sums rows and columns common to both dataframes, and reindex the original DF creating rows with NaN\n",
    "\n",
    "towns_df + t2"
   ]
  },
  {
   "cell_type": "code",
   "execution_count": 40,
   "id": "c4153fe9-dba3-4183-8084-f94b10d23467",
   "metadata": {},
   "outputs": [
    {
     "data": {
      "text/html": [
       "<div>\n",
       "<style scoped>\n",
       "    .dataframe tbody tr th:only-of-type {\n",
       "        vertical-align: middle;\n",
       "    }\n",
       "\n",
       "    .dataframe tbody tr th {\n",
       "        vertical-align: top;\n",
       "    }\n",
       "\n",
       "    .dataframe thead th {\n",
       "        text-align: right;\n",
       "    }\n",
       "</style>\n",
       "<table border=\"1\" class=\"dataframe\">\n",
       "  <thead>\n",
       "    <tr style=\"text-align: right;\">\n",
       "      <th></th>\n",
       "      <th>n_pubs</th>\n",
       "      <th>population</th>\n",
       "    </tr>\n",
       "  </thead>\n",
       "  <tbody>\n",
       "    <tr>\n",
       "      <th>A</th>\n",
       "      <td>198.0</td>\n",
       "      <td>12515.0</td>\n",
       "    </tr>\n",
       "    <tr>\n",
       "      <th>C</th>\n",
       "      <td>2101.0</td>\n",
       "      <td>335145.0</td>\n",
       "    </tr>\n",
       "    <tr>\n",
       "      <th>D</th>\n",
       "      <td>5.0</td>\n",
       "      <td>4.0</td>\n",
       "    </tr>\n",
       "    <tr>\n",
       "      <th>L</th>\n",
       "      <td>7.0</td>\n",
       "      <td>6.0</td>\n",
       "    </tr>\n",
       "    <tr>\n",
       "      <th>M</th>\n",
       "      <td>48.0</td>\n",
       "      <td>2235.0</td>\n",
       "    </tr>\n",
       "    <tr>\n",
       "      <th>S</th>\n",
       "      <td>1683.0</td>\n",
       "      <td>230302.0</td>\n",
       "    </tr>\n",
       "  </tbody>\n",
       "</table>\n",
       "</div>"
      ],
      "text/plain": [
       "   n_pubs  population\n",
       "A   198.0     12515.0\n",
       "C  2101.0    335145.0\n",
       "D     5.0         4.0\n",
       "L     7.0         6.0\n",
       "M    48.0      2235.0\n",
       "S  1683.0    230302.0"
      ]
     },
     "execution_count": 40,
     "metadata": {},
     "output_type": "execute_result"
    }
   ],
   "source": [
    "# Create a slice to avoid filling with NaN\n",
    "\n",
    "t1 = towns_df.loc[:,['n_pubs', 'population']]\n",
    "\n",
    "t1.add(t2, fill_value=0)"
   ]
  },
  {
   "cell_type": "code",
   "execution_count": 41,
   "id": "01d4c0b1-f7f4-4f97-9950-a8823fc79510",
   "metadata": {},
   "outputs": [
    {
     "name": "stdout",
     "output_type": "stream",
     "text": [
      "C    598\n",
      "S    458\n",
      "A    939\n",
      "M    475\n",
      "dtype: int64\n"
     ]
    },
    {
     "data": {
      "text/plain": [
       "C    335743\n",
       "S    230758\n",
       "A     13454\n",
       "M      2710\n",
       "dtype: int64"
      ]
     },
     "execution_count": 41,
     "metadata": {},
     "output_type": "execute_result"
    }
   ],
   "source": [
    "# Similarly it is possible to perform row by row summations\n",
    "\n",
    "towns_df = towns_df.loc[:,['n_pubs', 'population', 'people_per_pub']]\n",
    "\n",
    "new_borns = pd.Series(np.random.randint(100, 1000, size=4), index=towns_df.index)\n",
    "print(new_borns)\n",
    "\n",
    "towns_df.loc[:,'population'] + new_borns\n"
   ]
  },
  {
   "cell_type": "markdown",
   "id": "2f7190ef-4d5a-49aa-a30c-8ea33521a5db",
   "metadata": {},
   "source": [
    "#### Function application"
   ]
  },
  {
   "cell_type": "code",
   "execution_count": 42,
   "id": "b9aa58f3-e788-4078-9de0-cf8477ff9e03",
   "metadata": {},
   "outputs": [
    {
     "data": {
      "text/plain": [
       "n_pubs              2052.000000\n",
       "population        332910.000000\n",
       "people_per_pub       113.030357\n",
       "dtype: float64"
      ]
     },
     "execution_count": 42,
     "metadata": {},
     "output_type": "execute_result"
    }
   ],
   "source": [
    "# Apply functions to each column \n",
    "\n",
    "def f1(x):\n",
    "    return x.max() - x.min()\n",
    "\n",
    "towns_df.apply(f1)"
   ]
  },
  {
   "cell_type": "code",
   "execution_count": 43,
   "id": "69074c4f-e731-46db-aaac-3a921e373434",
   "metadata": {},
   "outputs": [
    {
     "data": {
      "text/plain": [
       "C    334985.407143\n",
       "S    230162.916667\n",
       "A     12451.792929\n",
       "M      2188.437500\n",
       "dtype: float64"
      ]
     },
     "execution_count": 43,
     "metadata": {},
     "output_type": "execute_result"
    }
   ],
   "source": [
    "# Apply functions per row\n",
    "\n",
    "towns_df.apply(f1, axis=\"columns\")"
   ]
  },
  {
   "cell_type": "code",
   "execution_count": 44,
   "id": "8b07060d-71e9-47cc-aede-e08c496f7fd2",
   "metadata": {},
   "outputs": [
    {
     "data": {
      "text/html": [
       "<div>\n",
       "<style scoped>\n",
       "    .dataframe tbody tr th:only-of-type {\n",
       "        vertical-align: middle;\n",
       "    }\n",
       "\n",
       "    .dataframe tbody tr th {\n",
       "        vertical-align: top;\n",
       "    }\n",
       "\n",
       "    .dataframe thead th {\n",
       "        text-align: right;\n",
       "    }\n",
       "</style>\n",
       "<table border=\"1\" class=\"dataframe\">\n",
       "  <thead>\n",
       "    <tr style=\"text-align: right;\">\n",
       "      <th></th>\n",
       "      <th>n_pubs</th>\n",
       "      <th>population</th>\n",
       "      <th>people_per_pub</th>\n",
       "    </tr>\n",
       "  </thead>\n",
       "  <tbody>\n",
       "    <tr>\n",
       "      <th>C</th>\n",
       "      <td>1</td>\n",
       "      <td>1</td>\n",
       "      <td>0</td>\n",
       "    </tr>\n",
       "    <tr>\n",
       "      <th>S</th>\n",
       "      <td>1</td>\n",
       "      <td>1</td>\n",
       "      <td>0</td>\n",
       "    </tr>\n",
       "    <tr>\n",
       "      <th>A</th>\n",
       "      <td>0</td>\n",
       "      <td>1</td>\n",
       "      <td>0</td>\n",
       "    </tr>\n",
       "    <tr>\n",
       "      <th>M</th>\n",
       "      <td>0</td>\n",
       "      <td>1</td>\n",
       "      <td>0</td>\n",
       "    </tr>\n",
       "  </tbody>\n",
       "</table>\n",
       "</div>"
      ],
      "text/plain": [
       "   n_pubs  population  people_per_pub\n",
       "C       1           1               0\n",
       "S       1           1               0\n",
       "A       0           1               0\n",
       "M       0           1               0"
      ]
     },
     "execution_count": 44,
     "metadata": {},
     "output_type": "execute_result"
    }
   ],
   "source": [
    "# Apply functions to each element\n",
    "\n",
    "def binarize(x):\n",
    "    return 1 if x > 1000 else 0\n",
    "\n",
    "towns_df.applymap(binarize)"
   ]
  },
  {
   "cell_type": "code",
   "execution_count": 45,
   "id": "6080d7fd-3bf0-4152-bd5c-1f1356b04628",
   "metadata": {},
   "outputs": [
    {
     "data": {
      "text/html": [
       "<div>\n",
       "<style scoped>\n",
       "    .dataframe tbody tr th:only-of-type {\n",
       "        vertical-align: middle;\n",
       "    }\n",
       "\n",
       "    .dataframe tbody tr th {\n",
       "        vertical-align: top;\n",
       "    }\n",
       "\n",
       "    .dataframe thead th {\n",
       "        text-align: right;\n",
       "    }\n",
       "</style>\n",
       "<table border=\"1\" class=\"dataframe\">\n",
       "  <thead>\n",
       "    <tr style=\"text-align: right;\">\n",
       "      <th></th>\n",
       "      <th>n_pubs</th>\n",
       "      <th>population</th>\n",
       "      <th>people_per_pub</th>\n",
       "    </tr>\n",
       "  </thead>\n",
       "  <tbody>\n",
       "    <tr>\n",
       "      <th>M</th>\n",
       "      <td>48</td>\n",
       "      <td>2235</td>\n",
       "      <td>46.562500</td>\n",
       "    </tr>\n",
       "    <tr>\n",
       "      <th>A</th>\n",
       "      <td>198</td>\n",
       "      <td>12515</td>\n",
       "      <td>63.207071</td>\n",
       "    </tr>\n",
       "    <tr>\n",
       "      <th>S</th>\n",
       "      <td>1680</td>\n",
       "      <td>230300</td>\n",
       "      <td>137.083333</td>\n",
       "    </tr>\n",
       "    <tr>\n",
       "      <th>C</th>\n",
       "      <td>2100</td>\n",
       "      <td>335145</td>\n",
       "      <td>159.592857</td>\n",
       "    </tr>\n",
       "  </tbody>\n",
       "</table>\n",
       "</div>"
      ],
      "text/plain": [
       "   n_pubs  population  people_per_pub\n",
       "M      48        2235       46.562500\n",
       "A     198       12515       63.207071\n",
       "S    1680      230300      137.083333\n",
       "C    2100      335145      159.592857"
      ]
     },
     "execution_count": 45,
     "metadata": {},
     "output_type": "execute_result"
    }
   ],
   "source": [
    "# Sorting values\n",
    "\n",
    "towns_df.sort_values('population')"
   ]
  },
  {
   "cell_type": "markdown",
   "id": "cc3532f7-1c8e-46a4-94bb-03636b317300",
   "metadata": {},
   "source": [
    "### Descriptive Statistics "
   ]
  },
  {
   "cell_type": "code",
   "execution_count": 46,
   "id": "79c2bd07-edf4-4e78-b55c-4785074e6c37",
   "metadata": {},
   "outputs": [
    {
     "data": {
      "text/plain": [
       "n_pubs              4026.000000\n",
       "population        580195.000000\n",
       "people_per_pub       406.445761\n",
       "dtype: float64"
      ]
     },
     "execution_count": 46,
     "metadata": {},
     "output_type": "execute_result"
    }
   ],
   "source": [
    "# Sum of all the columns\n",
    "\n",
    "towns_df.sum()"
   ]
  },
  {
   "cell_type": "code",
   "execution_count": 47,
   "id": "845f270c-f6f8-4ff2-8898-bb4d62bea16a",
   "metadata": {},
   "outputs": [
    {
     "data": {
      "text/plain": [
       "C    337404.592857\n",
       "S    232117.083333\n",
       "A     12776.207071\n",
       "M      2329.562500\n",
       "dtype: float64"
      ]
     },
     "execution_count": 47,
     "metadata": {},
     "output_type": "execute_result"
    }
   ],
   "source": [
    "# Sum of all the rows\n",
    "\n",
    "towns_df.sum(axis=\"columns\")"
   ]
  },
  {
   "cell_type": "code",
   "execution_count": 48,
   "id": "7291b3ca-985e-413a-9623-3f12d09c03b7",
   "metadata": {},
   "outputs": [
    {
     "data": {
      "text/plain": [
       "n_pubs              4026.000000\n",
       "population        580195.000000\n",
       "people_per_pub       406.445761\n",
       "dtype: float64"
      ]
     },
     "execution_count": 48,
     "metadata": {},
     "output_type": "execute_result"
    }
   ],
   "source": [
    "towns_df.sum(axis=\"index\", skipna=False)"
   ]
  },
  {
   "cell_type": "code",
   "execution_count": 49,
   "id": "86182168-ff8d-4b6f-8f7b-f03093c87877",
   "metadata": {},
   "outputs": [
    {
     "data": {
      "text/plain": [
       "C    112468.197619\n",
       "S     77372.361111\n",
       "A      4258.735690\n",
       "M       776.520833\n",
       "dtype: float64"
      ]
     },
     "execution_count": 49,
     "metadata": {},
     "output_type": "execute_result"
    }
   ],
   "source": [
    "# Compute the mean across all columns\n",
    "towns_df.mean(axis=\"columns\")"
   ]
  },
  {
   "cell_type": "code",
   "execution_count": 50,
   "id": "a244421a-a1ae-4902-9628-126b94652c62",
   "metadata": {},
   "outputs": [
    {
     "data": {
      "text/plain": [
       "n_pubs            C\n",
       "population        C\n",
       "people_per_pub    C\n",
       "dtype: object"
      ]
     },
     "execution_count": 50,
     "metadata": {},
     "output_type": "execute_result"
    }
   ],
   "source": [
    "# Return the row containing the maximum for each column\n",
    "towns_df.idxmax()"
   ]
  },
  {
   "cell_type": "code",
   "execution_count": 51,
   "id": "33d94931-a555-41d7-802e-7bde1ea6649b",
   "metadata": {},
   "outputs": [
    {
     "data": {
      "text/html": [
       "<div>\n",
       "<style scoped>\n",
       "    .dataframe tbody tr th:only-of-type {\n",
       "        vertical-align: middle;\n",
       "    }\n",
       "\n",
       "    .dataframe tbody tr th {\n",
       "        vertical-align: top;\n",
       "    }\n",
       "\n",
       "    .dataframe thead th {\n",
       "        text-align: right;\n",
       "    }\n",
       "</style>\n",
       "<table border=\"1\" class=\"dataframe\">\n",
       "  <thead>\n",
       "    <tr style=\"text-align: right;\">\n",
       "      <th></th>\n",
       "      <th>n_pubs</th>\n",
       "      <th>population</th>\n",
       "      <th>people_per_pub</th>\n",
       "    </tr>\n",
       "  </thead>\n",
       "  <tbody>\n",
       "    <tr>\n",
       "      <th>count</th>\n",
       "      <td>4.000000</td>\n",
       "      <td>4.000000</td>\n",
       "      <td>4.000000</td>\n",
       "    </tr>\n",
       "    <tr>\n",
       "      <th>mean</th>\n",
       "      <td>1006.500000</td>\n",
       "      <td>145048.750000</td>\n",
       "      <td>101.611440</td>\n",
       "    </tr>\n",
       "    <tr>\n",
       "      <th>std</th>\n",
       "      <td>1036.297737</td>\n",
       "      <td>164686.896836</td>\n",
       "      <td>55.152459</td>\n",
       "    </tr>\n",
       "    <tr>\n",
       "      <th>min</th>\n",
       "      <td>48.000000</td>\n",
       "      <td>2235.000000</td>\n",
       "      <td>46.562500</td>\n",
       "    </tr>\n",
       "    <tr>\n",
       "      <th>25%</th>\n",
       "      <td>160.500000</td>\n",
       "      <td>9945.000000</td>\n",
       "      <td>59.045928</td>\n",
       "    </tr>\n",
       "    <tr>\n",
       "      <th>50%</th>\n",
       "      <td>939.000000</td>\n",
       "      <td>121407.500000</td>\n",
       "      <td>100.145202</td>\n",
       "    </tr>\n",
       "    <tr>\n",
       "      <th>75%</th>\n",
       "      <td>1785.000000</td>\n",
       "      <td>256511.250000</td>\n",
       "      <td>142.710714</td>\n",
       "    </tr>\n",
       "    <tr>\n",
       "      <th>max</th>\n",
       "      <td>2100.000000</td>\n",
       "      <td>335145.000000</td>\n",
       "      <td>159.592857</td>\n",
       "    </tr>\n",
       "  </tbody>\n",
       "</table>\n",
       "</div>"
      ],
      "text/plain": [
       "            n_pubs     population  people_per_pub\n",
       "count     4.000000       4.000000        4.000000\n",
       "mean   1006.500000  145048.750000      101.611440\n",
       "std    1036.297737  164686.896836       55.152459\n",
       "min      48.000000    2235.000000       46.562500\n",
       "25%     160.500000    9945.000000       59.045928\n",
       "50%     939.000000  121407.500000      100.145202\n",
       "75%    1785.000000  256511.250000      142.710714\n",
       "max    2100.000000  335145.000000      159.592857"
      ]
     },
     "execution_count": 51,
     "metadata": {},
     "output_type": "execute_result"
    }
   ],
   "source": [
    "# Return a set of basic statistics\n",
    "towns_df.describe()"
   ]
  },
  {
   "cell_type": "code",
   "execution_count": 52,
   "id": "d4e13bf3-1868-4c3a-bca9-5d31bcc55342",
   "metadata": {},
   "outputs": [
    {
     "data": {
      "text/html": [
       "<div>\n",
       "<style scoped>\n",
       "    .dataframe tbody tr th:only-of-type {\n",
       "        vertical-align: middle;\n",
       "    }\n",
       "\n",
       "    .dataframe tbody tr th {\n",
       "        vertical-align: top;\n",
       "    }\n",
       "\n",
       "    .dataframe thead th {\n",
       "        text-align: right;\n",
       "    }\n",
       "</style>\n",
       "<table border=\"1\" class=\"dataframe\">\n",
       "  <thead>\n",
       "    <tr style=\"text-align: right;\">\n",
       "      <th></th>\n",
       "      <th>n_pubs</th>\n",
       "      <th>population</th>\n",
       "      <th>people_per_pub</th>\n",
       "    </tr>\n",
       "  </thead>\n",
       "  <tbody>\n",
       "    <tr>\n",
       "      <th>n_pubs</th>\n",
       "      <td>1.073913e+06</td>\n",
       "      <td>1.697758e+08</td>\n",
       "      <td>5.703578e+04</td>\n",
       "    </tr>\n",
       "    <tr>\n",
       "      <th>population</th>\n",
       "      <td>1.697758e+08</td>\n",
       "      <td>2.712177e+10</td>\n",
       "      <td>8.999231e+06</td>\n",
       "    </tr>\n",
       "    <tr>\n",
       "      <th>people_per_pub</th>\n",
       "      <td>5.703578e+04</td>\n",
       "      <td>8.999231e+06</td>\n",
       "      <td>3.041794e+03</td>\n",
       "    </tr>\n",
       "  </tbody>\n",
       "</table>\n",
       "</div>"
      ],
      "text/plain": [
       "                      n_pubs    population  people_per_pub\n",
       "n_pubs          1.073913e+06  1.697758e+08    5.703578e+04\n",
       "population      1.697758e+08  2.712177e+10    8.999231e+06\n",
       "people_per_pub  5.703578e+04  8.999231e+06    3.041794e+03"
      ]
     },
     "execution_count": 52,
     "metadata": {},
     "output_type": "execute_result"
    }
   ],
   "source": [
    "# Covariances\n",
    "towns_df.cov()"
   ]
  },
  {
   "cell_type": "code",
   "execution_count": 53,
   "id": "0c5550f9-fcd5-478c-83af-b7e1118d9afc",
   "metadata": {},
   "outputs": [
    {
     "data": {
      "text/html": [
       "<div>\n",
       "<style scoped>\n",
       "    .dataframe tbody tr th:only-of-type {\n",
       "        vertical-align: middle;\n",
       "    }\n",
       "\n",
       "    .dataframe tbody tr th {\n",
       "        vertical-align: top;\n",
       "    }\n",
       "\n",
       "    .dataframe thead th {\n",
       "        text-align: right;\n",
       "    }\n",
       "</style>\n",
       "<table border=\"1\" class=\"dataframe\">\n",
       "  <thead>\n",
       "    <tr style=\"text-align: right;\">\n",
       "      <th></th>\n",
       "      <th>n_pubs</th>\n",
       "      <th>population</th>\n",
       "      <th>people_per_pub</th>\n",
       "    </tr>\n",
       "  </thead>\n",
       "  <tbody>\n",
       "    <tr>\n",
       "      <th>n_pubs</th>\n",
       "      <td>1.000000</td>\n",
       "      <td>0.994792</td>\n",
       "      <td>0.997925</td>\n",
       "    </tr>\n",
       "    <tr>\n",
       "      <th>population</th>\n",
       "      <td>0.994792</td>\n",
       "      <td>1.000000</td>\n",
       "      <td>0.990790</td>\n",
       "    </tr>\n",
       "    <tr>\n",
       "      <th>people_per_pub</th>\n",
       "      <td>0.997925</td>\n",
       "      <td>0.990790</td>\n",
       "      <td>1.000000</td>\n",
       "    </tr>\n",
       "  </tbody>\n",
       "</table>\n",
       "</div>"
      ],
      "text/plain": [
       "                  n_pubs  population  people_per_pub\n",
       "n_pubs          1.000000    0.994792        0.997925\n",
       "population      0.994792    1.000000        0.990790\n",
       "people_per_pub  0.997925    0.990790        1.000000"
      ]
     },
     "execution_count": 53,
     "metadata": {},
     "output_type": "execute_result"
    }
   ],
   "source": [
    "# Correlations\n",
    "towns_df.corr()"
   ]
  },
  {
   "cell_type": "markdown",
   "id": "51a45475-576e-4778-be8f-121fad0426e2",
   "metadata": {
    "tags": []
   },
   "source": [
    "### Bonus: Plot outputs\n",
    "\n",
    "You will see more in the afternoon, but this is something interesting that you can do with Pandas"
   ]
  },
  {
   "cell_type": "code",
   "execution_count": 54,
   "id": "0aeaf2bd-bd33-47ea-9538-970cb1373f11",
   "metadata": {},
   "outputs": [
    {
     "data": {
      "text/plain": [
       "<AxesSubplot:title={'center':'Some great towns to visit'}, xlabel='name'>"
      ]
     },
     "execution_count": 54,
     "metadata": {},
     "output_type": "execute_result"
    },
    {
     "data": {
      "image/png": "[encoded data removed]",
      "text/plain": [
       "<Figure size 640x480 with 1 Axes>"
      ]
     },
     "metadata": {},
     "output_type": "display_data"
    }
   ],
   "source": [
    "import matplotlib\n",
    "\n",
    "# Plot charts using the .plot() method \n",
    "towns_df['name'] = towns\n",
    "towns_df['pubs_per_capita'] = towns_df.n_pubs / towns_df.population\n",
    "\n",
    "towns_df.plot(x = 'name', y = 'pubs_per_capita', kind = 'bar', title = 'Some great towns to visit')"
   ]
  },
  {
   "cell_type": "code",
   "execution_count": null,
   "id": "36d33f41-1701-400a-a36c-da58daa8c399",
   "metadata": {},
   "outputs": [],
   "source": []
  }
 ],
 "metadata": {
  "kernelspec": {
   "display_name": "Python 3 (ipykernel)",
   "language": "python",
   "name": "python3"
  },
  "language_info": {
   "codemirror_mode": {
    "name": "ipython",
    "version": 3
   },
   "file_extension": ".py",
   "mimetype": "text/x-python",
   "name": "python",
   "nbconvert_exporter": "python",
   "pygments_lexer": "ipython3",
   "version": "3.10.4"
  }
 },
 "nbformat": 4,
 "nbformat_minor": 5
}
